{
  "nbformat": 4,
  "nbformat_minor": 0,
  "metadata": {
    "colab": {
      "provenance": [],
      "authorship_tag": "ABX9TyOMVjT+65cT9iMurLMUURyH",
      "include_colab_link": true
    },
    "kernelspec": {
      "name": "python3",
      "display_name": "Python 3"
    },
    "language_info": {
      "name": "python"
    }
  },
  "cells": [
    {
      "cell_type": "markdown",
      "metadata": {
        "id": "view-in-github",
        "colab_type": "text"
      },
      "source": [
        "<a href=\"https://colab.research.google.com/github/ruthika11/ipython-notebook-examples/blob/master/HR_Data.ipynb\" target=\"_parent\"><img src=\"https://colab.research.google.com/assets/colab-badge.svg\" alt=\"Open In Colab\"/></a>"
      ]
    },
    {
      "cell_type": "markdown",
      "source": [
        "# **Questions:**\n",
        "Department in this document means the column \"sales\".\n",
        "\n",
        "**1**.How many employees in each of the department (use column \"sales\")      \n",
        "Output:\n",
        "sales,num_employees\n",
        "\n",
        "**2**.Among employees who left, get the department wise (use column \"sales\"), number of employees and rank them.  \n",
        "Output:\n",
        "sales,num_employees,rank\n",
        "\n",
        "**3**.Average number of years (time_spend_company) and average number of monthly hours (average_monthly_hours) for the employees left and not left under each department. Sort the value by sales.  \n",
        "Output:\n",
        "left,sales,avg_time_spend_company,avg_average_monthly_hours\n",
        "\n",
        "**4**.Under each department, what is the minimum and maximum for both left and not left employees related to time_spend_company and average_monthly_hours. Sort the value by sales.  \n",
        "Output:\n",
        "left,sales,min_time_spend_company,max_time_spend_company,min_average_monthly_hours,max_average_monthly_hours\n",
        "\n",
        "**5**.Under each department, what is the minimum, maximum, average on last evaluation (last_evaluation) and satisfaction level (satisfaction_level) for both left and not left. Sort the value by sales.     \n",
        "Output:  \n",
        "left,sales,min_last_evaluation,max_last_evaluation,avg_last_evaluation, min_satisfaction_level, max_satisfaction_level,avg_satisfaction_level\n",
        "\n",
        "**6**.Under each department, what is the count on work accidents (work_accident) and promotion for the last 5 years (promotion_last_5years) for both left and not left. Sort the value by sales.\n",
        "Output:\n",
        "left,sales,count_work_accident,count_promotion_last_5years\n",
        "\n",
        "**7**.Bring the output from question 3-6 above.\n",
        "\n",
        "Output:\n",
        "left,sales,avg_time_spend_company,avg_average_monthly_hours,min_time_spend_company,max_time_spend_company,min_average_monthly_hours, max_average_monthly_hours,min_last_evaluation,max_last_evaluation,avg_last_evaluation,min_satisfaction_level, max_satisfaction_level, avg_satisfaction_level,count_work_accident,count_promotion_last_5years\n",
        "\n",
        "**8**.Using output from the question 7 above, plot them as a grouped bar chart (similar to this or see group bar chart below) with seaborn. There must be two bars, one bar representing left and another for not left. This plot is for each unique department values in column “sales.”\n",
        "\n",
        "X-axis => left or not left  \n",
        "Y-axis => avg_time_spend_company (for each unique department values in column \"sales\"). This is the average calculated from \"time_spend_company\"\n",
        "\n",
        "**9**.For output of 3, plot heat map as shown in the image following with the numbers. One approach is to use seaborn\n",
        "\n",
        "\n",
        "\n"
      ],
      "metadata": {
        "id": "ujPYgFboLwmp"
      }
    },
    {
      "cell_type": "code",
      "execution_count": null,
      "metadata": {
        "id": "f0T6SE8mLMA-"
      },
      "outputs": [],
      "source": [
        "import pandas as pd\n",
        "import csv\n",
        "from google.colab import drive\n",
        "drive.mount(\"/content/drive/\")\n",
        "from tabulate import tabulate"
      ]
    },
    {
      "cell_type": "code",
      "source": [
        "df = pd.read_csv(r\"/content/drive/MyDrive/HR_comma_sep.csv\")\n",
        "print(df.head(5))"
      ],
      "metadata": {
        "id": "QXWg7AzAwq76"
      },
      "execution_count": null,
      "outputs": []
    },
    {
      "cell_type": "code",
      "source": [
        "def pretty_print(df, n):\n",
        "   print(tabulate(df.head(n), headers=\"keys\", tablefmt=\"psql\"))\n"
      ],
      "metadata": {
        "id": "jKsTfJK_lBXa"
      },
      "execution_count": 11,
      "outputs": []
    },
    {
      "cell_type": "markdown",
      "source": [
        "# 1.How many employees in each of the department (use column \"sales\")\n",
        " **Output**: **sales**,**num_employees**"
      ],
      "metadata": {
        "id": "I3Q1gDFzwGZM"
      }
    },
    {
      "cell_type": "code",
      "source": [
        "no_of_emp = df.groupby([\"sales\"]).size().to_frame(\"num_employees\").reset_index()\n",
        "no_of_emp1 = no_of_emp.sort_values(by = [\"num_employees\"], ascending = True)\n",
        "pretty_print(no_of_emp1,10)"
      ],
      "metadata": {
        "id": "V5SQFrevwQ8F",
        "colab": {
          "base_uri": "https://localhost:8080/"
        },
        "outputId": "678e1e83-24fe-41c1-ff7f-af2900e9fdc1"
      },
      "execution_count": 16,
      "outputs": [
        {
          "output_type": "stream",
          "name": "stdout",
          "text": [
            "+----+-------------+-----------------+\n",
            "|    | sales       |   num_employees |\n",
            "|----+-------------+-----------------|\n",
            "|  4 | management  |             630 |\n",
            "|  3 | hr          |             739 |\n",
            "|  2 | accounting  |             767 |\n",
            "|  1 | RandD       |             787 |\n",
            "|  5 | marketing   |             858 |\n",
            "|  6 | product_mng |             902 |\n",
            "|  0 | IT          |            1227 |\n",
            "|  8 | support     |            2229 |\n",
            "|  9 | technical   |            2720 |\n",
            "|  7 | sales       |            4140 |\n",
            "+----+-------------+-----------------+\n"
          ]
        }
      ]
    },
    {
      "cell_type": "markdown",
      "source": [
        "# 2.Among employees who left, get the department wise (use column \"sales\"), number of employees and rank them.\n",
        "**Output**: **sales**,**num_employees**,**rank**"
      ],
      "metadata": {
        "id": "O57CmpyBBJLp"
      }
    },
    {
      "cell_type": "code",
      "source": [
        "no_of_emp ="
      ],
      "metadata": {
        "id": "MLJk91_EBWcl"
      },
      "execution_count": null,
      "outputs": []
    },
    {
      "cell_type": "markdown",
      "source": [
        "# 3.Average number of years (time_spend_company) and average number of monthly hours (average_monthly_hours) for the employees left and not left under each department. Sort the value by sales.\n",
        "**Output**: **left**,**sales**,**avg_time_spend_company**,**avg_average_monthly_hours**"
      ],
      "metadata": {
        "id": "C0nHry1kj2EM"
      }
    },
    {
      "cell_type": "code",
      "source": [
        "df_avg_time = df.groupby([\"left\",\"sales\"])[\"time_spend_company\"].agg(avg_time_spend_company = \"mean\").reset_index()\n",
        "df_avg_time1 = df.groupby([\"left\",\"sales\"])[\"average_montly_hours\"].agg(avg_average_monthly_hours = \"mean\").reset_index()\n",
        "df_avg_time_mer = pd.merge(df_avg_time,df_avg_time1, on = [\"left\",\"sales\"], how = \"left\")\n",
        "pretty_print(df_avg_time_mer,25)"
      ],
      "metadata": {
        "colab": {
          "base_uri": "https://localhost:8080/"
        },
        "id": "sCKlzMAmkHD4",
        "outputId": "bcb96ec1-87e4-4c37-96f3-f637fc176665"
      },
      "execution_count": 27,
      "outputs": [
        {
          "output_type": "stream",
          "name": "stdout",
          "text": [
            "+----+--------+-------------+--------------------------+-----------------------------+\n",
            "|    |   left | sales       |   avg_time_spend_company |   avg_average_monthly_hours |\n",
            "|----+--------+-------------+--------------------------+-----------------------------|\n",
            "|  0 |      0 | IT          |                  3.35639 |                     198.887 |\n",
            "|  1 |      0 | RandD       |                  3.25225 |                     198.952 |\n",
            "|  2 |      0 | accounting  |                  3.42451 |                     199.037 |\n",
            "|  3 |      0 | hr          |                  3.19275 |                     199.25  |\n",
            "|  4 |      0 | management  |                  4.39518 |                     200.234 |\n",
            "|  5 |      0 | marketing   |                  3.48092 |                     198.889 |\n",
            "|  6 |      0 | product_mng |                  3.33097 |                     197.766 |\n",
            "|  7 |      0 | sales       |                  3.4437  |                     199.572 |\n",
            "|  8 |      0 | support     |                  3.21386 |                     199.141 |\n",
            "|  9 |      0 | technical   |                  3.22244 |                     198.471 |\n",
            "| 10 |      1 | IT          |                  3.86081 |                     213.85  |\n",
            "| 11 |      1 | RandD       |                  4       |                     210.975 |\n",
            "| 12 |      1 | accounting  |                  3.79412 |                     207.029 |\n",
            "| 13 |      1 | hr          |                  3.75349 |                     197.307 |\n",
            "| 14 |      1 | management  |                  3.75824 |                     207.264 |\n",
            "| 15 |      1 | marketing   |                  3.85714 |                     200.99  |\n",
            "| 16 |      1 | product_mng |                  3.9899  |                     207.788 |\n",
            "| 17 |      1 | sales       |                  3.81262 |                     205.041 |\n",
            "| 18 |      1 | support     |                  3.93333 |                     205.636 |\n",
            "| 19 |      1 | technical   |                  3.95983 |                     214.184 |\n",
            "+----+--------+-------------+--------------------------+-----------------------------+\n"
          ]
        }
      ]
    },
    {
      "cell_type": "markdown",
      "source": [
        "# 4.Under each department, what is the minimum and maximum for both left and not left employees related to time_spend_company and average_monthly_hours. Sort the value by sales.\n",
        "**Output**: **left**,**sales**,**min_time_spend_company**,**max_time_spend_company**,**min_average_monthly_hours**,**max_average_monthly_hours**"
      ],
      "metadata": {
        "id": "RKbRzMN6hpBk"
      }
    },
    {
      "cell_type": "markdown",
      "source": [],
      "metadata": {
        "id": "CGRcnUkgh0lc"
      }
    }
  ]
}