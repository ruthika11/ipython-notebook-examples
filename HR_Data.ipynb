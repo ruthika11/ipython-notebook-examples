{
  "nbformat": 4,
  "nbformat_minor": 0,
  "metadata": {
    "colab": {
      "provenance": [],
      "authorship_tag": "ABX9TyPuwR5m5DZUBM+AeE7zzIBt",
      "include_colab_link": true
    },
    "kernelspec": {
      "name": "python3",
      "display_name": "Python 3"
    },
    "language_info": {
      "name": "python"
    }
  },
  "cells": [
    {
      "cell_type": "markdown",
      "metadata": {
        "id": "view-in-github",
        "colab_type": "text"
      },
      "source": [
        "<a href=\"https://colab.research.google.com/github/ruthika11/ipython-notebook-examples/blob/master/HR_Data.ipynb\" target=\"_parent\"><img src=\"https://colab.research.google.com/assets/colab-badge.svg\" alt=\"Open In Colab\"/></a>"
      ]
    },
    {
      "cell_type": "markdown",
      "source": [
        "# **Questions:**\n",
        "Department in this document means the column \"sales\".\n",
        "\n",
        "**1**.How many employees in each of the department (use column \"sales\")      \n",
        "Output:\n",
        "sales,num_employees\n",
        "\n",
        "**2**.Among employees who left, get the department wise (use column \"sales\"), number of employees and rank them.  \n",
        "Output:\n",
        "sales,num_employees,rank\n",
        "\n",
        "**3**.Average number of years (time_spend_company) and average number of monthly hours (average_monthly_hours) for the employees left and not left under each department. Sort the value by sales.  \n",
        "Output:\n",
        "left,sales,avg_time_spend_company,avg_average_monthly_hours\n",
        "\n",
        "**4**.Under each department, what is the minimum and maximum for both left and not left employees related to time_spend_company and average_monthly_hours. Sort the value by sales.  \n",
        "Output:\n",
        "left,sales,min_time_spend_company,max_time_spend_company,min_average_monthly_hours,max_average_monthly_hours\n",
        "\n",
        "**5**.Under each department, what is the minimum, maximum, average on last evaluation (last_evaluation) and satisfaction level (satisfaction_level) for both left and not left. Sort the value by sales.     \n",
        "Output:  \n",
        "left,sales,min_last_evaluation,max_last_evaluation,avg_last_evaluation, min_satisfaction_level, max_satisfaction_level,avg_satisfaction_level\n",
        "\n",
        "**6**.Under each department, what is the count on work accidents (work_accident) and promotion for the last 5 years (promotion_last_5years) for both left and not left. Sort the value by sales.\n",
        "Output:\n",
        "left,sales,count_work_accident,count_promotion_last_5years\n",
        "\n",
        "**7**.Bring the output from question 3-6 above.\n",
        "\n",
        "Output:\n",
        "left,sales,avg_time_spend_company,avg_average_monthly_hours,min_time_spend_company,max_time_spend_company,min_average_monthly_hours, max_average_monthly_hours,min_last_evaluation,max_last_evaluation,avg_last_evaluation,min_satisfaction_level, max_satisfaction_level, avg_satisfaction_level,count_work_accident,count_promotion_last_5years\n",
        "\n",
        "**8**.Using output from the question 7 above, plot them as a grouped bar chart (similar to this or see group bar chart below) with seaborn. There must be two bars, one bar representing left and another for not left. This plot is for each unique department values in column “sales.”\n",
        "\n",
        "X-axis => left or not left  \n",
        "Y-axis => avg_time_spend_company (for each unique department values in column \"sales\"). This is the average calculated from \"time_spend_company\"\n",
        "\n",
        "**9**.For output of 3, plot heat map as shown in the image following with the numbers. One approach is to use seaborn\n",
        "\n",
        "\n",
        "\n"
      ],
      "metadata": {
        "id": "ujPYgFboLwmp"
      }
    },
    {
      "cell_type": "code",
      "execution_count": null,
      "metadata": {
        "id": "f0T6SE8mLMA-"
      },
      "outputs": [],
      "source": [
        "import pandas as pd\n",
        "import csv\n",
        "from google.colab import drive\n",
        "drive.mount(\"/content/drive/\")\n",
        "from tabulate import tabulate\n",
        "import seaborn as sns\n",
        "import matplotlib.pyplot as plt"
      ]
    },
    {
      "cell_type": "code",
      "source": [
        "df = pd.read_csv(r\"/content/drive/MyDrive/HR_comma_sep.csv\")"
      ],
      "metadata": {
        "id": "QXWg7AzAwq76"
      },
      "execution_count": 38,
      "outputs": []
    },
    {
      "cell_type": "code",
      "source": [
        "def pretty_print(df, n):\n",
        "   print(tabulate(df.head(n), headers=\"keys\", tablefmt=\"psql\"))\n"
      ],
      "metadata": {
        "id": "jKsTfJK_lBXa"
      },
      "execution_count": 39,
      "outputs": []
    },
    {
      "cell_type": "markdown",
      "source": [
        "# 1.How many employees in each of the department (use column \"sales\")\n",
        " **Output**: **sales**,**num_employees**"
      ],
      "metadata": {
        "id": "I3Q1gDFzwGZM"
      }
    },
    {
      "cell_type": "code",
      "source": [
        "no_of_emp = df.groupby([\"sales\"]).size().to_frame(\"num_employees\").reset_index()\n",
        "no_of_emp1 = no_of_emp.sort_values(by = [\"num_employees\"], ascending = True)\n",
        "pretty_print(no_of_emp1,10)"
      ],
      "metadata": {
        "id": "V5SQFrevwQ8F",
        "colab": {
          "base_uri": "https://localhost:8080/"
        },
        "outputId": "67b7265f-9b6a-490d-96e5-8912beb65af2"
      },
      "execution_count": 40,
      "outputs": [
        {
          "output_type": "stream",
          "name": "stdout",
          "text": [
            "+----+-------------+-----------------+\n",
            "|    | sales       |   num_employees |\n",
            "|----+-------------+-----------------|\n",
            "|  4 | management  |             630 |\n",
            "|  3 | hr          |             739 |\n",
            "|  2 | accounting  |             767 |\n",
            "|  1 | RandD       |             787 |\n",
            "|  5 | marketing   |             858 |\n",
            "|  6 | product_mng |             902 |\n",
            "|  0 | IT          |            1227 |\n",
            "|  8 | support     |            2229 |\n",
            "|  9 | technical   |            2720 |\n",
            "|  7 | sales       |            4140 |\n",
            "+----+-------------+-----------------+\n"
          ]
        }
      ]
    },
    {
      "cell_type": "markdown",
      "source": [
        "# 2.Among employees who left, get the department wise (use column \"sales\"), number of employees and rank them.\n",
        "**Output**: **sales**,**num_employees**,**rank**"
      ],
      "metadata": {
        "id": "O57CmpyBBJLp"
      }
    },
    {
      "cell_type": "code",
      "source": [
        "no_of_emp_left = df.groupby([\"sales\"])[\"left\"].sum().to_frame(\"num_employees\").reset_index()\n",
        "no_of_emp_left = no_of_emp_left.sort_values(by = \"num_employees\", ascending = False)\n",
        "no_of_emp_left[\"Rank\"] = no_of_emp_left[\"num_employees\"].rank(ascending = False)\n",
        "pretty_print(no_of_emp_left,10)"
      ],
      "metadata": {
        "id": "MLJk91_EBWcl",
        "colab": {
          "base_uri": "https://localhost:8080/"
        },
        "outputId": "c26a4f86-e782-47e0-9035-8c09657216ae"
      },
      "execution_count": 41,
      "outputs": [
        {
          "output_type": "stream",
          "name": "stdout",
          "text": [
            "+----+-------------+-----------------+--------+\n",
            "|    | sales       |   num_employees |   Rank |\n",
            "|----+-------------+-----------------+--------|\n",
            "|  7 | sales       |            1014 |      1 |\n",
            "|  9 | technical   |             697 |      2 |\n",
            "|  8 | support     |             555 |      3 |\n",
            "|  0 | IT          |             273 |      4 |\n",
            "|  3 | hr          |             215 |      5 |\n",
            "|  2 | accounting  |             204 |      6 |\n",
            "|  5 | marketing   |             203 |      7 |\n",
            "|  6 | product_mng |             198 |      8 |\n",
            "|  1 | RandD       |             121 |      9 |\n",
            "|  4 | management  |              91 |     10 |\n",
            "+----+-------------+-----------------+--------+\n"
          ]
        }
      ]
    },
    {
      "cell_type": "markdown",
      "source": [
        "# 3.Average number of years (time_spend_company) and average number of monthly hours (average_monthly_hours) for the employees left and not left under each department. Sort the value by sales.\n",
        "**Output**: **left**,**sales**,**avg_time_spend_company**,**avg_average_monthly_hours**"
      ],
      "metadata": {
        "id": "C0nHry1kj2EM"
      }
    },
    {
      "cell_type": "code",
      "source": [
        "df_avg_time = df.groupby([\"left\",\"sales\"])[\"time_spend_company\"].agg(avg_time_spend_company = \"mean\").reset_index()\n",
        "df_avg_time1 = df.groupby([\"left\",\"sales\"])[\"average_montly_hours\"].agg(avg_average_monthly_hours = \"mean\").reset_index()\n",
        "df_avg_time_mer = pd.merge(df_avg_time,df_avg_time1, how = \"left\")\n",
        "pretty_print(df_avg_time_mer,25)"
      ],
      "metadata": {
        "colab": {
          "base_uri": "https://localhost:8080/"
        },
        "id": "sCKlzMAmkHD4",
        "outputId": "0ec91a06-1576-4fdf-9328-5f089b9cfab9"
      },
      "execution_count": 42,
      "outputs": [
        {
          "output_type": "stream",
          "name": "stdout",
          "text": [
            "+----+--------+-------------+--------------------------+-----------------------------+\n",
            "|    |   left | sales       |   avg_time_spend_company |   avg_average_monthly_hours |\n",
            "|----+--------+-------------+--------------------------+-----------------------------|\n",
            "|  0 |      0 | IT          |                  3.35639 |                     198.887 |\n",
            "|  1 |      0 | RandD       |                  3.25225 |                     198.952 |\n",
            "|  2 |      0 | accounting  |                  3.42451 |                     199.037 |\n",
            "|  3 |      0 | hr          |                  3.19275 |                     199.25  |\n",
            "|  4 |      0 | management  |                  4.39518 |                     200.234 |\n",
            "|  5 |      0 | marketing   |                  3.48092 |                     198.889 |\n",
            "|  6 |      0 | product_mng |                  3.33097 |                     197.766 |\n",
            "|  7 |      0 | sales       |                  3.4437  |                     199.572 |\n",
            "|  8 |      0 | support     |                  3.21386 |                     199.141 |\n",
            "|  9 |      0 | technical   |                  3.22244 |                     198.471 |\n",
            "| 10 |      1 | IT          |                  3.86081 |                     213.85  |\n",
            "| 11 |      1 | RandD       |                  4       |                     210.975 |\n",
            "| 12 |      1 | accounting  |                  3.79412 |                     207.029 |\n",
            "| 13 |      1 | hr          |                  3.75349 |                     197.307 |\n",
            "| 14 |      1 | management  |                  3.75824 |                     207.264 |\n",
            "| 15 |      1 | marketing   |                  3.85714 |                     200.99  |\n",
            "| 16 |      1 | product_mng |                  3.9899  |                     207.788 |\n",
            "| 17 |      1 | sales       |                  3.81262 |                     205.041 |\n",
            "| 18 |      1 | support     |                  3.93333 |                     205.636 |\n",
            "| 19 |      1 | technical   |                  3.95983 |                     214.184 |\n",
            "+----+--------+-------------+--------------------------+-----------------------------+\n"
          ]
        }
      ]
    },
    {
      "cell_type": "markdown",
      "source": [
        "# 4.Under each department, what is the minimum and maximum for both left and not left employees related to time_spend_company and average_monthly_hours. Sort the value by sales.\n",
        "**Output**: **left**,**sales**,**min_time_spend_company**,**max_time_spend_company**,**min_average_monthly_hours**,**max_average_monthly_hours**"
      ],
      "metadata": {
        "id": "RKbRzMN6hpBk"
      }
    },
    {
      "cell_type": "code",
      "source": [
        "df_timespend_avgmonthly = df.groupby([\"left\",\"sales\"])\\\n",
        "    .agg({\"time_spend_company\" : [\"min\",\"max\"],\"average_montly_hours\" : [\"min\",\"max\"]}).reset_index()\n",
        "df_timespend_avgmonthly.columns = [\"left\",\"sales\",\"min_time_spend_company\",\"max_time_spend_company\",\\\n",
        "                                   \"min_average_monthly_hours\",\"max_average_monthly_hours\"]\n",
        "pretty_print(df_timespend_avgmonthly,20)\n"
      ],
      "metadata": {
        "colab": {
          "base_uri": "https://localhost:8080/"
        },
        "id": "aBJGCZeANq-K",
        "outputId": "8bc6babd-cad6-4403-c410-81f1928e8640"
      },
      "execution_count": 43,
      "outputs": [
        {
          "output_type": "stream",
          "name": "stdout",
          "text": [
            "+----+--------+-------------+--------------------------+--------------------------+-----------------------------+-----------------------------+\n",
            "|    |   left | sales       |   min_time_spend_company |   max_time_spend_company |   min_average_monthly_hours |   max_average_monthly_hours |\n",
            "|----+--------+-------------+--------------------------+--------------------------+-----------------------------+-----------------------------|\n",
            "|  0 |      0 | IT          |                        2 |                       10 |                          96 |                         287 |\n",
            "|  1 |      0 | RandD       |                        2 |                        8 |                          98 |                         287 |\n",
            "|  2 |      0 | accounting  |                        2 |                       10 |                          97 |                         285 |\n",
            "|  3 |      0 | hr          |                        2 |                        8 |                          98 |                         285 |\n",
            "|  4 |      0 | management  |                        2 |                       10 |                          97 |                         286 |\n",
            "|  5 |      0 | marketing   |                        2 |                       10 |                          96 |                         286 |\n",
            "|  6 |      0 | product_mng |                        2 |                       10 |                          98 |                         286 |\n",
            "|  7 |      0 | sales       |                        2 |                       10 |                          96 |                         287 |\n",
            "|  8 |      0 | support     |                        2 |                       10 |                          96 |                         287 |\n",
            "|  9 |      0 | technical   |                        2 |                       10 |                          97 |                         287 |\n",
            "| 10 |      1 | IT          |                        2 |                        6 |                         127 |                         308 |\n",
            "| 11 |      1 | RandD       |                        2 |                        6 |                         127 |                         308 |\n",
            "| 12 |      1 | accounting  |                        2 |                        6 |                         127 |                         310 |\n",
            "| 13 |      1 | hr          |                        3 |                        6 |                         126 |                         310 |\n",
            "| 14 |      1 | management  |                        2 |                        6 |                         127 |                         307 |\n",
            "| 15 |      1 | marketing   |                        3 |                        6 |                         127 |                         310 |\n",
            "| 16 |      1 | product_mng |                        3 |                        6 |                         129 |                         310 |\n",
            "| 17 |      1 | sales       |                        2 |                        6 |                         126 |                         310 |\n",
            "| 18 |      1 | support     |                        2 |                        6 |                         126 |                         310 |\n",
            "| 19 |      1 | technical   |                        2 |                        6 |                         126 |                         310 |\n",
            "+----+--------+-------------+--------------------------+--------------------------+-----------------------------+-----------------------------+\n"
          ]
        }
      ]
    },
    {
      "cell_type": "markdown",
      "source": [
        "# 5.Under each department, what is the minimum, maximum, average on last evaluation (last_evaluation) and satisfaction level (satisfaction_level) for both left and not left. Sort the value by sales.\n",
        "**Output**:\n",
        " **left**,**sales,min_last_evaluation,max_last_evaluation,avg_last_evaluationbold , min_satisfaction_level**, **max_satisfaction_level**,**avg_satisfaction_level**"
      ],
      "metadata": {
        "id": "n9r0R__kE6FL"
      }
    },
    {
      "cell_type": "code",
      "source": [
        "df_last_level = df.groupby([\"left\",\"sales\"])\\\n",
        "      .agg({\"last_evaluation\":[\"min\",\"max\",\"mean\"],\"satisfaction_level\":[\"min\",\"max\",\"mean\"]}).reset_index()\n",
        "df_last_level.columns = [\"left\",\"sales\",\"min_last_evaluation\",\"max_last_evaluation\",\\\n",
        "                         \"avg_last_evaluation\",\"min_satisfaction_level\",\"max_satisfaction_level\",\"avg_satisfaction_level\"]\n",
        "pretty_print(df_last_level,20)"
      ],
      "metadata": {
        "colab": {
          "base_uri": "https://localhost:8080/"
        },
        "id": "EkFBZa6EL1EN",
        "outputId": "b617caf6-59d7-4db4-9477-c41c926b14b6"
      },
      "execution_count": 44,
      "outputs": [
        {
          "output_type": "stream",
          "name": "stdout",
          "text": [
            "+----+--------+-------------+-----------------------+-----------------------+-----------------------+--------------------------+--------------------------+--------------------------+\n",
            "|    |   left | sales       |   min_last_evaluation |   max_last_evaluation |   avg_last_evaluation |   min_satisfaction_level |   max_satisfaction_level |   avg_satisfaction_level |\n",
            "|----+--------+-------------+-----------------------+-----------------------+-----------------------+--------------------------+--------------------------+--------------------------|\n",
            "|  0 |      0 | IT          |                  0.37 |                     1 |              0.71305  |                     0.12 |                     1    |                 0.67717  |\n",
            "|  1 |      0 | RandD       |                  0.36 |                     1 |              0.706081 |                     0.12 |                     1    |                 0.653799 |\n",
            "|  2 |      0 | accounting  |                  0.36 |                     1 |              0.726128 |                     0.12 |                     1    |                 0.647211 |\n",
            "|  3 |      0 | hr          |                  0.37 |                     1 |              0.720802 |                     0.13 |                     1    |                 0.666679 |\n",
            "|  4 |      0 | management  |                  0.37 |                     1 |              0.723451 |                     0.12 |                     1    |                 0.654861 |\n",
            "|  5 |      0 | marketing   |                  0.36 |                     1 |              0.723282 |                     0.12 |                     1    |                 0.669878 |\n",
            "|  6 |      0 | product_mng |                  0.36 |                     1 |              0.711435 |                     0.13 |                     1    |                 0.658466 |\n",
            "|  7 |      0 | sales       |                  0.36 |                     1 |              0.709223 |                     0.12 |                     1    |                 0.668548 |\n",
            "|  8 |      0 | support     |                  0.36 |                     1 |              0.721714 |                     0.12 |                     1    |                 0.673799 |\n",
            "|  9 |      0 | technical   |                  0.36 |                     1 |              0.716609 |                     0.12 |                     1    |                 0.668319 |\n",
            "| 10 |      1 | IT          |                  0.45 |                     1 |              0.730037 |                     0.09 |                     0.92 |                 0.411868 |\n",
            "| 11 |      1 | RandD       |                  0.46 |                     1 |              0.745372 |                     0.09 |                     0.92 |                 0.43281  |\n",
            "| 12 |      1 | accounting  |                  0.45 |                     1 |              0.69451  |                     0.09 |                     0.91 |                 0.402598 |\n",
            "| 13 |      1 | hr          |                  0.45 |                     1 |              0.679721 |                     0.09 |                     0.91 |                 0.433395 |\n",
            "| 14 |      1 | management  |                  0.46 |                     1 |              0.727253 |                     0.09 |                     0.9  |                 0.422857 |\n",
            "| 15 |      1 | marketing   |                  0.45 |                     1 |              0.69202  |                     0.09 |                     0.9  |                 0.453153 |\n",
            "| 16 |      1 | product_mng |                  0.45 |                     1 |              0.726566 |                     0.09 |                     0.91 |                 0.481566 |\n",
            "| 17 |      1 | sales       |                  0.45 |                     1 |              0.711243 |                     0.09 |                     0.92 |                 0.447663 |\n",
            "| 18 |      1 | support     |                  0.45 |                     1 |              0.727315 |                     0.09 |                     0.91 |                 0.450901 |\n",
            "| 19 |      1 | technical   |                  0.45 |                     1 |              0.734132 |                     0.09 |                     0.92 |                 0.432525 |\n",
            "+----+--------+-------------+-----------------------+-----------------------+-----------------------+--------------------------+--------------------------+--------------------------+\n"
          ]
        }
      ]
    },
    {
      "cell_type": "markdown",
      "source": [
        "# 6.Under each department, what is the count on work accidents (work_accident) and promotion for the last 5 years (promotion_last_5years) for both left and not left. Sort the value by sales.\n",
        "**Output**: **left**,**sales**,**count_work_accident**,**count_promotion_last_5years**"
      ],
      "metadata": {
        "id": "ZE3VnyD2yvWM"
      }
    },
    {
      "cell_type": "code",
      "source": [
        "df_accident_promotion = df.groupby([\"left\",\"sales\"])\\\n",
        "            .agg({\"Work_accident\" : [\"sum\"],\"promotion_last_5years\" : [\"sum\"]}).reset_index()\n",
        "df_accident_promotion.columns = [\"left\",\"sales\",\"count_work_accident\",\"count_promotion_last_5years\"]\n",
        "pretty_print(df_accident_promotion,20)"
      ],
      "metadata": {
        "colab": {
          "base_uri": "https://localhost:8080/"
        },
        "id": "OK1j42IF0UF6",
        "outputId": "25fb9ad1-55e0-47e7-8e33-c2e8177c8cfd"
      },
      "execution_count": 45,
      "outputs": [
        {
          "output_type": "stream",
          "name": "stdout",
          "text": [
            "+----+--------+-------------+-----------------------+-------------------------------+\n",
            "|    |   left | sales       |   count_work_accident |   count_promotion_last_5years |\n",
            "|----+--------+-------------+-----------------------+-------------------------------|\n",
            "|  0 |      0 | IT          |                   155 |                             0 |\n",
            "|  1 |      0 | RandD       |                   124 |                            27 |\n",
            "|  2 |      0 | accounting  |                    87 |                            14 |\n",
            "|  3 |      0 | hr          |                    82 |                            15 |\n",
            "|  4 |      0 | management  |                    98 |                            66 |\n",
            "|  5 |      0 | marketing   |                   128 |                            43 |\n",
            "|  6 |      0 | product_mng |                   123 |                             0 |\n",
            "|  7 |      0 | sales       |                   541 |                            93 |\n",
            "|  8 |      0 | support     |                   314 |                            17 |\n",
            "|  9 |      0 | technical   |                   348 |                            25 |\n",
            "| 10 |      1 | IT          |                     9 |                             3 |\n",
            "| 11 |      1 | RandD       |                    10 |                             0 |\n",
            "| 12 |      1 | accounting  |                     9 |                             0 |\n",
            "| 13 |      1 | hr          |                     7 |                             0 |\n",
            "| 14 |      1 | management  |                     5 |                             3 |\n",
            "| 15 |      1 | marketing   |                    10 |                             0 |\n",
            "| 16 |      1 | product_mng |                     9 |                             0 |\n",
            "| 17 |      1 | sales       |                    46 |                             7 |\n",
            "| 18 |      1 | support     |                    31 |                             3 |\n",
            "| 19 |      1 | technical   |                    33 |                             3 |\n",
            "+----+--------+-------------+-----------------------+-------------------------------+\n"
          ]
        }
      ]
    },
    {
      "cell_type": "markdown",
      "source": [
        "# 7.Bring the output from question 3-6 above.\n",
        "\n",
        "**Output: left,sales,avg_time_spend_company,avg_average_monthly_hours,min_time_spend_company,max_time_spend_company,min_average_monthly_hours, max_average_monthly_hours,min_last_evaluation,max_last_evaluation,avg_last_evaluation,min_satisfaction_level, max_satisfaction_level, avg_satisfaction_level,count_work_accident,count_promotion_last_5years**"
      ],
      "metadata": {
        "id": "RprOEpxt1XTU"
      }
    },
    {
      "cell_type": "code",
      "source": [
        "output1 = pd.merge(df_avg_time_mer,df_timespend_avgmonthly)\n",
        "output2 = pd.merge(df_last_level,df_accident_promotion)\n",
        "output = pd.merge(output1,output2)\n",
        "pretty_print(output,20)"
      ],
      "metadata": {
        "colab": {
          "base_uri": "https://localhost:8080/"
        },
        "id": "u1cAfJz91mLa",
        "outputId": "7f38f48e-dcdc-447e-fcc4-6d8fb26bd023"
      },
      "execution_count": 46,
      "outputs": [
        {
          "output_type": "stream",
          "name": "stdout",
          "text": [
            "+----+--------+-------------+--------------------------+-----------------------------+--------------------------+--------------------------+-----------------------------+-----------------------------+-----------------------+-----------------------+-----------------------+--------------------------+--------------------------+--------------------------+-----------------------+-------------------------------+\n",
            "|    |   left | sales       |   avg_time_spend_company |   avg_average_monthly_hours |   min_time_spend_company |   max_time_spend_company |   min_average_monthly_hours |   max_average_monthly_hours |   min_last_evaluation |   max_last_evaluation |   avg_last_evaluation |   min_satisfaction_level |   max_satisfaction_level |   avg_satisfaction_level |   count_work_accident |   count_promotion_last_5years |\n",
            "|----+--------+-------------+--------------------------+-----------------------------+--------------------------+--------------------------+-----------------------------+-----------------------------+-----------------------+-----------------------+-----------------------+--------------------------+--------------------------+--------------------------+-----------------------+-------------------------------|\n",
            "|  0 |      0 | IT          |                  3.35639 |                     198.887 |                        2 |                       10 |                          96 |                         287 |                  0.37 |                     1 |              0.71305  |                     0.12 |                     1    |                 0.67717  |                   155 |                             0 |\n",
            "|  1 |      0 | RandD       |                  3.25225 |                     198.952 |                        2 |                        8 |                          98 |                         287 |                  0.36 |                     1 |              0.706081 |                     0.12 |                     1    |                 0.653799 |                   124 |                            27 |\n",
            "|  2 |      0 | accounting  |                  3.42451 |                     199.037 |                        2 |                       10 |                          97 |                         285 |                  0.36 |                     1 |              0.726128 |                     0.12 |                     1    |                 0.647211 |                    87 |                            14 |\n",
            "|  3 |      0 | hr          |                  3.19275 |                     199.25  |                        2 |                        8 |                          98 |                         285 |                  0.37 |                     1 |              0.720802 |                     0.13 |                     1    |                 0.666679 |                    82 |                            15 |\n",
            "|  4 |      0 | management  |                  4.39518 |                     200.234 |                        2 |                       10 |                          97 |                         286 |                  0.37 |                     1 |              0.723451 |                     0.12 |                     1    |                 0.654861 |                    98 |                            66 |\n",
            "|  5 |      0 | marketing   |                  3.48092 |                     198.889 |                        2 |                       10 |                          96 |                         286 |                  0.36 |                     1 |              0.723282 |                     0.12 |                     1    |                 0.669878 |                   128 |                            43 |\n",
            "|  6 |      0 | product_mng |                  3.33097 |                     197.766 |                        2 |                       10 |                          98 |                         286 |                  0.36 |                     1 |              0.711435 |                     0.13 |                     1    |                 0.658466 |                   123 |                             0 |\n",
            "|  7 |      0 | sales       |                  3.4437  |                     199.572 |                        2 |                       10 |                          96 |                         287 |                  0.36 |                     1 |              0.709223 |                     0.12 |                     1    |                 0.668548 |                   541 |                            93 |\n",
            "|  8 |      0 | support     |                  3.21386 |                     199.141 |                        2 |                       10 |                          96 |                         287 |                  0.36 |                     1 |              0.721714 |                     0.12 |                     1    |                 0.673799 |                   314 |                            17 |\n",
            "|  9 |      0 | technical   |                  3.22244 |                     198.471 |                        2 |                       10 |                          97 |                         287 |                  0.36 |                     1 |              0.716609 |                     0.12 |                     1    |                 0.668319 |                   348 |                            25 |\n",
            "| 10 |      1 | IT          |                  3.86081 |                     213.85  |                        2 |                        6 |                         127 |                         308 |                  0.45 |                     1 |              0.730037 |                     0.09 |                     0.92 |                 0.411868 |                     9 |                             3 |\n",
            "| 11 |      1 | RandD       |                  4       |                     210.975 |                        2 |                        6 |                         127 |                         308 |                  0.46 |                     1 |              0.745372 |                     0.09 |                     0.92 |                 0.43281  |                    10 |                             0 |\n",
            "| 12 |      1 | accounting  |                  3.79412 |                     207.029 |                        2 |                        6 |                         127 |                         310 |                  0.45 |                     1 |              0.69451  |                     0.09 |                     0.91 |                 0.402598 |                     9 |                             0 |\n",
            "| 13 |      1 | hr          |                  3.75349 |                     197.307 |                        3 |                        6 |                         126 |                         310 |                  0.45 |                     1 |              0.679721 |                     0.09 |                     0.91 |                 0.433395 |                     7 |                             0 |\n",
            "| 14 |      1 | management  |                  3.75824 |                     207.264 |                        2 |                        6 |                         127 |                         307 |                  0.46 |                     1 |              0.727253 |                     0.09 |                     0.9  |                 0.422857 |                     5 |                             3 |\n",
            "| 15 |      1 | marketing   |                  3.85714 |                     200.99  |                        3 |                        6 |                         127 |                         310 |                  0.45 |                     1 |              0.69202  |                     0.09 |                     0.9  |                 0.453153 |                    10 |                             0 |\n",
            "| 16 |      1 | product_mng |                  3.9899  |                     207.788 |                        3 |                        6 |                         129 |                         310 |                  0.45 |                     1 |              0.726566 |                     0.09 |                     0.91 |                 0.481566 |                     9 |                             0 |\n",
            "| 17 |      1 | sales       |                  3.81262 |                     205.041 |                        2 |                        6 |                         126 |                         310 |                  0.45 |                     1 |              0.711243 |                     0.09 |                     0.92 |                 0.447663 |                    46 |                             7 |\n",
            "| 18 |      1 | support     |                  3.93333 |                     205.636 |                        2 |                        6 |                         126 |                         310 |                  0.45 |                     1 |              0.727315 |                     0.09 |                     0.91 |                 0.450901 |                    31 |                             3 |\n",
            "| 19 |      1 | technical   |                  3.95983 |                     214.184 |                        2 |                        6 |                         126 |                         310 |                  0.45 |                     1 |              0.734132 |                     0.09 |                     0.92 |                 0.432525 |                    33 |                             3 |\n",
            "+----+--------+-------------+--------------------------+-----------------------------+--------------------------+--------------------------+-----------------------------+-----------------------------+-----------------------+-----------------------+-----------------------+--------------------------+--------------------------+--------------------------+-----------------------+-------------------------------+\n"
          ]
        }
      ]
    },
    {
      "cell_type": "markdown",
      "source": [
        "# 8.Using output from the question 7 above, plot them as a grouped bar chart (similar to this or see group bar chart below) with seaborn. There must be two bars, one bar representing left and another for not left. This plot is for each unique department values in column “sales.”\n",
        "\n",
        "X-axis => left or not left\n",
        "\n",
        "Y-axis => avg_time_spend_company (for each unique department values in column \"sales\"). This is the average calculated from \"time_spend_company\""
      ],
      "metadata": {
        "id": "87U3d-8T7C0G"
      }
    },
    {
      "cell_type": "code",
      "source": [
        "plt.figure(figsize = (12,9))\n",
        "sns.barplot(x = \"sales\", y = \"avg_time_spend_company\",hue = \"left\",data = output)\n",
        "plt.xlabel(\"sales\", size = 18)\n",
        "plt.ylabel(\"avg_time_spend_company\", size = 18)\n",
        "plt.title(\"Bar Chart\",size = 40)"
      ],
      "metadata": {
        "colab": {
          "base_uri": "https://localhost:8080/",
          "height": 854
        },
        "id": "YCfV2Zxn73qH",
        "outputId": "ec2c7f11-5f4e-447f-9979-9ee14d2281c4"
      },
      "execution_count": 47,
      "outputs": [
        {
          "output_type": "execute_result",
          "data": {
            "text/plain": [
              "Text(0.5, 1.0, 'Bar Chart')"
            ]
          },
          "metadata": {},
          "execution_count": 47
        },
        {
          "output_type": "display_data",
          "data": {
            "text/plain": [
              "<Figure size 1200x900 with 1 Axes>"
            ],
            "image/png": "[encoded data removed]"
          },
          "metadata": {}
        }
      ]
    },
    {
      "cell_type": "markdown",
      "source": [
        "# 9.For output of 3, plot heat map as shown in the image following with the numbers. One approach is to use seaborn\n"
      ],
      "metadata": {
        "id": "LWJsA7vDDR5A"
      }
    },
    {
      "cell_type": "code",
      "source": [
        "plt.figure(figsize = (10,5))\n",
        "sns.heatmap(df_avg_time_mer.corr(), cmap =\"YlGnBu\", annot = True)"
      ],
      "metadata": {
        "colab": {
          "base_uri": "https://localhost:8080/",
          "height": 523
        },
        "id": "21MzVJgVDj5u",
        "outputId": "66cb652f-3e3e-4bcd-8410-418162e97514"
      },
      "execution_count": 63,
      "outputs": [
        {
          "output_type": "stream",
          "name": "stderr",
          "text": [
            "<ipython-input-63-462e9463ddf7>:2: FutureWarning: The default value of numeric_only in DataFrame.corr is deprecated. In a future version, it will default to False. Select only valid columns or specify the value of numeric_only to silence this warning.\n",
            "  sns.heatmap(df_avg_time_mer.corr(), cmap =\"YlGnBu\", annot = True)\n"
          ]
        },
        {
          "output_type": "execute_result",
          "data": {
            "text/plain": [
              "<Axes: >"
            ]
          },
          "metadata": {},
          "execution_count": 63
        },
        {
          "output_type": "display_data",
          "data": {
            "text/plain": [
              "<Figure size 1000x500 with 2 Axes>"
            ],
            "image/png": "[encoded data removed]"
          },
          "metadata": {}
        }
      ]
    },
    {
      "cell_type": "code",
      "source": [
        "df_avg_time_mer.style.background_gradient(cmap = \"YlGnBu\").set_properties(**{\"font-size\" : \"15px\"})"
      ],
      "metadata": {
        "colab": {
          "base_uri": "https://localhost:8080/",
          "height": 721
        },
        "id": "OWBNcctyUX40",
        "outputId": "87fb7b75-c353-41ef-a2ac-27b07a9fe1c2"
      },
      "execution_count": 69,
      "outputs": [
        {
          "output_type": "execute_result",
          "data": {
            "text/plain": [
              "<pandas.io.formats.style.Styler at 0x7f6c97b8dc90>"
            ],
            "text/html": [
              "<style type=\"text/css\">\n",
              "#T_4626c_row0_col0, #T_4626c_row1_col0, #T_4626c_row2_col0, #T_4626c_row3_col0, #T_4626c_row3_col2, #T_4626c_row4_col0, #T_4626c_row5_col0, #T_4626c_row6_col0, #T_4626c_row7_col0, #T_4626c_row8_col0, #T_4626c_row9_col0, #T_4626c_row13_col3 {\n",
              "  background-color: #ffffd9;\n",
              "  color: #000000;\n",
              "  font-size: 15px;\n",
              "}\n",
              "#T_4626c_row0_col1, #T_4626c_row1_col1, #T_4626c_row2_col1, #T_4626c_row3_col1, #T_4626c_row4_col1, #T_4626c_row5_col1, #T_4626c_row6_col1, #T_4626c_row7_col1, #T_4626c_row8_col1, #T_4626c_row9_col1, #T_4626c_row10_col1, #T_4626c_row11_col1, #T_4626c_row12_col1, #T_4626c_row13_col1, #T_4626c_row14_col1, #T_4626c_row15_col1, #T_4626c_row16_col1, #T_4626c_row17_col1, #T_4626c_row18_col1, #T_4626c_row19_col1 {\n",
              "  font-size: 15px;\n",
              "}\n",
              "#T_4626c_row0_col2, #T_4626c_row7_col3 {\n",
              "  background-color: #eaf7b1;\n",
              "  color: #000000;\n",
              "  font-size: 15px;\n",
              "}\n",
              "#T_4626c_row0_col3, #T_4626c_row5_col3 {\n",
              "  background-color: #f2fabc;\n",
              "  color: #000000;\n",
              "  font-size: 15px;\n",
              "}\n",
              "#T_4626c_row1_col2 {\n",
              "  background-color: #f8fcca;\n",
              "  color: #000000;\n",
              "  font-size: 15px;\n",
              "}\n",
              "#T_4626c_row1_col3 {\n",
              "  background-color: #f1fabb;\n",
              "  color: #000000;\n",
              "  font-size: 15px;\n",
              "}\n",
              "#T_4626c_row2_col2 {\n",
              "  background-color: #d9f0b3;\n",
              "  color: #000000;\n",
              "  font-size: 15px;\n",
              "}\n",
              "#T_4626c_row2_col3 {\n",
              "  background-color: #f0f9b8;\n",
              "  color: #000000;\n",
              "  font-size: 15px;\n",
              "}\n",
              "#T_4626c_row3_col3, #T_4626c_row6_col2 {\n",
              "  background-color: #eff9b5;\n",
              "  color: #000000;\n",
              "  font-size: 15px;\n",
              "}\n",
              "#T_4626c_row4_col2, #T_4626c_row10_col0, #T_4626c_row11_col0, #T_4626c_row12_col0, #T_4626c_row13_col0, #T_4626c_row14_col0, #T_4626c_row15_col0, #T_4626c_row16_col0, #T_4626c_row17_col0, #T_4626c_row18_col0, #T_4626c_row19_col0, #T_4626c_row19_col3 {\n",
              "  background-color: #081d58;\n",
              "  color: #f1f1f1;\n",
              "  font-size: 15px;\n",
              "}\n",
              "#T_4626c_row4_col3 {\n",
              "  background-color: #dff2b2;\n",
              "  color: #000000;\n",
              "  font-size: 15px;\n",
              "}\n",
              "#T_4626c_row5_col2 {\n",
              "  background-color: #caeab4;\n",
              "  color: #000000;\n",
              "  font-size: 15px;\n",
              "}\n",
              "#T_4626c_row6_col3, #T_4626c_row9_col2 {\n",
              "  background-color: #fcfed1;\n",
              "  color: #000000;\n",
              "  font-size: 15px;\n",
              "}\n",
              "#T_4626c_row7_col2 {\n",
              "  background-color: #d4eeb3;\n",
              "  color: #000000;\n",
              "  font-size: 15px;\n",
              "}\n",
              "#T_4626c_row8_col2 {\n",
              "  background-color: #fdfed4;\n",
              "  color: #000000;\n",
              "  font-size: 15px;\n",
              "}\n",
              "#T_4626c_row8_col3 {\n",
              "  background-color: #f0f9b7;\n",
              "  color: #000000;\n",
              "  font-size: 15px;\n",
              "}\n",
              "#T_4626c_row9_col3 {\n",
              "  background-color: #f5fbc4;\n",
              "  color: #000000;\n",
              "  font-size: 15px;\n",
              "}\n",
              "#T_4626c_row10_col2 {\n",
              "  background-color: #31a5c2;\n",
              "  color: #f1f1f1;\n",
              "  font-size: 15px;\n",
              "}\n",
              "#T_4626c_row10_col3 {\n",
              "  background-color: #0d2161;\n",
              "  color: #f1f1f1;\n",
              "  font-size: 15px;\n",
              "}\n",
              "#T_4626c_row11_col2 {\n",
              "  background-color: #1f7eb7;\n",
              "  color: #f1f1f1;\n",
              "  font-size: 15px;\n",
              "}\n",
              "#T_4626c_row11_col3 {\n",
              "  background-color: #23499e;\n",
              "  color: #f1f1f1;\n",
              "  font-size: 15px;\n",
              "}\n",
              "#T_4626c_row12_col2 {\n",
              "  background-color: #40b5c4;\n",
              "  color: #f1f1f1;\n",
              "  font-size: 15px;\n",
              "}\n",
              "#T_4626c_row12_col3 {\n",
              "  background-color: #2b9fc2;\n",
              "  color: #f1f1f1;\n",
              "  font-size: 15px;\n",
              "}\n",
              "#T_4626c_row13_col2 {\n",
              "  background-color: #52bcc2;\n",
              "  color: #000000;\n",
              "  font-size: 15px;\n",
              "}\n",
              "#T_4626c_row14_col2 {\n",
              "  background-color: #50bbc2;\n",
              "  color: #000000;\n",
              "  font-size: 15px;\n",
              "}\n",
              "#T_4626c_row14_col3 {\n",
              "  background-color: #269bc1;\n",
              "  color: #f1f1f1;\n",
              "  font-size: 15px;\n",
              "}\n",
              "#T_4626c_row15_col2 {\n",
              "  background-color: #32a6c2;\n",
              "  color: #f1f1f1;\n",
              "  font-size: 15px;\n",
              "}\n",
              "#T_4626c_row15_col3 {\n",
              "  background-color: #d1edb3;\n",
              "  color: #000000;\n",
              "  font-size: 15px;\n",
              "}\n",
              "#T_4626c_row16_col2 {\n",
              "  background-color: #1f82b9;\n",
              "  color: #f1f1f1;\n",
              "  font-size: 15px;\n",
              "}\n",
              "#T_4626c_row16_col3 {\n",
              "  background-color: #1f93c0;\n",
              "  color: #f1f1f1;\n",
              "  font-size: 15px;\n",
              "}\n",
              "#T_4626c_row17_col2 {\n",
              "  background-color: #3db2c4;\n",
              "  color: #f1f1f1;\n",
              "  font-size: 15px;\n",
              "}\n",
              "#T_4626c_row17_col3 {\n",
              "  background-color: #55bec1;\n",
              "  color: #000000;\n",
              "  font-size: 15px;\n",
              "}\n",
              "#T_4626c_row18_col2 {\n",
              "  background-color: #2094c0;\n",
              "  color: #f1f1f1;\n",
              "  font-size: 15px;\n",
              "}\n",
              "#T_4626c_row18_col3 {\n",
              "  background-color: #44b7c4;\n",
              "  color: #f1f1f1;\n",
              "  font-size: 15px;\n",
              "}\n",
              "#T_4626c_row19_col2 {\n",
              "  background-color: #1e8bbd;\n",
              "  color: #f1f1f1;\n",
              "  font-size: 15px;\n",
              "}\n",
              "</style>\n",
              "<table id=\"T_4626c\" class=\"dataframe\">\n",
              "  <thead>\n",
              "    <tr>\n",
              "      <th class=\"blank level0\" >&nbsp;</th>\n",
              "      <th id=\"T_4626c_level0_col0\" class=\"col_heading level0 col0\" >left</th>\n",
              "      <th id=\"T_4626c_level0_col1\" class=\"col_heading level0 col1\" >sales</th>\n",
              "      <th id=\"T_4626c_level0_col2\" class=\"col_heading level0 col2\" >avg_time_spend_company</th>\n",
              "      <th id=\"T_4626c_level0_col3\" class=\"col_heading level0 col3\" >avg_average_monthly_hours</th>\n",
              "    </tr>\n",
              "  </thead>\n",
              "  <tbody>\n",
              "    <tr>\n",
              "      <th id=\"T_4626c_level0_row0\" class=\"row_heading level0 row0\" >0</th>\n",
              "      <td id=\"T_4626c_row0_col0\" class=\"data row0 col0\" >0</td>\n",
              "      <td id=\"T_4626c_row0_col1\" class=\"data row0 col1\" >IT</td>\n",
              "      <td id=\"T_4626c_row0_col2\" class=\"data row0 col2\" >3.356394</td>\n",
              "      <td id=\"T_4626c_row0_col3\" class=\"data row0 col3\" >198.886792</td>\n",
              "    </tr>\n",
              "    <tr>\n",
              "      <th id=\"T_4626c_level0_row1\" class=\"row_heading level0 row1\" >1</th>\n",
              "      <td id=\"T_4626c_row1_col0\" class=\"data row1 col0\" >0</td>\n",
              "      <td id=\"T_4626c_row1_col1\" class=\"data row1 col1\" >RandD</td>\n",
              "      <td id=\"T_4626c_row1_col2\" class=\"data row1 col2\" >3.252252</td>\n",
              "      <td id=\"T_4626c_row1_col3\" class=\"data row1 col3\" >198.951952</td>\n",
              "    </tr>\n",
              "    <tr>\n",
              "      <th id=\"T_4626c_level0_row2\" class=\"row_heading level0 row2\" >2</th>\n",
              "      <td id=\"T_4626c_row2_col0\" class=\"data row2 col0\" >0</td>\n",
              "      <td id=\"T_4626c_row2_col1\" class=\"data row2 col1\" >accounting</td>\n",
              "      <td id=\"T_4626c_row2_col2\" class=\"data row2 col2\" >3.424512</td>\n",
              "      <td id=\"T_4626c_row2_col3\" class=\"data row2 col3\" >199.037300</td>\n",
              "    </tr>\n",
              "    <tr>\n",
              "      <th id=\"T_4626c_level0_row3\" class=\"row_heading level0 row3\" >3</th>\n",
              "      <td id=\"T_4626c_row3_col0\" class=\"data row3 col0\" >0</td>\n",
              "      <td id=\"T_4626c_row3_col1\" class=\"data row3 col1\" >hr</td>\n",
              "      <td id=\"T_4626c_row3_col2\" class=\"data row3 col2\" >3.192748</td>\n",
              "      <td id=\"T_4626c_row3_col3\" class=\"data row3 col3\" >199.250000</td>\n",
              "    </tr>\n",
              "    <tr>\n",
              "      <th id=\"T_4626c_level0_row4\" class=\"row_heading level0 row4\" >4</th>\n",
              "      <td id=\"T_4626c_row4_col0\" class=\"data row4 col0\" >0</td>\n",
              "      <td id=\"T_4626c_row4_col1\" class=\"data row4 col1\" >management</td>\n",
              "      <td id=\"T_4626c_row4_col2\" class=\"data row4 col2\" >4.395176</td>\n",
              "      <td id=\"T_4626c_row4_col3\" class=\"data row4 col3\" >200.233766</td>\n",
              "    </tr>\n",
              "    <tr>\n",
              "      <th id=\"T_4626c_level0_row5\" class=\"row_heading level0 row5\" >5</th>\n",
              "      <td id=\"T_4626c_row5_col0\" class=\"data row5 col0\" >0</td>\n",
              "      <td id=\"T_4626c_row5_col1\" class=\"data row5 col1\" >marketing</td>\n",
              "      <td id=\"T_4626c_row5_col2\" class=\"data row5 col2\" >3.480916</td>\n",
              "      <td id=\"T_4626c_row5_col3\" class=\"data row5 col3\" >198.888550</td>\n",
              "    </tr>\n",
              "    <tr>\n",
              "      <th id=\"T_4626c_level0_row6\" class=\"row_heading level0 row6\" >6</th>\n",
              "      <td id=\"T_4626c_row6_col0\" class=\"data row6 col0\" >0</td>\n",
              "      <td id=\"T_4626c_row6_col1\" class=\"data row6 col1\" >product_mng</td>\n",
              "      <td id=\"T_4626c_row6_col2\" class=\"data row6 col2\" >3.330966</td>\n",
              "      <td id=\"T_4626c_row6_col3\" class=\"data row6 col3\" >197.765625</td>\n",
              "    </tr>\n",
              "    <tr>\n",
              "      <th id=\"T_4626c_level0_row7\" class=\"row_heading level0 row7\" >7</th>\n",
              "      <td id=\"T_4626c_row7_col0\" class=\"data row7 col0\" >0</td>\n",
              "      <td id=\"T_4626c_row7_col1\" class=\"data row7 col1\" >sales</td>\n",
              "      <td id=\"T_4626c_row7_col2\" class=\"data row7 col2\" >3.443698</td>\n",
              "      <td id=\"T_4626c_row7_col3\" class=\"data row7 col3\" >199.571657</td>\n",
              "    </tr>\n",
              "    <tr>\n",
              "      <th id=\"T_4626c_level0_row8\" class=\"row_heading level0 row8\" >8</th>\n",
              "      <td id=\"T_4626c_row8_col0\" class=\"data row8 col0\" >0</td>\n",
              "      <td id=\"T_4626c_row8_col1\" class=\"data row8 col1\" >support</td>\n",
              "      <td id=\"T_4626c_row8_col2\" class=\"data row8 col2\" >3.213859</td>\n",
              "      <td id=\"T_4626c_row8_col3\" class=\"data row8 col3\" >199.140980</td>\n",
              "    </tr>\n",
              "    <tr>\n",
              "      <th id=\"T_4626c_level0_row9\" class=\"row_heading level0 row9\" >9</th>\n",
              "      <td id=\"T_4626c_row9_col0\" class=\"data row9 col0\" >0</td>\n",
              "      <td id=\"T_4626c_row9_col1\" class=\"data row9 col1\" >technical</td>\n",
              "      <td id=\"T_4626c_row9_col2\" class=\"data row9 col2\" >3.222442</td>\n",
              "      <td id=\"T_4626c_row9_col3\" class=\"data row9 col3\" >198.471083</td>\n",
              "    </tr>\n",
              "    <tr>\n",
              "      <th id=\"T_4626c_level0_row10\" class=\"row_heading level0 row10\" >10</th>\n",
              "      <td id=\"T_4626c_row10_col0\" class=\"data row10 col0\" >1</td>\n",
              "      <td id=\"T_4626c_row10_col1\" class=\"data row10 col1\" >IT</td>\n",
              "      <td id=\"T_4626c_row10_col2\" class=\"data row10 col2\" >3.860806</td>\n",
              "      <td id=\"T_4626c_row10_col3\" class=\"data row10 col3\" >213.849817</td>\n",
              "    </tr>\n",
              "    <tr>\n",
              "      <th id=\"T_4626c_level0_row11\" class=\"row_heading level0 row11\" >11</th>\n",
              "      <td id=\"T_4626c_row11_col0\" class=\"data row11 col0\" >1</td>\n",
              "      <td id=\"T_4626c_row11_col1\" class=\"data row11 col1\" >RandD</td>\n",
              "      <td id=\"T_4626c_row11_col2\" class=\"data row11 col2\" >4.000000</td>\n",
              "      <td id=\"T_4626c_row11_col3\" class=\"data row11 col3\" >210.975207</td>\n",
              "    </tr>\n",
              "    <tr>\n",
              "      <th id=\"T_4626c_level0_row12\" class=\"row_heading level0 row12\" >12</th>\n",
              "      <td id=\"T_4626c_row12_col0\" class=\"data row12 col0\" >1</td>\n",
              "      <td id=\"T_4626c_row12_col1\" class=\"data row12 col1\" >accounting</td>\n",
              "      <td id=\"T_4626c_row12_col2\" class=\"data row12 col2\" >3.794118</td>\n",
              "      <td id=\"T_4626c_row12_col3\" class=\"data row12 col3\" >207.029412</td>\n",
              "    </tr>\n",
              "    <tr>\n",
              "      <th id=\"T_4626c_level0_row13\" class=\"row_heading level0 row13\" >13</th>\n",
              "      <td id=\"T_4626c_row13_col0\" class=\"data row13 col0\" >1</td>\n",
              "      <td id=\"T_4626c_row13_col1\" class=\"data row13 col1\" >hr</td>\n",
              "      <td id=\"T_4626c_row13_col2\" class=\"data row13 col2\" >3.753488</td>\n",
              "      <td id=\"T_4626c_row13_col3\" class=\"data row13 col3\" >197.306977</td>\n",
              "    </tr>\n",
              "    <tr>\n",
              "      <th id=\"T_4626c_level0_row14\" class=\"row_heading level0 row14\" >14</th>\n",
              "      <td id=\"T_4626c_row14_col0\" class=\"data row14 col0\" >1</td>\n",
              "      <td id=\"T_4626c_row14_col1\" class=\"data row14 col1\" >management</td>\n",
              "      <td id=\"T_4626c_row14_col2\" class=\"data row14 col2\" >3.758242</td>\n",
              "      <td id=\"T_4626c_row14_col3\" class=\"data row14 col3\" >207.263736</td>\n",
              "    </tr>\n",
              "    <tr>\n",
              "      <th id=\"T_4626c_level0_row15\" class=\"row_heading level0 row15\" >15</th>\n",
              "      <td id=\"T_4626c_row15_col0\" class=\"data row15 col0\" >1</td>\n",
              "      <td id=\"T_4626c_row15_col1\" class=\"data row15 col1\" >marketing</td>\n",
              "      <td id=\"T_4626c_row15_col2\" class=\"data row15 col2\" >3.857143</td>\n",
              "      <td id=\"T_4626c_row15_col3\" class=\"data row15 col3\" >200.990148</td>\n",
              "    </tr>\n",
              "    <tr>\n",
              "      <th id=\"T_4626c_level0_row16\" class=\"row_heading level0 row16\" >16</th>\n",
              "      <td id=\"T_4626c_row16_col0\" class=\"data row16 col0\" >1</td>\n",
              "      <td id=\"T_4626c_row16_col1\" class=\"data row16 col1\" >product_mng</td>\n",
              "      <td id=\"T_4626c_row16_col2\" class=\"data row16 col2\" >3.989899</td>\n",
              "      <td id=\"T_4626c_row16_col3\" class=\"data row16 col3\" >207.787879</td>\n",
              "    </tr>\n",
              "    <tr>\n",
              "      <th id=\"T_4626c_level0_row17\" class=\"row_heading level0 row17\" >17</th>\n",
              "      <td id=\"T_4626c_row17_col0\" class=\"data row17 col0\" >1</td>\n",
              "      <td id=\"T_4626c_row17_col1\" class=\"data row17 col1\" >sales</td>\n",
              "      <td id=\"T_4626c_row17_col2\" class=\"data row17 col2\" >3.812623</td>\n",
              "      <td id=\"T_4626c_row17_col3\" class=\"data row17 col3\" >205.041420</td>\n",
              "    </tr>\n",
              "    <tr>\n",
              "      <th id=\"T_4626c_level0_row18\" class=\"row_heading level0 row18\" >18</th>\n",
              "      <td id=\"T_4626c_row18_col0\" class=\"data row18 col0\" >1</td>\n",
              "      <td id=\"T_4626c_row18_col1\" class=\"data row18 col1\" >support</td>\n",
              "      <td id=\"T_4626c_row18_col2\" class=\"data row18 col2\" >3.933333</td>\n",
              "      <td id=\"T_4626c_row18_col3\" class=\"data row18 col3\" >205.636036</td>\n",
              "    </tr>\n",
              "    <tr>\n",
              "      <th id=\"T_4626c_level0_row19\" class=\"row_heading level0 row19\" >19</th>\n",
              "      <td id=\"T_4626c_row19_col0\" class=\"data row19 col0\" >1</td>\n",
              "      <td id=\"T_4626c_row19_col1\" class=\"data row19 col1\" >technical</td>\n",
              "      <td id=\"T_4626c_row19_col2\" class=\"data row19 col2\" >3.959828</td>\n",
              "      <td id=\"T_4626c_row19_col3\" class=\"data row19 col3\" >214.183644</td>\n",
              "    </tr>\n",
              "  </tbody>\n",
              "</table>\n"
            ]
          },
          "metadata": {},
          "execution_count": 69
        }
      ]
    }
  ]
}