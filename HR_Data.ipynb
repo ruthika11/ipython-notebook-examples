{
  "nbformat": 4,
  "nbformat_minor": 0,
  "metadata": {
    "colab": {
      "provenance": [],
      "authorship_tag": "ABX9TyPj8jkmsdqWudwu/XzKUFZh",
      "include_colab_link": true
    },
    "kernelspec": {
      "name": "python3",
      "display_name": "Python 3"
    },
    "language_info": {
      "name": "python"
    }
  },
  "cells": [
    {
      "cell_type": "markdown",
      "metadata": {
        "id": "view-in-github",
        "colab_type": "text"
      },
      "source": [
        "<a href=\"https://colab.research.google.com/github/ruthika11/ipython-notebook-examples/blob/master/Covid_Miniproject.ipynb\" target=\"_parent\"><img src=\"https://colab.research.google.com/assets/colab-badge.svg\" alt=\"Open In Colab\"/></a>"
      ]
    },
    {
      "cell_type": "code",
      "source": [
        "'''\n",
        "OBSERVATION QUESTIONS\n",
        "1.How many distinct counties + state there (hint: unique)\n",
        "2.Is there any data missing for any month/day of any year? (hint: use unique applied on date + month part of each year)\n",
        "\n",
        "QUESTIONS\n",
        "1.Top 10 states having highest total death in the year 2020\n",
        "2.Top 10 states having highest total death in the year 2021\n",
        "3.Top 10 states having highest average death in the year 2020\n",
        "4.Top 10 states having highest average death in the year 2021\n",
        "5.Top 10 county having highest total death in 2020 and 2021 year together\n",
        "Output: county, sum_deaths\n",
        "6.Find/print all pair of counties that have the same name but belong to two different states (hint: use pandas self join)\n",
        "7.Print list of Top N states by the least number of death in a specific year. Also needed to be ranked.\n",
        "   a).Top 10 least death states in 2020\n",
        "   b).Top 10 least death states in 2021\n",
        "8.Print Top N states in the last three months of the year 2021. Also needed to be ranked. Also right this output as a file in folder /content/drive/MyDrive/data_preprocessing with header and no index.\n",
        "   a).Top 10 least death states in last three months of the year 2021\n",
        "   b).Top 10 most death states in last three months of the year 2021\n",
        "'''\n",
        "print(\"COVID-19\\n\")"
      ],
      "metadata": {
        "id": "60Km5QqJZ0lU"
      },
      "execution_count": null,
      "outputs": []
    },
    {
      "cell_type": "code",
      "source": [
        "import pandas as pd\n",
        "import csv\n",
        "from tabulate import tabulate\n",
        "from google.colab import drive\n",
        "drive.mount(\"/content/drive/\")"
      ],
      "metadata": {
        "id": "52R2MnRKKJXs"
      },
      "execution_count": null,
      "outputs": []
    },
    {
      "cell_type": "code",
      "source": [
        "!ls -ltr /content/drive/MyDrive"
      ],
      "metadata": {
        "id": "UWdmKeeYKYEC"
      },
      "execution_count": null,
      "outputs": []
    },
    {
      "cell_type": "code",
      "source": [
        "def "
      ],
      "metadata": {
        "id": "0w9VacY9CHGr"
      },
      "execution_count": null,
      "outputs": []
    },
    {
      "cell_type": "code",
      "source": [
        "us_counties = pd.read_csv(r\"/content/drive/MyDrive/us-counties.csv\")\n",
        "us_counties_recent = pd.read_csv(r\"/content/drive/MyDrive/us-counties-recent.csv\")\n",
        "df = pd.merge(us_counties,us_counties_recent,how = 'outer')"
      ],
      "metadata": {
        "id": "3S3DyIAhKQnN"
      },
      "execution_count": null,
      "outputs": []
    },
    {
      "cell_type": "code",
      "source": [
        "df['Rank_by_deaths'] = df['deaths'].rank(ascending = False)\n",
        "print(df['Rank_by_deaths'])"
      ],
      "metadata": {
        "colab": {
          "base_uri": "https://localhost:8080/"
        },
        "id": "-9rRCFA1MAD3",
        "outputId": "ed9b720f-d1da-4c36-f648-851f44440f11"
      },
      "execution_count": 47,
      "outputs": [
        {
          "output_type": "stream",
          "name": "stdout",
          "text": [
            "0          1921700.0\n",
            "1          1921700.0\n",
            "2          1921700.0\n",
            "3          1921700.0\n",
            "4          1921700.0\n",
            "             ...    \n",
            "2099369     396363.0\n",
            "2099370    1239922.5\n",
            "2099371     901570.0\n",
            "2099372     841102.0\n",
            "2099373    1195181.0\n",
            "Name: Rank_by_deaths, Length: 2099374, dtype: float64\n"
          ]
        }
      ]
    },
    {
      "cell_type": "code",
      "source": [
        "print(df['deaths'].rank(ascending = False).head(10))"
      ],
      "metadata": {
        "id": "nHPB_yEnZzSP",
        "colab": {
          "base_uri": "https://localhost:8080/"
        },
        "outputId": "5e81d725-620d-4fe7-e645-6b9638ec1406"
      },
      "execution_count": 46,
      "outputs": [
        {
          "output_type": "stream",
          "name": "stdout",
          "text": [
            "0    1921700.0\n",
            "1    1921700.0\n",
            "2    1921700.0\n",
            "3    1921700.0\n",
            "4    1921700.0\n",
            "5    1921700.0\n",
            "6    1921700.0\n",
            "7    1921700.0\n",
            "8    1921700.0\n",
            "9    1921700.0\n",
            "Name: deaths, dtype: float64\n"
          ]
        }
      ]
    }
  ]
}
