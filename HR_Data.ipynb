{
  "nbformat": 4,
  "nbformat_minor": 0,
  "metadata": {
    "colab": {
      "provenance": [],
      "mount_file_id": "1_JtMyuulVetOrtrgV-xaajamO3G0wTb7",
      "authorship_tag": "ABX9TyPojYVSgxW/Q06AFGJRtPtO",
      "include_colab_link": true
    },
    "kernelspec": {
      "name": "python3",
      "display_name": "Python 3"
    },
    "language_info": {
      "name": "python"
    }
  },
  "cells": [
    {
      "cell_type": "markdown",
      "metadata": {
        "id": "view-in-github",
        "colab_type": "text"
      },
      "source": [
        "<a href=\"https://colab.research.google.com/github/ruthika11/ipython-notebook-examples/blob/master/HR_Data.ipynb\" target=\"_parent\"><img src=\"https://colab.research.google.com/assets/colab-badge.svg\" alt=\"Open In Colab\"/></a>"
      ]
    },
    {
      "cell_type": "markdown",
      "source": [
        "# **Questions:**\n",
        "Department in this document means the column \"sales\".\n",
        "\n",
        "**1**.How many employees in each of the department (use column \"sales\")      \n",
        "Output:\n",
        "sales,num_employees\n",
        "\n",
        "**2**.Among employees who left, get the department wise (use column \"sales\"), number of employees and rank them.  \n",
        "Output:\n",
        "sales,num_employees,rank\n",
        "\n",
        "**3**.Average number of years (time_spend_company) and average number of monthly hours (average_monthly_hours) for the employees left and not left under each department. Sort the value by sales.  \n",
        "Output:\n",
        "left,sales,avg_time_spend_company,avg_average_monthly_hours\n",
        "\n",
        "**4**.Under each department, what is the minimum and maximum for both left and not left employees related to time_spend_company and average_monthly_hours. Sort the value by sales.  \n",
        "Output:\n",
        "left,sales,min_time_spend_company,max_time_spend_company,min_average_monthly_hours,max_average_monthly_hours\n",
        "\n",
        "**5**.Under each department, what is the minimum, maximum, average on last evaluation (last_evaluation) and satisfaction level (satisfaction_level) for both left and not left. Sort the value by sales.     \n",
        "Output:  \n",
        "left,sales,min_last_evaluation,max_last_evaluation,avg_last_evaluation, min_satisfaction_level, max_satisfaction_level,avg_satisfaction_level\n",
        "\n",
        "**6**.Under each department, what is the count on work accidents (work_accident) and promotion for the last 5 years (promotion_last_5years) for both left and not left. Sort the value by sales.\n",
        "Output:\n",
        "left,sales,count_work_accident,count_promotion_last_5years\n",
        "\n",
        "**7**.Bring the output from question 3-6 above.\n",
        "\n",
        "Output:\n",
        "left,sales,avg_time_spend_company,avg_average_monthly_hours,min_time_spend_company,max_time_spend_company,min_average_monthly_hours, max_average_monthly_hours,min_last_evaluation,max_last_evaluation,avg_last_evaluation,min_satisfaction_level, max_satisfaction_level, avg_satisfaction_level,count_work_accident,count_promotion_last_5years\n",
        "\n",
        "**8**.Using output from the question 7 above, plot them as a grouped bar chart (similar to this or see group bar chart below) with seaborn. There must be two bars, one bar representing left and another for not left. This plot is for each unique department values in column “sales.”\n",
        "\n",
        "X-axis => left or not left  \n",
        "Y-axis => avg_time_spend_company (for each unique department values in column \"sales\"). This is the average calculated from \"time_spend_company\"\n",
        "\n",
        "**9**.For output of 3, plot heat map as shown in the image following with the numbers. One approach is to use seaborn\n",
        "\n",
        "\n",
        "\n"
      ],
      "metadata": {
        "id": "ujPYgFboLwmp"
      }
    },
    {
      "cell_type": "code",
      "execution_count": 1,
      "metadata": {
        "id": "f0T6SE8mLMA-"
      },
      "outputs": [],
      "source": [
        "import pandas as pd\n",
        "import csv\n"
      ]
    },
    {
      "cell_type": "code",
      "source": [],
      "metadata": {
        "id": "QXWg7AzAwq76"
      },
      "execution_count": null,
      "outputs": []
    }
  ]
}