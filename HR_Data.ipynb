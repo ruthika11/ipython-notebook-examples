{
  "nbformat": 4,
  "nbformat_minor": 0,
  "metadata": {
    "colab": {
      "provenance": [],
      "authorship_tag": "ABX9TyOU5oHos051qBnJaOKTLZ9M",
      "include_colab_link": true
    },
    "kernelspec": {
      "name": "python3",
      "display_name": "Python 3"
    },
    "language_info": {
      "name": "python"
    }
  },
  "cells": [
    {
      "cell_type": "markdown",
      "metadata": {
        "id": "view-in-github",
        "colab_type": "text"
      },
      "source": [
        "<a href=\"https://colab.research.google.com/github/ruthika11/ipython-notebook-examples/blob/master/HR_Data.ipynb\" target=\"_parent\"><img src=\"https://colab.research.google.com/assets/colab-badge.svg\" alt=\"Open In Colab\"/></a>"
      ]
    },
    {
      "cell_type": "markdown",
      "source": [
        "# **Questions:**\n",
        "Department in this document means the column \"sales\".\n",
        "\n",
        "**1**.How many employees in each of the department (use column \"sales\")      \n",
        "Output:\n",
        "sales,num_employees\n",
        "\n",
        "**2**.Among employees who left, get the department wise (use column \"sales\"), number of employees and rank them.  \n",
        "Output:\n",
        "sales,num_employees,rank\n",
        "\n",
        "**3**.Average number of years (time_spend_company) and average number of monthly hours (average_monthly_hours) for the employees left and not left under each department. Sort the value by sales.  \n",
        "Output:\n",
        "left,sales,avg_time_spend_company,avg_average_monthly_hours\n",
        "\n",
        "**4**.Under each department, what is the minimum and maximum for both left and not left employees related to time_spend_company and average_monthly_hours. Sort the value by sales.  \n",
        "Output:\n",
        "left,sales,min_time_spend_company,max_time_spend_company,min_average_monthly_hours,max_average_monthly_hours\n",
        "\n",
        "**5**.Under each department, what is the minimum, maximum, average on last evaluation (last_evaluation) and satisfaction level (satisfaction_level) for both left and not left. Sort the value by sales.     \n",
        "Output:  \n",
        "left,sales,min_last_evaluation,max_last_evaluation,avg_last_evaluation, min_satisfaction_level, max_satisfaction_level,avg_satisfaction_level\n",
        "\n",
        "**6**.Under each department, what is the count on work accidents (work_accident) and promotion for the last 5 years (promotion_last_5years) for both left and not left. Sort the value by sales.\n",
        "Output:\n",
        "left,sales,count_work_accident,count_promotion_last_5years\n",
        "\n",
        "**7**.Bring the output from question 3-6 above.\n",
        "\n",
        "Output:\n",
        "left,sales,avg_time_spend_company,avg_average_monthly_hours,min_time_spend_company,max_time_spend_company,min_average_monthly_hours, max_average_monthly_hours,min_last_evaluation,max_last_evaluation,avg_last_evaluation,min_satisfaction_level, max_satisfaction_level, avg_satisfaction_level,count_work_accident,count_promotion_last_5years\n",
        "\n",
        "**8**.Using output from the question 7 above, plot them as a grouped bar chart (similar to this or see group bar chart below) with seaborn. There must be two bars, one bar representing left and another for not left. This plot is for each unique department values in column “sales.”\n",
        "\n",
        "X-axis => left or not left  \n",
        "Y-axis => avg_time_spend_company (for each unique department values in column \"sales\"). This is the average calculated from \"time_spend_company\"\n",
        "\n",
        "**9**.For output of 3, plot heat map as shown in the image following with the numbers. One approach is to use seaborn\n",
        "\n",
        "\n",
        "\n"
      ],
      "metadata": {
        "id": "ujPYgFboLwmp"
      }
    },
    {
      "cell_type": "code",
      "execution_count": null,
      "metadata": {
        "id": "f0T6SE8mLMA-"
      },
      "outputs": [],
      "source": [
        "import pandas as pd\n",
        "import csv\n",
        "from google.colab import drive\n",
        "drive.mount(\"/content/drive/\")"
      ]
    },
    {
      "cell_type": "code",
      "source": [
        "df = pd.read_csv(r\"/content/drive/MyDrive/HR_comma_sep.csv\")\n",
        "print(df.head(10))"
      ],
      "metadata": {
        "colab": {
          "base_uri": "https://localhost:8080/"
        },
        "id": "QXWg7AzAwq76",
        "outputId": "a618b494-7884-4835-db02-17324a45de1a"
      },
      "execution_count": 3,
      "outputs": [
        {
          "output_type": "stream",
          "name": "stdout",
          "text": [
            "   satisfaction_level  last_evaluation  number_project  average_montly_hours  \\\n",
            "0                0.38             0.53               2                   157   \n",
            "1                0.80             0.86               5                   262   \n",
            "2                0.11             0.88               7                   272   \n",
            "3                0.72             0.87               5                   223   \n",
            "4                0.37             0.52               2                   159   \n",
            "5                0.41             0.50               2                   153   \n",
            "6                0.10             0.77               6                   247   \n",
            "7                0.92             0.85               5                   259   \n",
            "8                0.89             1.00               5                   224   \n",
            "9                0.42             0.53               2                   142   \n",
            "\n",
            "   time_spend_company  Work_accident  left  promotion_last_5years  sales  \\\n",
            "0                   3              0     1                      0  sales   \n",
            "1                   6              0     1                      0  sales   \n",
            "2                   4              0     1                      0  sales   \n",
            "3                   5              0     1                      0  sales   \n",
            "4                   3              0     1                      0  sales   \n",
            "5                   3              0     1                      0  sales   \n",
            "6                   4              0     1                      0  sales   \n",
            "7                   5              0     1                      0  sales   \n",
            "8                   5              0     1                      0  sales   \n",
            "9                   3              0     1                      0  sales   \n",
            "\n",
            "   salary  \n",
            "0     low  \n",
            "1  medium  \n",
            "2  medium  \n",
            "3     low  \n",
            "4     low  \n",
            "5     low  \n",
            "6     low  \n",
            "7     low  \n",
            "8     low  \n",
            "9     low  \n"
          ]
        }
      ]
    }
  ]
}