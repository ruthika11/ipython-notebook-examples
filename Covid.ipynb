{
  "nbformat": 4,
  "nbformat_minor": 0,
  "metadata": {
    "colab": {
      "provenance": [],
      "authorship_tag": "ABX9TyP5umqBDSAu8hoOX3jJIzT8",
      "include_colab_link": true
    },
    "kernelspec": {
      "name": "python3",
      "display_name": "Python 3"
    },
    "language_info": {
      "name": "python"
    }
  },
  "cells": [
    {
      "cell_type": "markdown",
      "metadata": {
        "id": "view-in-github",
        "colab_type": "text"
      },
      "source": [
        "<a href=\"https://colab.research.google.com/github/ruthika11/ipython-notebook-examples/blob/master/Covid.ipynb\" target=\"_parent\"><img src=\"https://colab.research.google.com/assets/colab-badge.svg\" alt=\"Open In Colab\"/></a>"
      ]
    },
    {
      "cell_type": "markdown",
      "source": [
        "\n",
        "# **OBSERVATION QUESTIONS**\n",
        "\n",
        "\n",
        "\n",
        "\n",
        "**1.**How many distinct counties + state there (hint: unique)\n",
        "\n",
        "**2.**Is there any data missing for any month/day of any year? (hint: use unique applied on date + month part of each year)\n",
        "\n",
        "\n",
        "\n",
        "# **QUESTIONS**\n",
        "\n",
        "**1**.Top 10 states having highest total death in the year 2020\n",
        "\n",
        "**2.**Top 10 states having highest total death in the year 2021\n",
        "\n",
        "**3.**Top 10 states having highest average death in the year 2020\n",
        "\n",
        "**4.**Top 10 states having highest average death in the year 2021\n",
        "\n",
        "\n",
        "**5.**Top 10 county having highest total death in 2020 and 2021 year together\n",
        "Output: county, sum_deaths\n",
        "\n",
        "**6.**Find/print all pair of counties that have the same name but belong to two different states (hint: use pandas self join)\n",
        "\n",
        "**7.**Print list of Top N states by the least number of death in a specific year. Also needed to be ranked.\n",
        "\n",
        "  **a).**Top 10 least death states in 2020\n",
        "\n",
        "   **b).**Top 10 least death states in 2021\n",
        "\n",
        "**8.**Print Top N states in the last three months of the year 2021. Also needed to be ranked. Also right this output as a file in folder /content/drive/MyDrive/data_preprocessing with header and no index.\n",
        "\n",
        "   **a).**Top 10 least death states in last three months of the year 2021\n",
        "\n",
        "   **b)**Top 10 most death states in last three months of the year 2021"
      ],
      "metadata": {
        "id": "3a29uqg8_Q0E"
      }
    },
    {
      "cell_type": "code",
      "source": [
        "print(\"COVID-19\\n\")"
      ],
      "metadata": {
        "id": "oUaYaHXkQCB1"
      },
      "execution_count": null,
      "outputs": []
    },
    {
      "cell_type": "code",
      "source": [
        "import pandas as pd\n",
        "import numpy as np\n",
        "import csv\n",
        "from tabulate import tabulate\n",
        "from google.colab import drive\n",
        "drive.mount(\"/content/drive/\")\n",
        "from time import strptime\n",
        "import datetime\n",
        "from dateutil import parser"
      ],
      "metadata": {
        "id": "52R2MnRKKJXs"
      },
      "execution_count": null,
      "outputs": []
    },
    {
      "cell_type": "code",
      "source": [
        "!ls -ltr /content/drive/MyDrive"
      ],
      "metadata": {
        "id": "UWdmKeeYKYEC"
      },
      "execution_count": null,
      "outputs": []
    },
    {
      "cell_type": "code",
      "source": [
        "!pip install DateTime"
      ],
      "metadata": {
        "id": "qTeHw6TJcObD"
      },
      "execution_count": null,
      "outputs": []
    },
    {
      "cell_type": "code",
      "source": [
        "us_counties = pd.read_csv(r\"/content/drive/MyDrive/us-counties.csv\")\n",
        "us_counties_recent = pd.read_csv(r\"/content/drive/MyDrive/us-counties-recent.csv\")\n",
        "df = pd.merge(us_counties,us_counties_recent,how = 'outer')"
      ],
      "metadata": {
        "id": "3S3DyIAhKQnN"
      },
      "execution_count": null,
      "outputs": []
    },
    {
      "cell_type": "markdown",
      "source": [
        "# **OBSERVATION QUESTIONS**\n",
        "# 1.How many distinct counties + state there (hint: unique)"
      ],
      "metadata": {
        "id": "Zn0wmov9qlGQ"
      }
    },
    {
      "cell_type": "code",
      "source": [
        "state = df['state'].unique()\n",
        "county = df['county'].unique()"
      ],
      "metadata": {
        "id": "36NcsbAQiVyC"
      },
      "execution_count": null,
      "outputs": []
    },
    {
      "cell_type": "code",
      "source": [
        "def get_year(row):\n",
        " return parser.parse(row['date']).year\n",
        "df['year'] = df.apply(get_year,axis = 1)\n",
        "print(df)"
      ],
      "metadata": {
        "id": "hMhwBPoYn78f"
      },
      "execution_count": null,
      "outputs": []
    },
    {
      "cell_type": "code",
      "source": [
        "df2020 = df.where(df[\"year\"] == 2020)\n",
        "df2021 = df.where(df[\"year\"] == 2021)"
      ],
      "metadata": {
        "id": "hZlZyFfkjLbP"
      },
      "execution_count": null,
      "outputs": []
    },
    {
      "cell_type": "markdown",
      "source": [
        "# **QUESTIONS**\n",
        "# 1.Top 10 states having highest total death in the year 2020"
      ],
      "metadata": {
        "id": "Jaco07xPkOa9"
      }
    },
    {
      "cell_type": "code",
      "source": [
        "df_2020 = df2020.groupby(['state'])['deaths'].sum().to_frame(\"Death Count\").reset_index()\n",
        "df_2020_high = df_2020.sort_values(by = [\"Death Count\"], ascending = False)\n",
        "print(df_2020_high.head(10))"
      ],
      "metadata": {
        "id": "AywKu93KhtLR"
      },
      "execution_count": null,
      "outputs": []
    },
    {
      "cell_type": "markdown",
      "source": [
        "# 2.Top 10 states having highest total death in the year 2021"
      ],
      "metadata": {
        "id": "ewCSdW1aoxn2"
      }
    },
    {
      "cell_type": "code",
      "source": [
        "df_2021 = df2021.groupby(['state'])[\"deaths\"].sum().to_frame(\"Death Count\").reset_index()\n",
        "df_2021_high = df_2021.sort_values(by = [\"Death Count\"], ascending = False)\n",
        "print(df_2021_high.head(10))"
      ],
      "metadata": {
        "id": "Mvl2aCdgo3jP"
      },
      "execution_count": null,
      "outputs": []
    },
    {
      "cell_type": "markdown",
      "source": [
        "# 3.Top 10 states having highest average death in the year 2020"
      ],
      "metadata": {
        "id": "WOEanqW5qhDX"
      }
    },
    {
      "cell_type": "code",
      "source": [],
      "metadata": {
        "id": "D06ARbi7sZSn"
      },
      "execution_count": null,
      "outputs": []
    },
    {
      "cell_type": "markdown",
      "source": [],
      "metadata": {
        "id": "cMuiWNVrtJQk"
      }
    },
    {
      "cell_type": "code",
      "source": [],
      "metadata": {
        "id": "bG5f58P8tJ9c"
      },
      "execution_count": null,
      "outputs": []
    }
  ]
}