{
  "nbformat": 4,
  "nbformat_minor": 0,
  "metadata": {
    "colab": {
      "provenance": [],
      "authorship_tag": "ABX9TyPm9mHFwTxonK+Q3NJ0JH81",
      "include_colab_link": true
    },
    "kernelspec": {
      "name": "python3",
      "display_name": "Python 3"
    },
    "language_info": {
      "name": "python"
    }
  },
  "cells": [
    {
      "cell_type": "markdown",
      "metadata": {
        "id": "view-in-github",
        "colab_type": "text"
      },
      "source": [
        "<a href=\"https://colab.research.google.com/github/ruthika11/ipython-notebook-examples/blob/master/Covid.ipynb\" target=\"_parent\"><img src=\"https://colab.research.google.com/assets/colab-badge.svg\" alt=\"Open In Colab\"/></a>"
      ]
    },
    {
      "cell_type": "code",
      "source": [
        "'''\n",
        "OBSERVATION QUESTIONS\n",
        "1.How many distinct counties + state there (hint: unique)\n",
        "2.Is there any data missing for any month/day of any year? (hint: use unique applied on date + month part of each year)\n",
        "\n",
        "QUESTIONS\n",
        "1.Top 10 states having highest total death in the year 2020\n",
        "2.Top 10 states having highest total death in the year 2021\n",
        "3.Top 10 states having highest average death in the year 2020\n",
        "4.Top 10 states having highest average death in the year 2021\n",
        "5.Top 10 county having highest total death in 2020 and 2021 year together\n",
        "Output: county, sum_deaths\n",
        "6.Find/print all pair of counties that have the same name but belong to two different states (hint: use pandas self join)\n",
        "7.Print list of Top N states by the least number of death in a specific year. Also needed to be ranked.\n",
        "   a).Top 10 least death states in 2020\n",
        "   b).Top 10 least death states in 2021\n",
        "8.Print Top N states in the last three months of the year 2021. Also needed to be ranked. Also right this output as a file in folder /content/drive/MyDrive/data_preprocessing with header and no index.\n",
        "   a).Top 10 least death states in last three months of the year 2021\n",
        "   b).Top 10 most death states in last three months of the year 2021\n",
        "'''\n",
        "print(\"COVID-19\\n\")"
      ],
      "metadata": {
        "id": "60Km5QqJZ0lU"
      },
      "execution_count": null,
      "outputs": []
    },
    {
      "cell_type": "code",
      "source": [
        "import pandas as pd\n",
        "import numpy as np\n",
        "import csv\n",
        "from tabulate import tabulate\n",
        "from google.colab import drive\n",
        "drive.mount(\"/content/drive/\")\n",
        "from time import strptime\n",
        "import datetime\n",
        "from dateutil import parser"
      ],
      "metadata": {
        "id": "52R2MnRKKJXs"
      },
      "execution_count": null,
      "outputs": []
    },
    {
      "cell_type": "code",
      "source": [
        "!ls -ltr /content/drive/MyDrive"
      ],
      "metadata": {
        "id": "UWdmKeeYKYEC"
      },
      "execution_count": null,
      "outputs": []
    },
    {
      "cell_type": "code",
      "source": [
        "!pip install DateTime"
      ],
      "metadata": {
        "id": "qTeHw6TJcObD"
      },
      "execution_count": null,
      "outputs": []
    },
    {
      "cell_type": "code",
      "source": [
        "us_counties = pd.read_csv(r\"/content/drive/MyDrive/us-counties.csv\")\n",
        "us_counties_recent = pd.read_csv(r\"/content/drive/MyDrive/us-counties-recent.csv\")\n",
        "df = pd.merge(us_counties,us_counties_recent,how = 'outer')\n",
        "df[\"date\"] = df['date'].astype(str)\n",
        "print(df)\n",
        "print(df.dtypes)"
      ],
      "metadata": {
        "id": "3S3DyIAhKQnN"
      },
      "execution_count": null,
      "outputs": []
    },
    {
      "cell_type": "code",
      "source": [
        "state = df['state'].unique()\n",
        "county = df['county'].unique()"
      ],
      "metadata": {
        "id": "36NcsbAQiVyC"
      },
      "execution_count": 6,
      "outputs": []
    },
    {
      "cell_type": "code",
      "source": [
        "def get_year(row):\n",
        " return parser.parse(row['date']).year\n",
        "df['year'] = df.apply(get_year,axis = 1)\n",
        "\n",
        "print(df)"
      ],
      "metadata": {
        "id": "hMhwBPoYn78f",
        "colab": {
          "base_uri": "https://localhost:8080/"
        },
        "outputId": "151cba82-144b-47b5-9484-60c0b2b241f4"
      },
      "execution_count": 14,
      "outputs": [
        {
          "output_type": "stream",
          "name": "stdout",
          "text": [
            "               date      county       state     fips  cases  deaths  year\n",
            "0        2020-01-21   Snohomish  Washington  53061.0      1     0.0  2020\n",
            "1        2020-01-22   Snohomish  Washington  53061.0      1     0.0  2020\n",
            "2        2020-01-23   Snohomish  Washington  53061.0      1     0.0  2020\n",
            "3        2020-01-24        Cook    Illinois  17031.0      1     0.0  2020\n",
            "4        2020-01-24   Snohomish  Washington  53061.0      1     0.0  2020\n",
            "...             ...         ...         ...      ...    ...     ...   ...\n",
            "2099369  2022-01-09  Sweetwater     Wyoming  56037.0   8506   110.0  2022\n",
            "2099370  2022-01-09       Teton     Wyoming  56039.0   7025    14.0  2022\n",
            "2099371  2022-01-09       Uinta     Wyoming  56041.0   4264    34.0  2022\n",
            "2099372  2022-01-09    Washakie     Wyoming  56043.0   1914    39.0  2022\n",
            "2099373  2022-01-09      Weston     Wyoming  56045.0   1263    16.0  2022\n",
            "\n",
            "[2099374 rows x 7 columns]\n"
          ]
        }
      ]
    },
    {
      "cell_type": "code",
      "source": [
        "df2020 = df.where(df[\"year\"] == 2020)\n",
        "print(df2020)"
      ],
      "metadata": {
        "id": "hZlZyFfkjLbP",
        "colab": {
          "base_uri": "https://localhost:8080/"
        },
        "outputId": "bcf2c6d8-1efd-4e89-99b3-f4d7496dc455"
      },
      "execution_count": 15,
      "outputs": [
        {
          "output_type": "stream",
          "name": "stdout",
          "text": [
            "               date     county       state     fips  cases  deaths    year\n",
            "0        2020-01-21  Snohomish  Washington  53061.0    1.0     0.0  2020.0\n",
            "1        2020-01-22  Snohomish  Washington  53061.0    1.0     0.0  2020.0\n",
            "2        2020-01-23  Snohomish  Washington  53061.0    1.0     0.0  2020.0\n",
            "3        2020-01-24       Cook    Illinois  17031.0    1.0     0.0  2020.0\n",
            "4        2020-01-24  Snohomish  Washington  53061.0    1.0     0.0  2020.0\n",
            "...             ...        ...         ...      ...    ...     ...     ...\n",
            "2099369         NaN        NaN         NaN      NaN    NaN     NaN     NaN\n",
            "2099370         NaN        NaN         NaN      NaN    NaN     NaN     NaN\n",
            "2099371         NaN        NaN         NaN      NaN    NaN     NaN     NaN\n",
            "2099372         NaN        NaN         NaN      NaN    NaN     NaN     NaN\n",
            "2099373         NaN        NaN         NaN      NaN    NaN     NaN     NaN\n",
            "\n",
            "[2099374 rows x 7 columns]\n"
          ]
        }
      ]
    },
    {
      "cell_type": "code",
      "source": [
        "df_2020 = df2020.groupby(['state'])['deaths'].sum().to_frame(\"Death Count\").reset_index()\n",
        "print(df_2020)"
      ],
      "metadata": {
        "id": "-9rRCFA1MAD3",
        "colab": {
          "base_uri": "https://localhost:8080/"
        },
        "outputId": "b035f757-885b-4778-b064-00c54dfa7837"
      },
      "execution_count": 16,
      "outputs": [
        {
          "output_type": "stream",
          "name": "stdout",
          "text": [
            "                       state  Death Count\n",
            "0                    Alabama     526388.0\n",
            "1                     Alaska      13147.0\n",
            "2                    Arizona    1048821.0\n",
            "3                   Arkansas     285868.0\n",
            "4                 California    3065113.0\n",
            "5                   Colorado     542870.0\n",
            "6                Connecticut    1119863.0\n",
            "7                   Delaware     145664.0\n",
            "8       District of Columbia     146395.0\n",
            "9                    Florida    2632238.0\n",
            "10                   Georgia    1363977.0\n",
            "11                      Guam      10424.0\n",
            "12                    Hawaii      27227.0\n",
            "13                     Idaho     109143.0\n",
            "14                  Illinois    2211390.0\n",
            "15                   Indiana     920773.0\n",
            "16                      Iowa     335716.0\n",
            "17                    Kansas     187629.0\n",
            "18                  Kentucky     285739.0\n",
            "19                 Louisiana    1184574.0\n",
            "20                     Maine      35654.0\n",
            "21                  Maryland     912049.0\n",
            "22             Massachusetts    2222455.0\n",
            "23                  Michigan    1837617.0\n",
            "24                 Minnesota     531337.0\n",
            "25               Mississippi     572569.0\n",
            "26                  Missouri     530055.0\n",
            "27                   Montana      58866.0\n",
            "28                  Nebraska     132992.0\n",
            "29                    Nevada     319370.0\n",
            "30             New Hampshire     102996.0\n",
            "31                New Jersey    3817150.0\n",
            "32                New Mexico     217023.0\n",
            "33                  New York    8320598.0\n",
            "34            North Carolina     734456.0\n",
            "35              North Dakota      87065.0\n",
            "36  Northern Mariana Islands        544.0\n",
            "37                      Ohio    1062373.0\n",
            "38                  Oklahoma     233760.0\n",
            "39                    Oregon     128396.0\n",
            "40              Pennsylvania    2002629.0\n",
            "41               Puerto Rico     134516.0\n",
            "42              Rhode Island     262024.0\n",
            "43            South Carolina     618708.0\n",
            "44              South Dakota      86828.0\n",
            "45                 Tennessee     540030.0\n",
            "46                     Texas    2927740.0\n",
            "47                      Utah     111490.0\n",
            "48                   Vermont      16434.0\n",
            "49            Virgin Islands       3503.0\n",
            "50                  Virginia     668990.0\n",
            "51                Washington     504771.0\n",
            "52             West Virginia      84127.0\n",
            "53                 Wisconsin     410977.0\n",
            "54                   Wyoming      20734.0\n"
          ]
        }
      ]
    }
  ]
}