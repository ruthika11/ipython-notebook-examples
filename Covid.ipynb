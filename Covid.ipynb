{
  "nbformat": 4,
  "nbformat_minor": 0,
  "metadata": {
    "colab": {
      "provenance": [],
      "authorship_tag": "ABX9TyMT39qAECgKM9Z6/gO3ezmB",
      "include_colab_link": true
    },
    "kernelspec": {
      "name": "python3",
      "display_name": "Python 3"
    },
    "language_info": {
      "name": "python"
    }
  },
  "cells": [
    {
      "cell_type": "markdown",
      "metadata": {
        "id": "view-in-github",
        "colab_type": "text"
      },
      "source": [
        "<a href=\"https://colab.research.google.com/github/ruthika11/ipython-notebook-examples/blob/master/Covid.ipynb\" target=\"_parent\"><img src=\"https://colab.research.google.com/assets/colab-badge.svg\" alt=\"Open In Colab\"/></a>"
      ]
    },
    {
      "cell_type": "markdown",
      "source": [
        "\n",
        "# **OBSERVATION QUESTIONS**\n",
        "\n",
        "\n",
        "\n",
        "\n",
        "**1.**How many distinct counties + state there (hint: unique)\n",
        "\n",
        "**2.**Is there any data missing for any month/day of any year? (hint: use unique applied on date + month part of each year)\n",
        "\n",
        "\n",
        "\n",
        "# **QUESTIONS**\n",
        "\n",
        "**1**.Top 10 states having highest total death in the year 2020\n",
        "\n",
        "**2.**Top 10 states having highest total death in the year 2021\n",
        "\n",
        "**3.**Top 10 states having highest average death in the year 2020\n",
        "\n",
        "**4.**Top 10 states having highest average death in the year 2021\n",
        "\n",
        "\n",
        "**5.**Top 10 county having highest total death in 2020 and 2021 year together\n",
        "Output: county, sum_deaths\n",
        "\n",
        "**6.**Find/print all pair of counties that have the same name but belong to two different states (hint: use pandas self join)\n",
        "\n",
        "**7.**Print list of Top N states by the least number of death in a specific year. Also needed to be ranked.\n",
        "\n",
        "  **a).**Top 10 least death states in 2020\n",
        "\n",
        "   **b).**Top 10 least death states in 2021\n",
        "\n",
        "**8.**Print Top N states in the last three months of the year 2021. Also needed to be ranked. Also right this output as a file in folder /content/drive/MyDrive/data_preprocessing with header and no index.\n",
        "\n",
        "   **a).**Top 10 least death states in last three months of the year 2021\n",
        "\n",
        "   **b)**Top 10 most death states in last three months of the year 2021"
      ],
      "metadata": {
        "id": "3a29uqg8_Q0E"
      }
    },
    {
      "cell_type": "code",
      "source": [
        "print(\"COVID-19\\n\")"
      ],
      "metadata": {
        "id": "oUaYaHXkQCB1"
      },
      "execution_count": null,
      "outputs": []
    },
    {
      "cell_type": "code",
      "source": [
        "import pandas as pd\n",
        "import numpy as np\n",
        "import csv\n",
        "from tabulate import tabulate\n",
        "from google.colab import drive\n",
        "drive.mount(\"/content/drive/\")\n",
        "from time import strptime\n",
        "import datetime\n",
        "from dateutil import parser"
      ],
      "metadata": {
        "id": "52R2MnRKKJXs"
      },
      "execution_count": null,
      "outputs": []
    },
    {
      "cell_type": "code",
      "source": [
        "!ls -ltr /content/drive/MyDrive"
      ],
      "metadata": {
        "id": "UWdmKeeYKYEC"
      },
      "execution_count": null,
      "outputs": []
    },
    {
      "cell_type": "code",
      "source": [
        "!pip install DateTime"
      ],
      "metadata": {
        "id": "qTeHw6TJcObD"
      },
      "execution_count": null,
      "outputs": []
    },
    {
      "cell_type": "code",
      "source": [
        "us_counties = pd.read_csv(r\"/content/drive/MyDrive/us-counties.csv\")\n",
        "us_counties_recent = pd.read_csv(r\"/content/drive/MyDrive/us-counties-recent.csv\")\n",
        "df = pd.merge(us_counties,us_counties_recent,how = 'outer')"
      ],
      "metadata": {
        "id": "3S3DyIAhKQnN"
      },
      "execution_count": null,
      "outputs": []
    },
    {
      "cell_type": "code",
      "source": [
        "def get_year(row):\n",
        " return parser.parse(row['date']).year\n",
        "df['year'] = df.apply(get_year,axis = 1)\n",
        "print(df)"
      ],
      "metadata": {
        "id": "hMhwBPoYn78f"
      },
      "execution_count": null,
      "outputs": []
    },
    {
      "cell_type": "code",
      "source": [
        "df2020 = df.where(df[\"year\"] == 2020)\n",
        "df2021 = df.where(df[\"year\"] == 2021)\n",
        "df2020_2021 = df.where(df['year'].isin([2020,2021]))"
      ],
      "metadata": {
        "id": "hZlZyFfkjLbP"
      },
      "execution_count": 67,
      "outputs": []
    },
    {
      "cell_type": "markdown",
      "source": [
        "# **OBSERVATION QUESTIONS**\n",
        "# 1.How many distinct counties + state there (hint: unique)"
      ],
      "metadata": {
        "id": "Zn0wmov9qlGQ"
      }
    },
    {
      "cell_type": "code",
      "source": [
        "state = df['state'].unique()\n",
        "county = df['county'].unique()\n",
        "print(f\"In the United States, there are {len(state)} states and {len(county)} counties.\")"
      ],
      "metadata": {
        "id": "36NcsbAQiVyC",
        "colab": {
          "base_uri": "https://localhost:8080/"
        },
        "outputId": "a882d510-fc15-4e98-c333-3e70997bcfa2"
      },
      "execution_count": 57,
      "outputs": [
        {
          "output_type": "stream",
          "name": "stdout",
          "text": [
            "In the United States, there are 56 states and 1930 counties.\n"
          ]
        }
      ]
    },
    {
      "cell_type": "markdown",
      "source": [
        "# 2.Is there any data missing for any month/day of any year? (hint: use unique applied on date + month part of each year)"
      ],
      "metadata": {
        "id": "qwqOrszH05dl"
      }
    },
    {
      "cell_type": "markdown",
      "source": [
        "# **QUESTIONS**\n",
        "# 1.Top 10 states having highest total death in the year 2020"
      ],
      "metadata": {
        "id": "Jaco07xPkOa9"
      }
    },
    {
      "cell_type": "code",
      "source": [
        "df_2020 = df2020.groupby(['state'])['deaths'].sum().to_frame(\"Death Count\").reset_index()\n",
        "df_2020_high = df_2020.sort_values(by = [\"Death Count\"], ascending = False)\n",
        "print(df_2020_high.head(10))"
      ],
      "metadata": {
        "id": "AywKu93KhtLR",
        "colab": {
          "base_uri": "https://localhost:8080/"
        },
        "outputId": "5abdb031-0549-4b6a-f1f9-270d2c6ade2e"
      },
      "execution_count": 58,
      "outputs": [
        {
          "output_type": "stream",
          "name": "stdout",
          "text": [
            "            state  Death Count\n",
            "33       New York    8320598.0\n",
            "31     New Jersey    3817150.0\n",
            "4      California    3065113.0\n",
            "46          Texas    2927740.0\n",
            "9         Florida    2632238.0\n",
            "22  Massachusetts    2222455.0\n",
            "14       Illinois    2211390.0\n",
            "40   Pennsylvania    2002629.0\n",
            "23       Michigan    1837617.0\n",
            "10        Georgia    1363977.0\n"
          ]
        }
      ]
    },
    {
      "cell_type": "markdown",
      "source": [
        "# 2.Top 10 states having highest total death in the year 2021"
      ],
      "metadata": {
        "id": "ewCSdW1aoxn2"
      }
    },
    {
      "cell_type": "code",
      "source": [
        "df_2021 = df2021.groupby(['state'])[\"deaths\"].sum().to_frame(\"Death Count\").reset_index()\n",
        "df_2021_high = df_2021.sort_values(by = [\"Death Count\"], ascending = False)\n",
        "print(df_2021_high.head(10))"
      ],
      "metadata": {
        "id": "Mvl2aCdgo3jP",
        "colab": {
          "base_uri": "https://localhost:8080/"
        },
        "outputId": "33c21542-34b7-4c1d-9f8e-1947499784ae"
      },
      "execution_count": 59,
      "outputs": [
        {
          "output_type": "stream",
          "name": "stdout",
          "text": [
            "           state  Death Count\n",
            "5     California   22532428.0\n",
            "47         Texas   20088968.0\n",
            "34      New York   18918470.0\n",
            "10       Florida   15333245.0\n",
            "41  Pennsylvania   10025434.0\n",
            "32    New Jersey    9406432.0\n",
            "15      Illinois    9306526.0\n",
            "11       Georgia    7791745.0\n",
            "24      Michigan    7460163.0\n",
            "38          Ohio    7327426.0\n"
          ]
        }
      ]
    },
    {
      "cell_type": "markdown",
      "source": [
        "# 3.Top 10 states having highest average death in the year 2020"
      ],
      "metadata": {
        "id": "WOEanqW5qhDX"
      }
    },
    {
      "cell_type": "code",
      "source": [
        "df_2020 = df2020.groupby(['state'])['deaths'].mean().to_frame('Average Death').reset_index()\n",
        "df_2020_high_aver = df_2020.sort_values(by =[\"Average Death\"], ascending = False)\n",
        "print(df_2020_high_aver.head(10))"
      ],
      "metadata": {
        "id": "D06ARbi7sZSn",
        "colab": {
          "base_uri": "https://localhost:8080/"
        },
        "outputId": "3826f217-0e7b-4324-f4d4-fc1eca9156cd"
      },
      "execution_count": 60,
      "outputs": [
        {
          "output_type": "stream",
          "name": "stdout",
          "text": [
            "                   state  Average Death\n",
            "31            New Jersey     590.798638\n",
            "22         Massachusetts     500.102385\n",
            "33              New York     495.037958\n",
            "8   District of Columbia     487.983333\n",
            "41           Puerto Rico     457.537415\n",
            "6            Connecticut     429.230740\n",
            "2                Arizona     238.422596\n",
            "4             California     182.436343\n",
            "42          Rhode Island     152.694639\n",
            "9                Florida     135.000410\n"
          ]
        }
      ]
    },
    {
      "cell_type": "markdown",
      "source": [
        "# 4.Top 10 states having highest average death in the year 2021"
      ],
      "metadata": {
        "id": "cMuiWNVrtJQk"
      }
    },
    {
      "cell_type": "code",
      "source": [
        "df_2021 = df2021.groupby(['state'])['deaths'].mean().to_frame('Average Death').reset_index()\n",
        "df_2021_high_aver = df_2021.sort_values(by = ['Average Death'], ascending = False)\n",
        "print(df_2021_high_aver.head(10))"
      ],
      "metadata": {
        "id": "bG5f58P8tJ9c",
        "colab": {
          "base_uri": "https://localhost:8080/"
        },
        "outputId": "15b2db31-0a0e-4e39-f0d3-f4774db3c821"
      },
      "execution_count": 61,
      "outputs": [
        {
          "output_type": "stream",
          "name": "stdout",
          "text": [
            "                   state  Average Death\n",
            "42           Puerto Rico    2574.764384\n",
            "3                Arizona    1196.586783\n",
            "23         Massachusetts    1174.260274\n",
            "32            New Jersey    1171.411208\n",
            "9   District of Columbia    1105.120548\n",
            "5             California    1064.004722\n",
            "7            Connecticut     906.108676\n",
            "34              New York     893.645253\n",
            "10               Florida     617.777800\n",
            "43          Rhode Island     444.803653\n"
          ]
        }
      ]
    },
    {
      "cell_type": "markdown",
      "source": [
        "# 5.Top 10 county having highest total death in 2020 and 2021 year together\n",
        "Output: county, sum_deaths"
      ],
      "metadata": {
        "id": "7fIu7KXR79EO"
      }
    },
    {
      "cell_type": "code",
      "source": [
        "df_2020_2021 = df2020_2021.groupby(['county'])['deaths'].sum().to_frame(\"Sum_Deaths\").reset_index()\n",
        "df_2020_2021_high = df_2020_2021.sort_values(by = ['Sum_Deaths'], ascending = False)\n",
        "print(df_2020_2021_high.head(10))"
      ],
      "metadata": {
        "colab": {
          "base_uri": "https://localhost:8080/"
        },
        "id": "8LY34qBX8DxK",
        "outputId": "f4a1da76-d210-41bb-b9f3-fc2a60e8536a"
      },
      "execution_count": 68,
      "outputs": [
        {
          "output_type": "stream",
          "name": "stdout",
          "text": [
            "             county  Sum_Deaths\n",
            "1226  New York City  17791710.0\n",
            "1032    Los Angeles   9955588.0\n",
            "414            Cook   5257183.0\n",
            "1074       Maricopa   4378737.0\n",
            "1141      Middlesex   3217896.0\n",
            "1285         Orange   3144039.0\n",
            "1837          Wayne   3069484.0\n",
            "1140     Miami-Dade   3058913.0\n",
            "761          Harris   2960139.0\n",
            "1174     Montgomery   2946807.0\n"
          ]
        }
      ]
    },
    {
      "cell_type": "markdown",
      "source": [
        "# 6.Find/print all pair of counties that have the same name but belong to two different states (hint: use pandas self join)"
      ],
      "metadata": {
        "id": "w_ZUR4WFPQFT"
      }
    },
    {
      "cell_type": "code",
      "source": [],
      "metadata": {
        "id": "DSBp9fdCPPpN"
      },
      "execution_count": null,
      "outputs": []
    },
    {
      "cell_type": "markdown",
      "source": [
        "# 7.Print list of Top N states by the least number of death in a specific year. Also needed to be ranked.\n",
        "\n",
        "**a)**.Top 10 least death states in 2020\n",
        "\n",
        " **b)**.Top 10 least death states in 2021"
      ],
      "metadata": {
        "id": "uYEsQFWqTbZF"
      }
    },
    {
      "cell_type": "code",
      "source": [
        "df_2020 = df2020.groupby(['state'])['deaths'].sum().to_frame('Death Count').reset_index()\n",
        "df_2020_least = df_2020.sort_values(by = ['Death Count'], ascending =True)\n",
        "df_2020_least['Rank'] = df_2020_least['Death Count'].rank(ascending = False)\n",
        "\n",
        "df_2021 = df2021.groupby(['state'])['deaths'].sum().to_frame('Death Count').reset_index()\n",
        "df_2021_least = df_2021.sort_values(by = ['Death Count'], ascending =True)\n",
        "df_2021_least['Rank'] = df_2021_least['Death Count'].rank(ascending = False)\n",
        "\n",
        "print(\"Top 10 least death states in 2020\\n\")\n",
        "print(df_2020_least.head(10))\n",
        "print(\"\\n\\n\\n\\n\\nTop 10 least death states in 2021\\n\")\n",
        "print(df_2021_least.head(10))\n",
        "\n"
      ],
      "metadata": {
        "colab": {
          "base_uri": "https://localhost:8080/"
        },
        "id": "kdHZSn11Tjao",
        "outputId": "3071c4fd-6f79-4098-a0c6-e5821328c565"
      },
      "execution_count": 88,
      "outputs": [
        {
          "output_type": "stream",
          "name": "stdout",
          "text": [
            "Top 10 least death states in 2020\n",
            "\n",
            "                       state  Death Count  Rank\n",
            "36  Northern Mariana Islands        544.0  55.0\n",
            "49            Virgin Islands       3503.0  54.0\n",
            "11                      Guam      10424.0  53.0\n",
            "1                     Alaska      13147.0  52.0\n",
            "48                   Vermont      16434.0  51.0\n",
            "54                   Wyoming      20734.0  50.0\n",
            "12                    Hawaii      27227.0  49.0\n",
            "20                     Maine      35654.0  48.0\n",
            "27                   Montana      58866.0  47.0\n",
            "52             West Virginia      84127.0  46.0\n",
            "\n",
            "\n",
            "\n",
            "\n",
            "\n",
            "Top 10 least death states in 2021\n",
            "\n",
            "                       state  Death Count  Rank\n",
            "2             American Samoa          0.0  56.0\n",
            "37  Northern Mariana Islands        926.0  55.0\n",
            "50            Virgin Islands      16615.0  54.0\n",
            "12                      Guam      61389.0  53.0\n",
            "49                   Vermont     100847.0  52.0\n",
            "1                     Alaska     163285.0  51.0\n",
            "13                    Hawaii     222578.0  50.0\n",
            "55                   Wyoming     316182.0  49.0\n",
            "21                     Maine     328660.0  48.0\n",
            "9       District of Columbia     403369.0  47.0\n"
          ]
        }
      ]
    }
  ]
}