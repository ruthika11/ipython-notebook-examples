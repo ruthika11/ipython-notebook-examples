{
  "nbformat": 4,
  "nbformat_minor": 0,
  "metadata": {
    "colab": {
      "provenance": []
    }
  },
  "cells": [
    {
      "cell_type": "markdown",
      "source": [
        "# test Using Treasure Data with Python and Pandas\n",
        "\n",
        "Treasure Data has a [python client](https://github.com/treasure-data/td-client-python), which means pandas/python users can connect directly from their iPython Notebooks.\n",
        "\n",
        "All you need is a Treasure Data account, which you can get from [here](https://console.treasuredata.com/users/sign_up)"
      ],
      "metadata": {
        "id": "40PY7ZvZ12Ck"
      }
    },
    {
      "cell_type": "code",
      "source": [
        "import tdclient\n",
        "import pandas as pd\n",
        "import numpy as np\n",
        "%matplotlib inline"
      ],
      "outputs": [],
      "metadata": {
        "id": "rAr2JZLx12Cn"
      },
      "execution_count": null
    },
    {
      "cell_type": "markdown",
      "source": [
        "## Getting Treasure Data's apikey\n",
        "\n",
        "You need to get your Treasure Data API key. There are two ways to fetch your API keys after you sign up for Treasure Data.\n",
        "\n",
        "1. **From web console**: Please access [this URL](https://console.treasuredata.com/users/current). At the right most column, you can retrieve the API key. You want to use the Normal, not Write-Only API keys to run queries.\n",
        "2. **From CLI**: If you are the `td` command user, running the following command exposes your API key.\n",
        "    ```\n",
        "    td apikey:show\n",
        "    ```"
      ],
      "metadata": {
        "id": "niJPwEBY12Cp"
      }
    },
    {
      "cell_type": "code",
      "source": [
        "apikey = 'Your API key here' # Setting your API key"
      ],
      "outputs": [],
      "metadata": {
        "id": "9dlVsTZy12Cq"
      },
      "execution_count": null
    },
    {
      "cell_type": "code",
      "source": [
        "client = tdclient.Client(apikey) # instantiating the client"
      ],
      "outputs": [],
      "metadata": {
        "id": "kv1W3E3212Cs"
      },
      "execution_count": null
    },
    {
      "cell_type": "markdown",
      "source": [
        "## Running a query against the sample dataset\n",
        "\n",
        "As you can see below, running queries is easy. Just use the `query` method, which accepts three arguments.\n",
        "\n",
        "1. The first argument is the name of the database\n",
        "2. The second argument is the query string (Make sure you use single quotes if you are using the Presto engine!)\n",
        "3. The optional keyword arguments. I am using `type='presto'` here to use Presto and not Hive."
      ],
      "metadata": {
        "id": "XaktIvT212Cv"
      }
    },
    {
      "cell_type": "code",
      "source": [
        "job = client.query('sample_datasets',\n",
        "                   \"SELECT TD_TIME_FORMAT(time, 'yyyy') AS t, SUM(volume) \"\n",
        "                   \"FROM nasdaq \"\n",
        "                   \"WHERE symbol='AMZN' \"\n",
        "                   \"GROUP BY TD_TIME_FORMAT(time, 'yyyy') \"\n",
        "                   \"ORDER BY t\", type='presto')"
      ],
      "outputs": [],
      "metadata": {
        "id": "XHZu5e7d12Cx"
      },
      "execution_count": null
    },
    {
      "cell_type": "markdown",
      "source": [
        "### Asynchronous execution\n",
        "\n",
        "Your query creates a job asynchronously. Please check the job is\n",
        "\n",
        "1. finished (`job.finished()` should return `True`)\n",
        "2. successful (`job.status()` should return `success`)"
      ],
      "metadata": {
        "id": "TyRmn2Zx12Cz"
      }
    },
    {
      "cell_type": "code",
      "source": [
        "[job.status(), job.finished()]"
      ],
      "outputs": [
        {
          "output_type": "execute_result",
          "data": {},
          "metadata": {},
          "execution_count": 6
        }
      ],
      "metadata": {
        "id": "gG01R48w12C0",
        "outputId": "1aa2dbeb-777a-4733-9ccc-241f77d2f6d9"
      },
      "execution_count": null
    },
    {
      "cell_type": "code",
      "source": [
        "results = [r for r in job.result()]"
      ],
      "outputs": [],
      "metadata": {
        "id": "0sTzRX3N12C2"
      },
      "execution_count": null
    },
    {
      "cell_type": "code",
      "source": [
        "results_df = pd.DataFrame.from_records(results, columns=('year', 'AMZN trade volume'))"
      ],
      "outputs": [],
      "metadata": {
        "id": "ZYkVlNK812C3"
      },
      "execution_count": null
    },
    {
      "cell_type": "code",
      "source": [
        "results_df.plot(x='year')"
      ],
      "outputs": [
        {
          "output_type": "execute_result",
          "data": {},
          "metadata": {},
          "execution_count": 9
        },
        {
          "output_type": "display_data",
          "data": {},
          "metadata": {}
        }
      ],
      "metadata": {
        "id": "KqZlaZ0212C4",
        "outputId": "2728ac19-9105-4736-e38e-c72d82053213"
      },
      "execution_count": null
    }
  ]
}