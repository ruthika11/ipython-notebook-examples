{
  "nbformat": 4,
  "nbformat_minor": 0,
  "metadata": {
    "colab": {
      "provenance": [],
      "authorship_tag": "ABX9TyPHzmrrVYwcIUExqMRRxDNG",
      "include_colab_link": true
    },
    "kernelspec": {
      "name": "python3",
      "display_name": "Python 3"
    },
    "language_info": {
      "name": "python"
    }
  },
  "cells": [
    {
      "cell_type": "markdown",
      "metadata": {
        "id": "view-in-github",
        "colab_type": "text"
      },
      "source": [
        "<a href=\"https://colab.research.google.com/github/ruthika11/ipython-notebook-examples/blob/master/Ebola.ipynb\" target=\"_parent\"><img src=\"https://colab.research.google.com/assets/colab-badge.svg\" alt=\"Open In Colab\"/></a>"
      ]
    },
    {
      "cell_type": "markdown",
      "source": [
        "# **Questions**\n",
        "**1**.Distinct # of Indicators in the universe (complete dataset).    \n",
        "Output:\n",
        "Integer\n",
        "\n",
        "**2**.In the second half of the year 2015, how many countries have one or more “Cumulative number of confirmed Ebola cases”     \n",
        "Output:\n",
        "Integer value  \n",
        "\n",
        "**3**.Top 10 total Ebola cases confirmed. Note that Indicator = Cumulative number of confirmed Ebola cases. Include rank based on the total value (=cases confirmed).         \n",
        "Output:\n",
        "country, total_value, rank\n",
        "\n",
        "**4**.Top 10 countries that have total cases with Indicator = “Cumulative number of confirmed probable and suspected Ebola deaths” in 2015 Q2 (i.e., April-June 2015).      \n",
        "Output:\n",
        "country, total_cases, rank\n",
        "\n",
        "**5**.Top 10 countries that have total cases with Indicator = “Cumulative number of confirmed probable and suspected Ebola deaths” with only even months of the year 2015 (i.e., months 2, 4, 6, 8, 10, 12).    \n",
        "Output:\n",
        "country, total_cases, rank\n",
        "\n",
        "**6**.Find Country and Indicator wise total value. Also, rank on the total_value which is the sum at the Country-Indicator level.   \n",
        "Output:\n",
        "country, indicator, total_value, country_indicator_rank\n",
        "\n",
        "**7**.For those Top 10 countries by Indicator = Cumulative number of confirmed Ebola cases, plot group bar chart.\n",
        "\n",
        "X-axis -> Country   \n",
        "Y-axis -> Bar 1 -> total_value with Indicator = Cumulative number of suspected Ebola cases    \n",
        "Y-axis -> Bar 2 ->  total_value with Indicator = Cumulative number of confirmed Ebola cases"
      ],
      "metadata": {
        "id": "0_w_0C7KzTZ7"
      }
    },
    {
      "cell_type": "code",
      "execution_count": null,
      "metadata": {
        "id": "bDbZZK3iyYnB"
      },
      "outputs": [],
      "source": [
        "import csv\n",
        "import pandas as pd\n",
        "import numpy as np\n",
        "from tabulate import tabulate\n",
        "import seaborn as sns\n",
        "import datetime\n",
        "from dateutil import parser\n",
        "import matplotlib.pyplot as plt\n",
        "from google.colab import drive\n",
        "drive.mount(\"/content/drive/\")\n",
        "import glob"
      ]
    },
    {
      "cell_type": "code",
      "source": [
        "!ls - ltr /content/drive/MyDrive/"
      ],
      "metadata": {
        "id": "nNptm1LD3OHN"
      },
      "execution_count": null,
      "outputs": []
    },
    {
      "cell_type": "code",
      "source": [
        "def pretty_print(df,n):\n",
        "    print(tabulate(df.head(n), headers=\"keys\", tablefmt = \"psql\"))"
      ],
      "metadata": {
        "id": "mMYpX4jhCT2x"
      },
      "execution_count": 25,
      "outputs": []
    },
    {
      "cell_type": "code",
      "source": [
        "df = pd.read_csv(r\"/content/drive/MyDrive/ebola_data_db_format.csv\")"
      ],
      "metadata": {
        "id": "ut1b36zTC0iS"
      },
      "execution_count": 26,
      "outputs": []
    },
    {
      "cell_type": "code",
      "source": [
        "df[\"Date\"] =df[\"Date\"].astype(str)"
      ],
      "metadata": {
        "id": "-MXDeJiqy7Zj"
      },
      "execution_count": 27,
      "outputs": []
    },
    {
      "cell_type": "code",
      "source": [
        "def get_year(row):\n",
        "  return datetime.datetime.strptime(row[\"Date\"], \"%Y-%m-%d\").year\n",
        "df[\"year\"] = df.apply(get_year,axis = 1)"
      ],
      "metadata": {
        "id": "2SoksvGzzVKH"
      },
      "execution_count": 28,
      "outputs": []
    },
    {
      "cell_type": "code",
      "source": [
        "def get_month(row):\n",
        "  return datetime.datetime.strptime(row[\"Date\"], \"%Y-%m-%d\").month\n",
        "df[\"month\"] = df.apply(get_month,axis = 1)"
      ],
      "metadata": {
        "id": "Y6x5jTp78VWn"
      },
      "execution_count": 29,
      "outputs": []
    },
    {
      "cell_type": "code",
      "source": [
        "def odd_even(row):\n",
        "  return int(row[\"month\"]%2)\n",
        "df[\"odd_even\"] = df.apply(odd_even,axis = 1)"
      ],
      "metadata": {
        "id": "rObej9T-Dq9r"
      },
      "execution_count": 30,
      "outputs": []
    },
    {
      "cell_type": "code",
      "source": [
        "pretty_print(df,3)"
      ],
      "metadata": {
        "id": "OH46chsYSuo6",
        "colab": {
          "base_uri": "https://localhost:8080/"
        },
        "outputId": "c4ad82ac-f4b7-4493-d6be-2be67120c3ec"
      },
      "execution_count": 31,
      "outputs": [
        {
          "output_type": "stream",
          "name": "stdout",
          "text": [
            "+----+--------------------------------------------------------------------+-----------+------------+---------+--------+---------+------------+\n",
            "|    | Indicator                                                          | Country   | Date       |   value |   year |   month |   odd_even |\n",
            "|----+--------------------------------------------------------------------+-----------+------------+---------+--------+---------+------------|\n",
            "|  0 | Cumulative number of confirmed, probable and suspected Ebola cases | Guinea    | 2015-03-10 |    3285 |   2015 |       3 |          1 |\n",
            "|  1 | Cumulative number of confirmed Ebola cases                         | Guinea    | 2015-03-10 |    2871 |   2015 |       3 |          1 |\n",
            "|  2 | Cumulative number of probable Ebola cases                          | Guinea    | 2015-03-10 |     392 |   2015 |       3 |          1 |\n",
            "+----+--------------------------------------------------------------------+-----------+------------+---------+--------+---------+------------+\n"
          ]
        }
      ]
    },
    {
      "cell_type": "markdown",
      "source": [
        "# 1.Distinct # of Indicators in the universe (complete dataset).\n",
        "Output: Integer"
      ],
      "metadata": {
        "id": "9dzdAkUBE3ok"
      }
    },
    {
      "cell_type": "code",
      "source": [
        "distinct_indicator = df[\"Indicator\"].unique()\n",
        "print(f\"Distinct # of Indicators \\n {len(distinct_indicator)}\")"
      ],
      "metadata": {
        "id": "D_qWJU2OFAYE",
        "colab": {
          "base_uri": "https://localhost:8080/"
        },
        "outputId": "1ce5acef-30a6-45ab-a8c6-ae6287689b4e"
      },
      "execution_count": 32,
      "outputs": [
        {
          "output_type": "stream",
          "name": "stdout",
          "text": [
            "Distinct # of Indicators \n",
            " 36\n"
          ]
        }
      ]
    },
    {
      "cell_type": "markdown",
      "source": [
        "# 2.In the second half of the year 2015, how many countries have one or more “Cumulative number of confirmed Ebola cases”\n",
        "Output: Integer value"
      ],
      "metadata": {
        "id": "K6l_yTptFA6s"
      }
    },
    {
      "cell_type": "code",
      "source": [
        "df_2015 = df.where(df[\"year\"] == 2015)\n",
        "df_2015 = df_2015.where(df_2015[\"Indicator\"] == \"Cumulative number of confirmed Ebola cases\")\\\n",
        "   .groupby([\"Country\"]).size().to_frame(\"count\").reset_index()\n",
        "print(f\"Number of countries: \\n{len(df_2015)}\")"
      ],
      "metadata": {
        "id": "xlpRQYQyHWrr",
        "colab": {
          "base_uri": "https://localhost:8080/"
        },
        "outputId": "bb6975b8-3eb2-4d5e-df7b-9b795db91182"
      },
      "execution_count": 33,
      "outputs": [
        {
          "output_type": "stream",
          "name": "stdout",
          "text": [
            "Number of countries: \n",
            "11\n"
          ]
        }
      ]
    },
    {
      "cell_type": "markdown",
      "source": [
        "# 3.Top 10 total Ebola cases confirmed. Note that Indicator = Cumulative number of confirmed Ebola cases. Include rank based on the total value (=cases confirmed).\n",
        "Output: country, total_value, rank"
      ],
      "metadata": {
        "id": "YvSJUDZuHXJA"
      }
    },
    {
      "cell_type": "code",
      "source": [
        "top_10_cases = df.where(df[\"Indicator\"] == \"Cumulative number of confirmed Ebola cases\")\\\n",
        "   .groupby([\"Country\"]).size().to_frame(\"total_value\").reset_index()\n",
        "top_10_cases = top_10_cases.sort_values(by = \"total_value\", ascending = False)\n",
        "top_10_cases[\"rank\"] = top_10_cases[\"total_value\"].rank(ascending = False)\n",
        "pretty_print(top_10_cases,10)"
      ],
      "metadata": {
        "id": "oqTmRawwHXlV",
        "colab": {
          "base_uri": "https://localhost:8080/"
        },
        "outputId": "282e77a8-9214-46e6-8959-d14d299d75c8"
      },
      "execution_count": 34,
      "outputs": [
        {
          "output_type": "stream",
          "name": "stdout",
          "text": [
            "+----+--------------------------+---------------+--------+\n",
            "|    | Country                  |   total_value |   rank |\n",
            "|----+--------------------------+---------------+--------|\n",
            "|  0 | Guinea                   |           259 |    1.5 |\n",
            "|  8 | Sierra Leone             |           259 |    1.5 |\n",
            "|  3 | Liberia                  |           258 |    3   |\n",
            "|  6 | Nigeria                  |           255 |    4   |\n",
            "|  7 | Senegal                  |           254 |    5   |\n",
            "| 11 | United States of America |           245 |    6   |\n",
            "|  5 | Mali                     |           243 |    7.5 |\n",
            "|  9 | Spain                    |           243 |    7.5 |\n",
            "| 10 | United Kingdom           |           221 |    9   |\n",
            "|  2 | Italy                    |           141 |   10   |\n",
            "+----+--------------------------+---------------+--------+\n"
          ]
        }
      ]
    },
    {
      "cell_type": "markdown",
      "source": [
        "# 4.Top 10 countries that have total cases with Indicator = “Cumulative number of confirmed probable and suspected Ebola deaths” in 2015 Q2 (i.e., April-June 2015).\n",
        "Output: country, total_cases, rank"
      ],
      "metadata": {
        "id": "U4n5l4CWHX9k"
      }
    },
    {
      "cell_type": "code",
      "source": [
        "top_10_cases_2015 =df.where(df[\"year\"] == 2015)\n",
        "top_10_cases_2015 =top_10_cases_2015.where((top_10_cases_2015[\"month\"] >= 3) & (top_10_cases_2015[\"month\"] <= 6))\n",
        "\n",
        "top_10_cases_2015 = top_10_cases_2015.where(top_10_cases_2015[\"Indicator\"] == \"Cumulative number of confirmed, probable and suspected Ebola cases\")\\\n",
        "   .groupby([\"Country\"]).size().to_frame(\"total_cases\").reset_index()\n",
        "\n",
        "top_10_cases_2015 = top_10_cases_2015.sort_values(by = \"total_cases\", ascending = False)\n",
        "top_10_cases_2015[\"rank\"] = top_10_cases_2015[\"total_cases\"].rank(ascending = False)\n",
        "pretty_print(top_10_cases_2015,10)"
      ],
      "metadata": {
        "id": "hgsB2EscHYSD",
        "colab": {
          "base_uri": "https://localhost:8080/"
        },
        "outputId": "b44fe3a6-c574-4780-9ff1-7b46d822b01a"
      },
      "execution_count": 50,
      "outputs": [
        {
          "output_type": "stream",
          "name": "stdout",
          "text": [
            "+----+--------------------------+---------------+--------+\n",
            "|    | Country                  |   total_cases |   rank |\n",
            "|----+--------------------------+---------------+--------|\n",
            "|  0 | Guinea                   |            75 |      5 |\n",
            "|  2 | Liberia                  |            75 |      5 |\n",
            "|  3 | Mali                     |            75 |      5 |\n",
            "|  4 | Nigeria                  |            75 |      5 |\n",
            "|  5 | Senegal                  |            75 |      5 |\n",
            "|  6 | Sierra Leone             |            75 |      5 |\n",
            "|  7 | Spain                    |            75 |      5 |\n",
            "|  8 | United Kingdom           |            75 |      5 |\n",
            "|  9 | United States of America |            75 |      5 |\n",
            "|  1 | Italy                    |            34 |     10 |\n",
            "+----+--------------------------+---------------+--------+\n"
          ]
        }
      ]
    },
    {
      "cell_type": "markdown",
      "source": [
        "# 5.Top 10 countries that have total cases with Indicator = “Cumulative number of confirmed probable and suspected Ebola deaths” with only even months of the year 2015 (i.e., months 2, 4, 6, 8, 10, 12).\n",
        "Output: country, total_cases, rank"
      ],
      "metadata": {
        "id": "6FXxmnisHYmg"
      }
    },
    {
      "cell_type": "code",
      "source": [
        "top_10_even = df.where(df[\"year\"] == 2015)\n",
        "top_10_even = top_10_even.where(top_10_even['odd_even'] == 0)\n",
        "print(top_10_even)\n",
        "top_10_even = top_10_even.where(top_10_even[\"Indicator\"] == \"Cumulative number of confirmed probable and suspected Ebola deaths\")\\\n",
        "   .groupby([\"Country\"]).size().to_frame(\"total_cases\").reset_index()\n",
        "\n",
        "top_10_even = top_10_even.sort_values(by = \"total_cases\", ascending = False)\n",
        "top_10_even[\"rank\"] = top_10_even[\"total_cases\"].rank(ascending = False)\n",
        "pretty_print(top_10_even,10)"
      ],
      "metadata": {
        "id": "_YEHkyBHHY_B",
        "colab": {
          "base_uri": "https://localhost:8080/"
        },
        "outputId": "07d06393-86ee-440a-d867-f2ef35b0df38"
      },
      "execution_count": 52,
      "outputs": [
        {
          "output_type": "stream",
          "name": "stdout",
          "text": [
            "      Indicator Country Date  value  year  month  odd_even\n",
            "0           NaN     NaN  NaN    NaN   NaN    NaN       NaN\n",
            "1           NaN     NaN  NaN    NaN   NaN    NaN       NaN\n",
            "2           NaN     NaN  NaN    NaN   NaN    NaN       NaN\n",
            "3           NaN     NaN  NaN    NaN   NaN    NaN       NaN\n",
            "4           NaN     NaN  NaN    NaN   NaN    NaN       NaN\n",
            "...         ...     ...  ...    ...   ...    ...       ...\n",
            "17580       NaN     NaN  NaN    NaN   NaN    NaN       NaN\n",
            "17581       NaN     NaN  NaN    NaN   NaN    NaN       NaN\n",
            "17582       NaN     NaN  NaN    NaN   NaN    NaN       NaN\n",
            "17583       NaN     NaN  NaN    NaN   NaN    NaN       NaN\n",
            "17584       NaN     NaN  NaN    NaN   NaN    NaN       NaN\n",
            "\n",
            "[17585 rows x 7 columns]\n",
            "+-----------+---------------+--------+\n",
            "| Country   | total_cases   | rank   |\n",
            "|-----------+---------------+--------|\n",
            "+-----------+---------------+--------+\n"
          ]
        }
      ]
    },
    {
      "cell_type": "markdown",
      "source": [
        "# 6.Find Country and Indicator wise total value. Also, rank on the total_value which is the sum at the Country-Indicator level.\n",
        "Output: country, indicator, total_value, country_indicator_rank"
      ],
      "metadata": {
        "id": "nlBgrp2oHZSN"
      }
    },
    {
      "cell_type": "code",
      "source": [
        "country_indicator = df.groupby([\"Country\",\"Indicator\"]).size().to_frame(\"total_value\").reset_index()\n",
        "country_indicator[\"country_indicator_rank\"] = country_indicator[\"total_value\"].rank(ascending = False)\n",
        "pretty_print(country_indicator, 10)"
      ],
      "metadata": {
        "id": "rUHL5N0CHZr5",
        "colab": {
          "base_uri": "https://localhost:8080/"
        },
        "outputId": "1e461f0d-4a3e-4ba5-9e5f-a572c50e2af9"
      },
      "execution_count": 54,
      "outputs": [
        {
          "output_type": "stream",
          "name": "stdout",
          "text": [
            "+----+-----------+---------------------------------------------------------------------------+---------------+--------------------------+\n",
            "|    | Country   | Indicator                                                                 |   total_value |   country_indicator_rank |\n",
            "|----+-----------+---------------------------------------------------------------------------+---------------+--------------------------|\n",
            "|  0 | Guinea    | Case fatality rate (CFR) of confirmed Ebola cases                         |             4 |                    127   |\n",
            "|  1 | Guinea    | Case fatality rate (CFR) of confirmed, probable and suspected Ebola cases |             4 |                    127   |\n",
            "|  2 | Guinea    | Case fatality rate (CFR) of probable Ebola cases                          |             4 |                    127   |\n",
            "|  3 | Guinea    | Case fatality rate (CFR) of suspected Ebola cases                         |             4 |                    127   |\n",
            "|  4 | Guinea    | Cumulative number of confirmed Ebola cases                                |           259 |                      6.5 |\n",
            "|  5 | Guinea    | Cumulative number of confirmed Ebola deaths                               |           257 |                     18   |\n",
            "|  6 | Guinea    | Cumulative number of confirmed, probable and suspected Ebola cases        |           259 |                      6.5 |\n",
            "|  7 | Guinea    | Cumulative number of confirmed, probable and suspected Ebola deaths       |           259 |                      6.5 |\n",
            "|  8 | Guinea    | Cumulative number of probable Ebola cases                                 |           259 |                      6.5 |\n",
            "|  9 | Guinea    | Cumulative number of probable Ebola deaths                                |           257 |                     18   |\n",
            "+----+-----------+---------------------------------------------------------------------------+---------------+--------------------------+\n"
          ]
        }
      ]
    },
    {
      "cell_type": "markdown",
      "source": [
        "# 7.For those Top 10 countries by Indicator = Cumulative number of confirmed Ebola cases, plot group bar chart.\n",
        "\n",
        "X-axis -> Country   \n",
        "Y-axis -> Bar 1 -> total_value with Indicator = Cumulative number of suspected Ebola cases    \n",
        "Y-axis -> Bar 2 -> total_value with Indicator = Cumulative number of confirmed Ebola cases  "
      ],
      "metadata": {
        "id": "Xe-9JrlsHaBm"
      }
    },
    {
      "cell_type": "code",
      "source": [
        "sus_case = df.where(df[\"Indicator\"] == \"Cumulative number of suspected Ebola cases\")\\\n",
        "         .groupby(\"Country\").size().to_frame(\"total_value\").reset_index()\n",
        "sus_case = sus_case.sort_values(by = \"total_value\", ascending = False)\n",
        "sus_case[\"rank\"] = sus_case[\"total_value\"].rank(ascending = False)\n",
        "pretty_print(sus_case,10)"
      ],
      "metadata": {
        "id": "p-2aVCTNHaTM",
        "colab": {
          "base_uri": "https://localhost:8080/"
        },
        "outputId": "908f14fd-f7e8-416e-e5ad-f8a024641a57"
      },
      "execution_count": 38,
      "outputs": [
        {
          "output_type": "stream",
          "name": "stdout",
          "text": [
            "+----+--------------------------+---------------+--------+\n",
            "|    | Country                  |   total_value |   rank |\n",
            "|----+--------------------------+---------------+--------|\n",
            "|  0 | Guinea                   |           259 |    1.5 |\n",
            "|  8 | Sierra Leone             |           259 |    1.5 |\n",
            "|  3 | Liberia                  |           258 |    3   |\n",
            "|  6 | Nigeria                  |           255 |    4   |\n",
            "|  7 | Senegal                  |           253 |    5   |\n",
            "|  5 | Mali                     |           242 |    6   |\n",
            "|  9 | Spain                    |           238 |    7.5 |\n",
            "| 11 | United States of America |           238 |    7.5 |\n",
            "| 10 | United Kingdom           |           221 |    9   |\n",
            "|  2 | Italy                    |           141 |   10   |\n",
            "+----+--------------------------+---------------+--------+\n"
          ]
        }
      ]
    },
    {
      "cell_type": "code",
      "source": [
        "con_case = df.where(df[\"Indicator\"] == \"Cumulative number of suspected Ebola cases\")\\\n",
        "         .groupby(\"Country\").size().to_frame(\"total_value\").reset_index()\n",
        "con_case = con_case.sort_values(by = \"total_value\", ascending = False)\n",
        "con_case[\"rank\"] = con_case[\"total_value\"].rank(ascending = False)\n",
        "pretty_print(con_case,10)"
      ],
      "metadata": {
        "id": "aT3lPHH8codb",
        "colab": {
          "base_uri": "https://localhost:8080/"
        },
        "outputId": "77c3e3d8-4c95-4310-ec96-43e3c42e0dc4"
      },
      "execution_count": 55,
      "outputs": [
        {
          "output_type": "stream",
          "name": "stdout",
          "text": [
            "+----+--------------------------+---------------+--------+\n",
            "|    | Country                  |   total_value |   rank |\n",
            "|----+--------------------------+---------------+--------|\n",
            "|  0 | Guinea                   |           259 |    1.5 |\n",
            "|  8 | Sierra Leone             |           259 |    1.5 |\n",
            "|  3 | Liberia                  |           258 |    3   |\n",
            "|  6 | Nigeria                  |           255 |    4   |\n",
            "|  7 | Senegal                  |           253 |    5   |\n",
            "|  5 | Mali                     |           242 |    6   |\n",
            "|  9 | Spain                    |           238 |    7.5 |\n",
            "| 11 | United States of America |           238 |    7.5 |\n",
            "| 10 | United Kingdom           |           221 |    9   |\n",
            "|  2 | Italy                    |           141 |   10   |\n",
            "+----+--------------------------+---------------+--------+\n"
          ]
        }
      ]
    },
    {
      "cell_type": "code",
      "source": [
        "n = 10\n",
        "suspected = list(sus_case[\"total_value\"])[0:n]\n",
        "confirmed = list(con_case[\"total_value\"])[0:n]\n",
        "country = list(sus_case[\"Country\"])[0:n]\n",
        "x = np.arange(n)\n",
        "width = 0.25\n",
        "\n",
        "plt.title(\"Ebola\",size = 25)\n",
        "plt.bar(x,suspected,width,label = \" suspected Ebola cases\")\n",
        "plt.bar(x + width,confirmed,width,label = \" confirmed Ebola cases\")\n",
        "\n",
        "plt.xticks(x,country, rotation = 90)\n",
        "plt.legend(loc = \"best\", bbox_to_anchor = (1,1))\n",
        "plt.show()"
      ],
      "metadata": {
        "id": "GzRnZPvta0_O",
        "colab": {
          "base_uri": "https://localhost:8080/",
          "height": 625
        },
        "outputId": "6c9e5406-991c-43da-872f-9116448dcc49"
      },
      "execution_count": 48,
      "outputs": [
        {
          "output_type": "display_data",
          "data": {
            "text/plain": [
              "<Figure size 640x480 with 1 Axes>"
            ],
            "image/png": "[encoded data removed]"
          },
          "metadata": {}
        }
      ]
    }
  ]
}