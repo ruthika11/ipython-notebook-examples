{
  "nbformat": 4,
  "nbformat_minor": 0,
  "metadata": {
    "colab": {
      "provenance": [],
      "authorship_tag": "ABX9TyPlCbgS0Y/J6baPFg8dEHhZ",
      "include_colab_link": true
    },
    "kernelspec": {
      "name": "python3",
      "display_name": "Python 3"
    },
    "language_info": {
      "name": "python"
    }
  },
  "cells": [
    {
      "cell_type": "markdown",
      "metadata": {
        "id": "view-in-github",
        "colab_type": "text"
      },
      "source": [
        "<a href=\"https://colab.research.google.com/github/ruthika11/ipython-notebook-examples/blob/master/practise2.ipynb\" target=\"_parent\"><img src=\"https://colab.research.google.com/assets/colab-badge.svg\" alt=\"Open In Colab\"/></a>"
      ]
    },
    {
      "cell_type": "code",
      "source": [
        "lst = [(x+5)*2 for x in range(2,10,2)]\n",
        "print(lst)\n",
        "lst.insert(2,100)\n",
        "print(lst)"
      ],
      "metadata": {
        "id": "cpEe1XmeOOyL"
      },
      "execution_count": null,
      "outputs": []
    },
    {
      "cell_type": "code",
      "execution_count": null,
      "metadata": {
        "id": "oGAffKoFwEVf"
      },
      "outputs": [],
      "source": [
        "def fun(x,y):\n",
        "   return x+y\n",
        "fun(5,4)"
      ]
    },
    {
      "cell_type": "code",
      "source": [
        "def fun1(name,age):\n",
        "  print(\"Name: \",name,\"\\nAge :\",age)\n",
        "name = input(\"what is your name: \")\n",
        "age = int(input(\"Enter your age: \"))\n",
        "fun1(name,age)"
      ],
      "metadata": {
        "id": "9PEM6Y3CjXgt"
      },
      "execution_count": null,
      "outputs": []
    },
    {
      "cell_type": "code",
      "source": [
        "class colors:\n",
        "  x = \"blue\"\n",
        "  y = \"pink\"\n",
        "z = colors()  \n",
        "print(z.x,z.y)"
      ],
      "metadata": {
        "id": "Ytgt2GbG3FpQ"
      },
      "execution_count": null,
      "outputs": []
    }
  ]
}