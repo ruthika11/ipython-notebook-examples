{
  "nbformat": 4,
  "nbformat_minor": 0,
  "metadata": {
    "colab": {
      "provenance": [],
      "authorship_tag": "ABX9TyPmrOy3fTyR+CmxWoB1+Rpb",
      "include_colab_link": true
    },
    "kernelspec": {
      "name": "python3",
      "display_name": "Python 3"
    },
    "language_info": {
      "name": "python"
    }
  },
  "cells": [
    {
      "cell_type": "markdown",
      "metadata": {
        "id": "view-in-github",
        "colab_type": "text"
      },
      "source": [
        "<a href=\"https://colab.research.google.com/github/ruthika11/ipython-notebook-examples/blob/master/practise2.ipynb\" target=\"_parent\"><img src=\"https://colab.research.google.com/assets/colab-badge.svg\" alt=\"Open In Colab\"/></a>"
      ]
    },
    {
      "cell_type": "code",
      "source": [
        "lst = [(x+5)*2 for x in range(2,10,2)]\n",
        "print(lst)\n",
        "lst.insert(2,100)\n",
        "print(lst)"
      ],
      "metadata": {
        "id": "cpEe1XmeOOyL"
      },
      "execution_count": null,
      "outputs": []
    },
    {
      "cell_type": "code",
      "execution_count": null,
      "metadata": {
        "id": "oGAffKoFwEVf"
      },
      "outputs": [],
      "source": [
        "def fun(x,y):\n",
        "   return x+y\n",
        "fun(5,4)"
      ]
    },
    {
      "cell_type": "code",
      "source": [
        "import csv\n",
        "with open(\"c:\\pyprg\\book1.csv\",'r') as f:\n",
        "  reader = csv.reader(f)\n",
        "  \n"
      ],
      "metadata": {
        "id": "qMsuDdri5qoW"
      },
      "execution_count": null,
      "outputs": []
    },
    {
      "cell_type": "code",
      "source": [
        "def fun1(name,age):\n",
        "  print(\"Name: \",name,\"\\nAge :\",age)\n",
        "name = input(\"what is your name: \")\n",
        "age = int(input(\"Enter your age: \"))\n",
        "fun1(name,age)"
      ],
      "metadata": {
        "id": "9PEM6Y3CjXgt"
      },
      "execution_count": null,
      "outputs": []
    },
    {
      "cell_type": "code",
      "source": [
        "class colors:\n",
        "  x = \"blue\"\n",
        "  y = \"pink\"\n",
        "z = colors()  \n",
        "print(z.x,z.y)"
      ],
      "metadata": {
        "id": "Ytgt2GbG3FpQ"
      },
      "execution_count": null,
      "outputs": []
    },
    {
      "cell_type": "code",
      "source": [
        "f = open(\"hello world.txt\")\n",
        "x = f.read()\n",
        "print(x)\n"
      ],
      "metadata": {
        "id": "IqxxnJkMQBcE"
      },
      "execution_count": null,
      "outputs": []
    },
    {
      "cell_type": "code",
      "source": [
        "name = \"     roshini    \"\n",
        "txt = \"***%%^&#%^%hello\"\n",
        "print(name)\n",
        "x = name.strip()\n",
        "print(\"My name is \",x)\n",
        "x = txt.strip(\"*%^&#\")\n",
        "print(x)"
      ],
      "metadata": {
        "id": "jAYfJn0SEfWj"
      },
      "execution_count": null,
      "outputs": []
    },
    {
      "cell_type": "code",
      "source": [
        "import pandas as pd\n",
        "lst = [[1,2,3,4,5],[1,2,3,4,5]]\n",
        "dic = {\"name\":[\"Ruthika\",\"Kala\",\"Roshini\"],\"age\":[17,45,21],\"mass\":[52,60,48]}\n",
        "df = pd.DataFrame(lst)\n",
        "df1 = pd.DataFrame(data = dic, index = [1,2,3])\n",
        "print(df,\"\\n\")\n",
        "print(df1)"
      ],
      "metadata": {
        "id": "E7j1nGWalYyk",
        "colab": {
          "base_uri": "https://localhost:8080/"
        },
        "outputId": "91ae23cf-f3e4-4d68-8a14-e8f6c93981b4"
      },
      "execution_count": 2,
      "outputs": [
        {
          "output_type": "stream",
          "name": "stdout",
          "text": [
            "   0  1  2  3  4\n",
            "0  1  2  3  4  5\n",
            "1  1  2  3  4  5 \n",
            "\n",
            "      name  age  mass\n",
            "1  Ruthika   17    52\n",
            "2     Kala   45    60\n",
            "3  Roshini   21    48\n"
          ]
        }
      ]
    },
    {
      "cell_type": "code",
      "source": [
        "# f-strings \n",
        "txt = \"ruthika\"\n",
        "print(f\"my name is {txt} {5+6}. \")"
      ],
      "metadata": {
        "id": "jajggJLJ-jPB"
      },
      "execution_count": null,
      "outputs": []
    },
    {
      "cell_type": "code",
      "source": [
        "from google.colab import drive\n",
        "drive.mount('/content/drive')\n",
        "import pandas as pd\n",
        "data = pd.read_excel(r'/content/drive/My Drive/example11/example11.xlsx')\n",
        "display(pd.dataframe(data))"
      ],
      "metadata": {
        "id": "Hv6u8SibWvh2"
      },
      "execution_count": null,
      "outputs": []
    },
    {
      "cell_type": "code",
      "source": [
        "marks = {\"Tamil\":[99,75,99],\"English\":[88,81,86],\"biology\":[97,80,50],\"Chemistry\":[65,70,66],\"Physics\":[57,100,99],\"Math\":[87,89,54]}\n",
        "df = pd.DataFrame(marks,index =['Ruthika','Roshini','Kala'])\n",
        "print(df,\"\\n\")\n",
        "A = df[\"English\"].rank(ascending = False)\n",
        "print(A)"
      ],
      "metadata": {
        "colab": {
          "base_uri": "https://localhost:8080/"
        },
        "id": "QPabTHQpZYVK",
        "outputId": "e7bf2d43-a8cd-4008-a423-9c744026dd9d"
      },
      "execution_count": 32,
      "outputs": [
        {
          "output_type": "stream",
          "name": "stdout",
          "text": [
            "         Tamil  English  biology  Chemistry  Physics  Math\n",
            "Ruthika     99       88       97         65       57    87\n",
            "Roshini     75       81       80         70      100    89\n",
            "Kala        99       86       50         66       99    54 \n",
            "\n",
            "Ruthika    1.0\n",
            "Roshini    3.0\n",
            "Kala       2.0\n",
            "Name: English, dtype: float64\n"
          ]
        }
      ]
    }
  ]
}