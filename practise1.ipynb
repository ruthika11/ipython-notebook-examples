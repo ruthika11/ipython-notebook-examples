{
  "nbformat": 4,
  "nbformat_minor": 0,
  "metadata": {
    "colab": {
      "provenance": [],
      "authorship_tag": "ABX9TyN9QN/mheS2LOo07Rjabiwx",
      "include_colab_link": true
    },
    "kernelspec": {
      "name": "python3",
      "display_name": "Python 3"
    },
    "language_info": {
      "name": "python"
    }
  },
  "cells": [
    {
      "cell_type": "markdown",
      "metadata": {
        "id": "view-in-github",
        "colab_type": "text"
      },
      "source": [
        "<a href=\"https://colab.research.google.com/github/ruthika11/ipython-notebook-examples/blob/master/practise1.ipynb\" target=\"_parent\"><img src=\"https://colab.research.google.com/assets/colab-badge.svg\" alt=\"Open In Colab\"/></a>"
      ]
    },
    {
      "cell_type": "code",
      "source": [
        "\n",
        "print(\"You are adorable\\n\")\n",
        "print(\"A PROGRAM TO DISPLAY THE LARGEST OF THREE NUMBERS USING NESTED IF STATEMENT\")\n",
        "a = int(input(\"Enter a number: \"))\n",
        "b = int(input(\"Enter another number: \"))\n",
        "c = int(input(\"Enter another number: \"))\n",
        "if a>b and a>c:\n",
        "  largest = a\n",
        "elif b>a and b>c:\n",
        "  largest = b\n",
        "else:\n",
        "  largest = c\n",
        "print(\"The largest number is \",largest)"
      ],
      "metadata": {
        "id": "KDCjf6Cm-brh"
      },
      "execution_count": null,
      "outputs": []
    },
    {
      "cell_type": "code",
      "source": [
        "str1 = \"chocolate\"\n",
        "x = len(str1)\n",
        "for i in range(x):\n",
        "  print(str1[i:x])"
      ],
      "metadata": {
        "id": "fyhT6qPBLwi5"
      },
      "execution_count": null,
      "outputs": []
    },
    {
      "cell_type": "code",
      "source": [
        " str =\"HI \"\n",
        " i = 1\n",
        " while i<=3:\n",
        "   print(str*i)\n",
        "   i+=1\n"
      ],
      "metadata": {
        "id": "BaSqAANJiXYY"
      },
      "execution_count": null,
      "outputs": []
    },
    {
      "cell_type": "code",
      "source": [
        "str = \"You are amazing\"\n",
        "for i in str:\n",
        "  if (i==\"a\"):\n",
        "    continue\n",
        "  print(i)"
      ],
      "metadata": {
        "id": "o2j5y_d2fij3"
      },
      "execution_count": null,
      "outputs": []
    },
    {
      "cell_type": "code",
      "source": [
        "def sum():\n",
        "  z = x+y\n",
        "  print(\"The sum of given two numbers: \",z)\n",
        "x = int(input(\"Enter a number: \"))\n",
        "y = int(input(\"Enter another number: \"))\n",
        "print(sum())\n"
      ],
      "metadata": {
        "colab": {
          "base_uri": "https://localhost:8080/"
        },
        "id": "82wEaNiJmyI_",
        "outputId": "b98cb56f-c94c-4323-f988-9a06803a9640"
      },
      "execution_count": 43,
      "outputs": [
        {
          "output_type": "stream",
          "name": "stdout",
          "text": [
            "Enter a number: 89\n",
            "Enter another number: 0\n",
            "The sum of given two numbers:  89\n",
            "None\n"
          ]
        }
      ]
    }
  ]
}