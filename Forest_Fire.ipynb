{
  "nbformat": 4,
  "nbformat_minor": 0,
  "metadata": {
    "colab": {
      "provenance": [],
      "authorship_tag": "ABX9TyM8RTaQaOPQu5FHjTRrdaSV",
      "include_colab_link": true
    },
    "kernelspec": {
      "name": "python3",
      "display_name": "Python 3"
    },
    "language_info": {
      "name": "python"
    }
  },
  "cells": [
    {
      "cell_type": "markdown",
      "metadata": {
        "id": "view-in-github",
        "colab_type": "text"
      },
      "source": [
        "<a href=\"https://colab.research.google.com/github/ruthika11/ipython-notebook-examples/blob/master/Forest_Fire.ipynb\" target=\"_parent\"><img src=\"https://colab.research.google.com/assets/colab-badge.svg\" alt=\"Open In Colab\"/></a>"
      ]
    },
    {
      "cell_type": "markdown",
      "source": [
        "# **Questions**\n",
        "**1**.Top 10 maximum burnt area happened on which month.    \n",
        "Output:\n",
        "month,area\n",
        "\n",
        "**2**.Highest temperature and lowest temperature for each month.  \n",
        "month,highest_temp, lowest_temp\n",
        "\n",
        "**3**.Monthly when highest wind and lowest wind happened.   \n",
        "Output:\n",
        "month,highest_wind, lowest_wind\n",
        "\n",
        "**4**.Highest and lowest relative humidity for each month.  \n",
        "Output:\n",
        "month,highest_rh, lowest_rh\n",
        "\n",
        "**5**.Join the output from questions 1-4 above.  \n",
        "Output:\n",
        "month,area,highest_temp, lowest_temp,highest_wind, lowest_wind,highest_rh, lowest_rh\n",
        "\n",
        "**6**.Plot a group bar chart for the output in question 5.  \n",
        "       \n",
        "X-axis -> Month    \n",
        "Bar 1 -> highest_temp   \n",
        "Bar 2 -> highest_wind  \n",
        "Bar 3 -> highest_rh\n",
        "\n"
      ],
      "metadata": {
        "id": "dpo2JgS4Xxdc"
      }
    },
    {
      "cell_type": "code",
      "execution_count": null,
      "metadata": {
        "id": "ndOaFrS7_9p4"
      },
      "outputs": [],
      "source": [
        "import csv\n",
        "import pandas as pd\n",
        "from google.colab import drive\n",
        "drive.mount(\"/content/drive/\")\n",
        "from tabulate import tabulate\n",
        "import seaborn as sns\n",
        "import matplotlib.pyplot as plt"
      ]
    },
    {
      "cell_type": "code",
      "source": [
        "!ls - ltr /content/drive/MyDrive/"
      ],
      "metadata": {
        "id": "PXnh4USi0uwl"
      },
      "execution_count": null,
      "outputs": []
    },
    {
      "cell_type": "code",
      "source": [
        "def pretty_print(df,n):\n",
        "    print(tabulate(df.head(n), headers=\"keys\", tablefmt=\"psql\"))"
      ],
      "metadata": {
        "id": "QLeNp8sl2LmA"
      },
      "execution_count": 3,
      "outputs": []
    },
    {
      "cell_type": "code",
      "source": [
        "df = pd.read_csv(r\"/content/drive/MyDrive/forestfires.csv\")\n",
        "print(df)"
      ],
      "metadata": {
        "colab": {
          "base_uri": "https://localhost:8080/"
        },
        "id": "AIfWcuElWA4-",
        "outputId": "97c8a726-d336-44a1-8b16-ab32d8de1ae2"
      },
      "execution_count": 4,
      "outputs": [
        {
          "output_type": "stream",
          "name": "stdout",
          "text": [
            "     X  Y month  day  FFMC    DMC     DC   ISI  temp  RH  wind  rain   area\n",
            "0    7  5   mar  fri  86.2   26.2   94.3   5.1   8.2  51   6.7   0.0   0.00\n",
            "1    7  4   oct  tue  90.6   35.4  669.1   6.7  18.0  33   0.9   0.0   0.00\n",
            "2    7  4   oct  sat  90.6   43.7  686.9   6.7  14.6  33   1.3   0.0   0.00\n",
            "3    8  6   mar  fri  91.7   33.3   77.5   9.0   8.3  97   4.0   0.2   0.00\n",
            "4    8  6   mar  sun  89.3   51.3  102.2   9.6  11.4  99   1.8   0.0   0.00\n",
            "..  .. ..   ...  ...   ...    ...    ...   ...   ...  ..   ...   ...    ...\n",
            "512  4  3   aug  sun  81.6   56.7  665.6   1.9  27.8  32   2.7   0.0   6.44\n",
            "513  2  4   aug  sun  81.6   56.7  665.6   1.9  21.9  71   5.8   0.0  54.29\n",
            "514  7  4   aug  sun  81.6   56.7  665.6   1.9  21.2  70   6.7   0.0  11.16\n",
            "515  1  4   aug  sat  94.4  146.0  614.7  11.3  25.6  42   4.0   0.0   0.00\n",
            "516  6  3   nov  tue  79.5    3.0  106.7   1.1  11.8  31   4.5   0.0   0.00\n",
            "\n",
            "[517 rows x 13 columns]\n"
          ]
        }
      ]
    },
    {
      "cell_type": "markdown",
      "source": [
        "# 1.Top 10 maximum burnt area happened on which month.\n",
        "Output: month,area"
      ],
      "metadata": {
        "id": "dMJFWue_2x8b"
      }
    },
    {
      "cell_type": "code",
      "source": [
        "df_max_burnt = df.groupby(['month'])['area'].max().reset_index()\n",
        "df_10max_burnt = df_max_burnt.sort_values(by = [\"area\"], ascending = False)\n",
        "pretty_print(df_10max_burnt,10)"
      ],
      "metadata": {
        "colab": {
          "base_uri": "https://localhost:8080/"
        },
        "id": "Wl0my5ym2wXU",
        "outputId": "eb4fc066-325b-4442-f5d4-1e6391f77dd5"
      },
      "execution_count": 8,
      "outputs": [
        {
          "output_type": "stream",
          "name": "stdout",
          "text": [
            "+----+---------+---------+\n",
            "|    | month   |    area |\n",
            "|----+---------+---------|\n",
            "| 11 | sep     | 1090.84 |\n",
            "|  1 | aug     |  746.28 |\n",
            "|  5 | jul     |  278.53 |\n",
            "|  6 | jun     |   70.32 |\n",
            "|  0 | apr     |   61.13 |\n",
            "|  3 | feb     |   51.78 |\n",
            "| 10 | oct     |   49.37 |\n",
            "|  8 | may     |   38.48 |\n",
            "|  7 | mar     |   36.85 |\n",
            "|  2 | dec     |   24.77 |\n",
            "+----+---------+---------+\n"
          ]
        }
      ]
    },
    {
      "cell_type": "markdown",
      "source": [
        "# 2.Highest temperature and lowest temperature for each month.\n",
        "month,highest_temp, lowest_temp"
      ],
      "metadata": {
        "id": "PCOTKKW_1ku-"
      }
    },
    {
      "cell_type": "code",
      "source": [
        "high_low_temp = df.groupby([\"month\"]).agg({\"temp\":[\"max\",\"min\"]}).reset_index()\n",
        "high_low_temp.columns = [\"month\",\"highest_temp\",\" lowest_temp\"]\n",
        "pretty_print(high_low_temp,30)"
      ],
      "metadata": {
        "colab": {
          "base_uri": "https://localhost:8080/"
        },
        "id": "F7QH7ngN4Avl",
        "outputId": "e561f287-f748-42dd-9785-da87b029286b"
      },
      "execution_count": 21,
      "outputs": [
        {
          "output_type": "stream",
          "name": "stdout",
          "text": [
            "+----+---------+----------------+----------------+\n",
            "|    | month   |   highest_temp |    lowest_temp |\n",
            "|----+---------+----------------+----------------|\n",
            "|  0 | apr     |           17.6 |            5.8 |\n",
            "|  1 | aug     |           33.3 |            5.1 |\n",
            "|  2 | dec     |            5.1 |            2.2 |\n",
            "|  3 | feb     |           15.7 |            4.2 |\n",
            "|  4 | jan     |            5.3 |            5.2 |\n",
            "|  5 | jul     |           30.2 |           12.6 |\n",
            "|  6 | jun     |           28   |           10.6 |\n",
            "|  7 | mar     |           18.8 |            5.3 |\n",
            "|  8 | may     |           18   |           11.3 |\n",
            "|  9 | nov     |           11.8 |           11.8 |\n",
            "| 10 | oct     |           21.7 |           11.3 |\n",
            "| 11 | sep     |           30.2 |            9.8 |\n",
            "+----+---------+----------------+----------------+\n"
          ]
        }
      ]
    },
    {
      "cell_type": "markdown",
      "source": [
        "# 3.Monthly when highest wind and lowest wind happened.\n",
        "Output: month,highest_wind, lowest_wind"
      ],
      "metadata": {
        "id": "Ite4phtchGRa"
      }
    },
    {
      "cell_type": "code",
      "source": [
        "high_low_wind =df.groupby([\"month\"]).agg({\"wind\":[\"max\",\"min\"]}).reset_index()\n",
        "high_low_wind.columns = [\"month\",\"highest_wind\",\" lowest_wind\"]\n",
        "pretty_print(high_low_wind,12)"
      ],
      "metadata": {
        "colab": {
          "base_uri": "https://localhost:8080/"
        },
        "id": "BgRdI0ZHhKJy",
        "outputId": "e728dfd2-a83d-4789-cb2a-7326d204c459"
      },
      "execution_count": 24,
      "outputs": [
        {
          "output_type": "stream",
          "name": "stdout",
          "text": [
            "+----+---------+----------------+----------------+\n",
            "|    | month   |   highest_wind |    lowest_wind |\n",
            "|----+---------+----------------+----------------|\n",
            "|  0 | apr     |            9.4 |            1.8 |\n",
            "|  1 | aug     |            8.9 |            0.4 |\n",
            "|  2 | dec     |            8.5 |            4.9 |\n",
            "|  3 | feb     |            9.4 |            0.9 |\n",
            "|  4 | jan     |            3.1 |            0.9 |\n",
            "|  5 | jul     |            8   |            0.9 |\n",
            "|  6 | jun     |            9.4 |            1.3 |\n",
            "|  7 | mar     |            9.4 |            0.9 |\n",
            "|  8 | may     |            4.9 |            4   |\n",
            "|  9 | nov     |            4.5 |            4.5 |\n",
            "| 10 | oct     |            5.4 |            0.9 |\n",
            "| 11 | sep     |            7.6 |            0.9 |\n",
            "+----+---------+----------------+----------------+\n"
          ]
        }
      ]
    },
    {
      "cell_type": "markdown",
      "source": [
        "# 4.Highest and lowest relative humidity for each month.\n",
        " Output: month,highest_rh, lowest_rh"
      ],
      "metadata": {
        "id": "AfUGaa9lhKxQ"
      }
    },
    {
      "cell_type": "code",
      "source": [
        "high_low_rh =df.groupby([\"month\"]).agg({\"RH\":[\"max\",\"min\"]}).reset_index()\n",
        "high_low_rh.columns = [\"month\",\"highest_rh\",\" lowest_rh\"]\n",
        "pretty_print(high_low_rh,12)"
      ],
      "metadata": {
        "colab": {
          "base_uri": "https://localhost:8080/"
        },
        "id": "GM79qG_ZiXIG",
        "outputId": "a92714c8-1995-454d-82f4-9e5292a51c9e"
      },
      "execution_count": 25,
      "outputs": [
        {
          "output_type": "stream",
          "name": "stdout",
          "text": [
            "+----+---------+--------------+--------------+\n",
            "|    | month   |   highest_rh |    lowest_rh |\n",
            "|----+---------+--------------+--------------|\n",
            "|  0 | apr     |           75 |           20 |\n",
            "|  1 | aug     |           96 |           19 |\n",
            "|  2 | dec     |           61 |           21 |\n",
            "|  3 | feb     |           82 |           35 |\n",
            "|  4 | jan     |          100 |           78 |\n",
            "|  5 | jul     |           90 |           22 |\n",
            "|  6 | jun     |           90 |           25 |\n",
            "|  7 | mar     |           99 |           18 |\n",
            "|  8 | may     |           94 |           40 |\n",
            "|  9 | nov     |           31 |           31 |\n",
            "| 10 | oct     |           60 |           24 |\n",
            "| 11 | sep     |           86 |           15 |\n",
            "+----+---------+--------------+--------------+\n"
          ]
        }
      ]
    },
    {
      "cell_type": "markdown",
      "source": [
        "# 5.Join the output from questions 1-4 above.\n",
        "Output: month,area,highest_temp, lowest_temp,highest_wind, lowest_wind,highest_rh, lowest_rh"
      ],
      "metadata": {
        "id": "o2OC-pF8hUsg"
      }
    },
    {
      "cell_type": "code",
      "source": [
        "output1 = pd.merge(df_10max_burnt,high_low_temp, on = \"month\", how = \"inner\")\n",
        "output2 = pd.merge(high_low_wind,high_low_rh , on = \"month\", how = \"inner\")\n",
        "output = pd.merge(output1,output2, on = \"month\", how = \"inner\")\n",
        "pretty_print(output,12)"
      ],
      "metadata": {
        "colab": {
          "base_uri": "https://localhost:8080/"
        },
        "id": "QlsSCvnpjTG_",
        "outputId": "53244863-e596-4579-b038-84833efde938"
      },
      "execution_count": 30,
      "outputs": [
        {
          "output_type": "stream",
          "name": "stdout",
          "text": [
            "+----+---------+---------+----------------+----------------+----------------+----------------+--------------+--------------+\n",
            "|    | month   |    area |   highest_temp |    lowest_temp |   highest_wind |    lowest_wind |   highest_rh |    lowest_rh |\n",
            "|----+---------+---------+----------------+----------------+----------------+----------------+--------------+--------------|\n",
            "|  0 | sep     | 1090.84 |           30.2 |            9.8 |            7.6 |            0.9 |           86 |           15 |\n",
            "|  1 | aug     |  746.28 |           33.3 |            5.1 |            8.9 |            0.4 |           96 |           19 |\n",
            "|  2 | jul     |  278.53 |           30.2 |           12.6 |            8   |            0.9 |           90 |           22 |\n",
            "|  3 | jun     |   70.32 |           28   |           10.6 |            9.4 |            1.3 |           90 |           25 |\n",
            "|  4 | apr     |   61.13 |           17.6 |            5.8 |            9.4 |            1.8 |           75 |           20 |\n",
            "|  5 | feb     |   51.78 |           15.7 |            4.2 |            9.4 |            0.9 |           82 |           35 |\n",
            "|  6 | oct     |   49.37 |           21.7 |           11.3 |            5.4 |            0.9 |           60 |           24 |\n",
            "|  7 | may     |   38.48 |           18   |           11.3 |            4.9 |            4   |           94 |           40 |\n",
            "|  8 | mar     |   36.85 |           18.8 |            5.3 |            9.4 |            0.9 |           99 |           18 |\n",
            "|  9 | dec     |   24.77 |            5.1 |            2.2 |            8.5 |            4.9 |           61 |           21 |\n",
            "| 10 | jan     |    0    |            5.3 |            5.2 |            3.1 |            0.9 |          100 |           78 |\n",
            "| 11 | nov     |    0    |           11.8 |           11.8 |            4.5 |            4.5 |           31 |           31 |\n",
            "+----+---------+---------+----------------+----------------+----------------+----------------+--------------+--------------+\n"
          ]
        }
      ]
    },
    {
      "cell_type": "markdown",
      "source": [
        "# 6.Plot a group bar chart for the output in question 5.\n",
        "\n",
        "X-axis -> Month    \n",
        "Bar 1 -> highest_temp  \n",
        "Bar 2 -> highest_wind  \n",
        "Bar 3 -> highest_rh"
      ],
      "metadata": {
        "id": "KvhwdvRBmIir"
      }
    },
    {
      "cell_type": "code",
      "source": [],
      "metadata": {
        "id": "E6SGYhGtmcWj"
      },
      "execution_count": null,
      "outputs": []
    }
  ]
}