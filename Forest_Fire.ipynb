{
  "nbformat": 4,
  "nbformat_minor": 0,
  "metadata": {
    "colab": {
      "provenance": [],
      "authorship_tag": "ABX9TyOWUmF/hwozBstbwizBihAT",
      "include_colab_link": true
    },
    "kernelspec": {
      "name": "python3",
      "display_name": "Python 3"
    },
    "language_info": {
      "name": "python"
    }
  },
  "cells": [
    {
      "cell_type": "markdown",
      "metadata": {
        "id": "view-in-github",
        "colab_type": "text"
      },
      "source": [
        "<a href=\"https://colab.research.google.com/github/ruthika11/ipython-notebook-examples/blob/master/Forest_Fire.ipynb\" target=\"_parent\"><img src=\"https://colab.research.google.com/assets/colab-badge.svg\" alt=\"Open In Colab\"/></a>"
      ]
    },
    {
      "cell_type": "markdown",
      "source": [
        "# **Questions**\n",
        "**1**.Top 10 maximum burnt area happened on which month.    \n",
        "Output:\n",
        "month,area\n",
        "\n",
        "**2**.Highest temperature and lowest temperature for each month.  \n",
        "month,highest_temp, lowest_temp\n",
        "\n",
        "**3**.Monthly when highest wind and lowest wind happened.   \n",
        "Output:\n",
        "month,highest_wind, lowest_wind\n",
        "\n",
        "**4**.Highest and lowest relative humidity for each month.  \n",
        "Output:\n",
        "month,highest_rh, lowest_rh\n",
        "\n",
        "**5**.Join the output from questions 1-4 above.  \n",
        "Output:\n",
        "month,area,highest_temp, lowest_temp,highest_wind, lowest_wind,highest_rh, lowest_rh\n",
        "\n",
        "**6**.Plot a group bar chart for the output in question 5.  \n",
        "       \n",
        "X-axis -> Month    \n",
        "Bar 1 -> highest_temp   \n",
        "Bar 2 -> highest_wind  \n",
        "Bar 3 -> highest_rh\n",
        "\n"
      ],
      "metadata": {
        "id": "dpo2JgS4Xxdc"
      }
    },
    {
      "cell_type": "code",
      "execution_count": null,
      "metadata": {
        "id": "ndOaFrS7_9p4"
      },
      "outputs": [],
      "source": [
        "import csv\n",
        "import pandas as pd\n",
        "from google.colab import drive\n",
        "drive.mount(\"/content/drive/\")\n",
        "from tabulate import tabulate\n",
        "import seaborn as sns\n",
        "import matplotlib.pyplot as plt"
      ]
    },
    {
      "cell_type": "code",
      "source": [
        "!ls - ltr /content/drive/MyDrive/"
      ],
      "metadata": {
        "id": "PXnh4USi0uwl"
      },
      "execution_count": null,
      "outputs": []
    },
    {
      "cell_type": "code",
      "source": [
        "def pretty_print(df,n):\n",
        "    print(tabulate(df.head(n), headers=\"keys\", tablefmt=\"psql\"))"
      ],
      "metadata": {
        "id": "QLeNp8sl2LmA"
      },
      "execution_count": 14,
      "outputs": []
    },
    {
      "cell_type": "code",
      "source": [
        "df = pd.read_csv(r\"/content/drive/MyDrive/forestfires.csv\")\n",
        "print(df)"
      ],
      "metadata": {
        "id": "AIfWcuElWA4-"
      },
      "execution_count": null,
      "outputs": []
    },
    {
      "cell_type": "markdown",
      "source": [
        "# 1.Top 10 maximum burnt area happened on which month.\n",
        "Output: month,area"
      ],
      "metadata": {
        "id": "dMJFWue_2x8b"
      }
    },
    {
      "cell_type": "code",
      "source": [],
      "metadata": {
        "id": "Wl0my5ym2wXU"
      },
      "execution_count": null,
      "outputs": []
    },
    {
      "cell_type": "markdown",
      "source": [
        "# 2.Highest temperature and lowest temperature for each month.\n",
        "month,highest_temp, lowest_temp"
      ],
      "metadata": {
        "id": "PCOTKKW_1ku-"
      }
    },
    {
      "cell_type": "code",
      "source": [],
      "metadata": {
        "id": "F7QH7ngN4Avl"
      },
      "execution_count": null,
      "outputs": []
    }
  ]
}