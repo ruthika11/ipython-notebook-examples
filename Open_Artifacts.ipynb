{
  "nbformat": 4,
  "nbformat_minor": 0,
  "metadata": {
    "colab": {
      "provenance": [],
      "authorship_tag": "ABX9TyNFguHcslC9xYUd/SPVcD57",
      "include_colab_link": true
    },
    "kernelspec": {
      "name": "python3",
      "display_name": "Python 3"
    },
    "language_info": {
      "name": "python"
    }
  },
  "cells": [
    {
      "cell_type": "markdown",
      "metadata": {
        "id": "view-in-github",
        "colab_type": "text"
      },
      "source": [
        "<a href=\"https://colab.research.google.com/github/ruthika11/ipython-notebook-examples/blob/master/Open_A.ipynb\" target=\"_parent\"><img src=\"https://colab.research.google.com/assets/colab-badge.svg\" alt=\"Open In Colab\"/></a>"
      ]
    },
    {
      "cell_type": "markdown",
      "source": [
        "# **Questions**\n",
        "**1**.Total # distinct artifactNumber.     \n",
        "Output: Integer Number\n",
        "\n",
        "**2**.Total # distinct ObjectName.     \n",
        "Output: Integer Number\n",
        "\n",
        "**3**.Top 10 artifacts by weight.     \n",
        "Output:\n",
        "w_artifactnumber,weight,generaldescripton,rank_weight\n",
        "\n",
        "**4**.Top 10 artifacts by height.   \n",
        "Output:\n",
        "h_artifactnumber,height,generaldescripton,rank_height\n",
        "\n",
        "**5**.Top 10 category1 by total # artifacts.    \n",
        "Output:\n",
        "category1,num_artifactNumber, rank_category1\n",
        "\n",
        "**6**.Top 10 BeingDate by # artifactNumber  \n",
        "Output:\n",
        "begindate,num_artifactnumber,rank_begindate\n",
        "\n",
        "**7**.Top 10 material by # artifactNumber   \n",
        "Output:\n",
        "material,num_artifactnumber_mat,rank_material\n",
        "\n",
        "**8**.Merge 3 and 4 on their corresponding rank columns    \n",
        "Output:\n",
        "rank, w_artifactnumber,h_artifactnumber, weight, height\n",
        "\n",
        "**9**.Top 10 group by # artifactNumber      \n",
        "Output:\n",
        "group,num_artifactnumber_group,rank_group\n",
        "\n",
        "**10**.Top 10 subcategory1 by total # artifacts.    \n",
        "Output:\n",
        "subcategory1,num_artifactNumber, rank_subcategory1\n",
        "\n",
        "**11**.Merge 7 and 9 on their corresponding rank columns   \n",
        "Output:\n",
        "rank, num_artifactnumber_mat, num_artifactnumber_group\n",
        "\n",
        "\n",
        "\n",
        "\n",
        "\n"
      ],
      "metadata": {
        "id": "BB33p63RMQZd"
      }
    },
    {
      "cell_type": "code",
      "execution_count": 2,
      "metadata": {
        "id": "bDbZZK3iyYnB",
        "colab": {
          "base_uri": "https://localhost:8080/"
        },
        "outputId": "69c4e8db-bcaa-4728-d513-bdf0a79b30e0"
      },
      "outputs": [
        {
          "output_type": "stream",
          "name": "stdout",
          "text": [
            "Drive already mounted at /content/drive/; to attempt to forcibly remount, call drive.mount(\"/content/drive/\", force_remount=True).\n"
          ]
        }
      ],
      "source": [
        "import csv\n",
        "import pandas as pd\n",
        "import numpy as np\n",
        "from tabulate import tabulate\n",
        "import seaborn as sns\n",
        "import datetime\n",
        "from dateutil import parser\n",
        "import matplotlib.pyplot as plt\n",
        "from google.colab import drive\n",
        "drive.mount(\"/content/drive/\")\n",
        "import glob"
      ]
    },
    {
      "cell_type": "code",
      "source": [
        "!ls - ltr /content/drive/MyDrive/"
      ],
      "metadata": {
        "id": "mK_yaQAEOjKd",
        "colab": {
          "base_uri": "https://localhost:8080/"
        },
        "outputId": "a950acd6-bfab-43a7-c4ce-e88c6635e652"
      },
      "execution_count": 3,
      "outputs": [
        {
          "output_type": "stream",
          "name": "stdout",
          "text": [
            "ls: cannot access '-': No such file or directory\n",
            "ls: cannot access 'ltr': No such file or directory\n",
            "/content/drive/MyDrive/:\n",
            " 2019-07\t\t      HR_comma_sep.csv\n",
            " Airport_and_airlines.ipynb   HR_Data.ipynb\n",
            " Airports2.csv\t\t      Open_A.ipynb\n",
            " airports.dat.txt\t      Open_crime_UK.ipynb\n",
            " Covid.ipynb\t\t      Powerlifting.ipynb\n",
            " cstmc-CSV-en.csv\t      practise1.ipynb\n",
            " ebola_data_db_format.csv     practise2.ipynb\n",
            " Ebola.ipynb\t\t     'Screenshot (1).png'\n",
            " example11.xlsx\t\t     'Screenshot 2023-08-31 125835.png'\n",
            " Forest_Fire.ipynb\t     'Screenshot (3).png'\n",
            " forestfires.csv\t      us-counties.csv\n",
            "'hello world.txt'\t      us-counties-recent.csv\n"
          ]
        }
      ]
    },
    {
      "cell_type": "code",
      "source": [
        "def pretty_print(df,n):\n",
        "    print(tabulate(df.head(n), headers=\"keys\", tablefmt = \"psql\"))"
      ],
      "metadata": {
        "id": "mMYpX4jhCT2x"
      },
      "execution_count": 4,
      "outputs": []
    },
    {
      "cell_type": "code",
      "source": [
        "df = pd.read_csv(\"/content/drive/MyDrive/cstmc-CSV-en.csv\", delimiter= \"|\", on_bad_lines = \"skip\")\n",
        "pretty_print(df ,5)"
      ],
      "metadata": {
        "id": "YtpHWJ8KO-bN",
        "colab": {
          "base_uri": "https://localhost:8080/"
        },
        "outputId": "cdb0f91b-feee-4ccb-8a2f-b4aed1dbd941"
      },
      "execution_count": 5,
      "outputs": [
        {
          "output_type": "stream",
          "name": "stderr",
          "text": [
            "<ipython-input-5-3c84ea873e5b>:1: DtypeWarning: Columns (9,10) have mixed types. Specify dtype option on import or set low_memory=False.\n",
            "  df = pd.read_csv(\"/content/drive/MyDrive/cstmc-CSV-en.csv\", delimiter= \"|\", on_bad_lines = \"skip\")\n"
          ]
        },
        {
          "output_type": "stream",
          "name": "stdout",
          "text": [
            "+----+------------------+----------------+----------------------+------------------------------+----------------+----------------+---------------+----------------+------------+-------------+-----------+------------------+----------+----------------------+---------------------------------------------------+------------------------------------------------------------+-------------------+--------------------+----------+---------------+----------------+----------+-------------+----------------+----------+-------------+----------------+------------+----------+---------+----------+-------------+----------+------------+------------------------------------------------------------------------------------+------------------------------------------------------------------------------------------+\n",
            "|    | artifactNumber   | ObjectName     | GeneralDescription   | model                        |   SerialNumber | Manufacturer   | ManuCountry   |   ManuProvince |   ManuCity |   BeginDate |   EndDate |   date_qualifier |   patent |   NumberOfComponents | ArtifactFinish                                    | ContextCanada                                              |   ContextFunction |   ContextTechnical | group1   | category1     | subcategory1   |   group2 |   category2 |   subcategory2 |   group3 |   category3 |   subcategory3 | material   | Length   | Width   |   Height |   Thickness |   Weight |   Diameter | image                                                                              | thumbnail                                                                                |\n",
            "|----+------------------+----------------+----------------------+------------------------------+----------------+----------------+---------------+----------------+------------+-------------+-----------+------------------+----------+----------------------+---------------------------------------------------+------------------------------------------------------------+-------------------+--------------------+----------+---------------+----------------+----------+-------------+----------------+----------+-------------+----------------+------------+----------+---------+----------+-------------+----------+------------+------------------------------------------------------------------------------------+------------------------------------------------------------------------------------------|\n",
            "|  0 | 1966.0001.001    | Cover          | PAPER                | WESTERN CANADA AIRWAYS LTD.  |            nan | Unknown        | Unknown       |            nan |        nan |        1927 |       nan |              nan |      nan |                    1 | nan                                               | AT THE TIME IT WAS THE WORLD'S MOST NORTHERNLY AIR SERVICE |               nan |                nan | Aviation | Commemorative | Stamps & coins |      nan |         nan |            nan |      nan |         nan |            nan | paper      | 4.5 cm   | 2.6 cm  |      nan |         nan |      nan |        nan | http://source.techno-science.ca/artifacts-artefacts/images/1966.0001.001.aa.cs.png | http://source.techno-science.ca/artifacts-artefacts/images/1966.0001.001.aa.cs.thumb.png |\n",
            "|  1 | 1966.0002.001    | Stamp, postage | PAPER                | WESTERN CANADA AIRWAYS LTD.  |            nan | Unknown        | Unknown       |            nan |        nan |        1927 |       nan |              nan |      nan |                    1 | PINK & BLACK ON WHITE                             | nan                                                        |               nan |                nan | Aviation | Commemorative | Stamps & coins |      nan |         nan |            nan |      nan |         nan |            nan | paper      | 3.8 cm   | 2.7 cm  |      nan |         nan |      nan |        nan | http://source.techno-science.ca/artifacts-artefacts/images/1966.0002.001.aa.cs.png | http://source.techno-science.ca/artifacts-artefacts/images/1966.0002.001.aa.cs.thumb.png |\n",
            "|  2 | 1966.0003.001    | Stamp, postage | PAPER                | nan                          |            nan | Unknown        | Unknown       |            nan |        nan |        1932 |       nan |              nan |      nan |                    1 | DARK & PALE BLUE ON WHITE                         | nan                                                        |               nan |                nan | Aviation | Commemorative | Stamps & coins |      nan |         nan |            nan |      nan |         nan |            nan | paper      | 12.8 cm  | 8.4 cm  |      nan |         nan |      nan |        nan | http://source.techno-science.ca/artifacts-artefacts/images/1966.0003.001.aa.cs.png | http://source.techno-science.ca/artifacts-artefacts/images/1966.0003.001.aa.cs.thumb.png |\n",
            "|  3 | 1966.0004.001    | Stamp, postage | PAPER                | ELLIOT, JACK V. AIR SERVICE  |            nan | Unknown        | Unknown       |            nan |        nan |        1926 |       nan |              nan |      nan |                    1 | RED ON YELLOW WITH SHADED ZIG-ZAG LINE BACKGROUND | nan                                                        |               nan |                nan | Aviation | Commemorative | Stamps & coins |      nan |         nan |            nan |      nan |         nan |            nan | paper      | 22.4 cm  | 9.0 cm  |      nan |         nan |      nan |        nan | http://source.techno-science.ca/artifacts-artefacts/images/1966.0004.001.aa.cs.png | http://source.techno-science.ca/artifacts-artefacts/images/1966.0004.001.aa.cs.thumb.png |\n",
            "|  4 | 1966.0005.001    | Stamp, postage | PAPER                | ELLIOT-FAIRCHILD AIR SERVICE |            nan | Unknown        | Unknown       |            nan |        nan |        1926 |       nan |              nan |      nan |                    1 | RED ON YELLOW WITH SWASTIKA BACKGROUND            | nan                                                        |               nan |                nan | Aviation | Commemorative | Stamps & coins |      nan |         nan |            nan |      nan |         nan |            nan | paper      | 22.7 cm  | 9.5 cm  |      nan |         nan |      nan |        nan | http://source.techno-science.ca/artifacts-artefacts/images/1966.0005.001.aa.cs.png | http://source.techno-science.ca/artifacts-artefacts/images/1966.0005.001.aa.cs.thumb.png |\n",
            "+----+------------------+----------------+----------------------+------------------------------+----------------+----------------+---------------+----------------+------------+-------------+-----------+------------------+----------+----------------------+---------------------------------------------------+------------------------------------------------------------+-------------------+--------------------+----------+---------------+----------------+----------+-------------+----------------+----------+-------------+----------------+------------+----------+---------+----------+-------------+----------+------------+------------------------------------------------------------------------------------+------------------------------------------------------------------------------------------+\n"
          ]
        }
      ]
    },
    {
      "cell_type": "markdown",
      "source": [
        "# 1.Total # distinct artifactNumber.\n",
        "Output: Integer Number"
      ],
      "metadata": {
        "id": "N9NdVPFPvZOQ"
      }
    },
    {
      "cell_type": "code",
      "source": [
        "dis_number = pd.unique(df[\"artifactNumber\"])\n",
        "dis_number = len(dis_number)\n",
        "print(f\"Total # distinct artifactNumber : \\n{dis_number}\")"
      ],
      "metadata": {
        "id": "SmVDk2qHDmG6",
        "colab": {
          "base_uri": "https://localhost:8080/"
        },
        "outputId": "419d901c-1eca-48cb-dd4b-b3c168732fa8"
      },
      "execution_count": 6,
      "outputs": [
        {
          "output_type": "stream",
          "name": "stdout",
          "text": [
            "Total # distinct artifactNumber : \n",
            "107768\n"
          ]
        }
      ]
    },
    {
      "cell_type": "markdown",
      "source": [
        "# 2.Total # distinct ObjectName.\n",
        "Output: Integer Number"
      ],
      "metadata": {
        "id": "CJl9Xbo0vfOg"
      }
    },
    {
      "cell_type": "code",
      "source": [
        "dis_obj_name = pd.unique(df[\"ObjectName\"])\n",
        "dis_obj_name = len(dis_obj_name)\n",
        "print(f\"Total # distinct ObjectName : \\n{dis_obj_name}\")"
      ],
      "metadata": {
        "colab": {
          "base_uri": "https://localhost:8080/"
        },
        "id": "TqRUyCs0vldb",
        "outputId": "b5e13b8f-3904-4d7f-e913-2ab721c1ba24"
      },
      "execution_count": 7,
      "outputs": [
        {
          "output_type": "stream",
          "name": "stdout",
          "text": [
            "Total # distinct ObjectName : \n",
            "8191\n"
          ]
        }
      ]
    },
    {
      "cell_type": "markdown",
      "source": [
        "# 3.Top 10 artifacts by weight.\n",
        "Output: w_artifactnumber,weight,generaldescripton,rank_weight"
      ],
      "metadata": {
        "id": "r-DiQEcpvlsm"
      }
    },
    {
      "cell_type": "code",
      "source": [
        "top_10_weight = df.groupby([\"artifactNumber\",\"GeneralDescription\"])[\"Weight\"].size().reset_index()\n",
        "top_10_weight = top_10_weight.sort_values(by = \"Weight\", ascending = False)\n",
        "top_10_weight[\"rank\"] = top_10_weight[\"Weight\"].rank(ascending = False)\n",
        "top_10_weight.columns = [\"w_artifactnumber\",\"generaldescripton\",\"weight\",\"rank\"]\n",
        "pretty_print(top_10_weight,10)"
      ],
      "metadata": {
        "colab": {
          "base_uri": "https://localhost:8080/"
        },
        "id": "cnWuom_SvtDR",
        "outputId": "0f047290-2fd7-4bc4-b69a-a594485f0271"
      },
      "execution_count": 8,
      "outputs": [
        {
          "output_type": "stream",
          "name": "stdout",
          "text": [
            "+-------+--------------------+-----------------------------------------------------------------------------------------------------------------------------------------------------------------------------------------------------------------------------------------------+----------+---------+\n",
            "|       | w_artifactnumber   | generaldescripton                                                                                                                                                                                                                             |   weight |    rank |\n",
            "|-------+--------------------+-----------------------------------------------------------------------------------------------------------------------------------------------------------------------------------------------------------------------------------------------+----------+---------|\n",
            "| 21091 | 1984.0960.002      | GLASS                                                                                                                                                                                                                                         |        2 |     2.5 |\n",
            "| 23257 | 1986.0245.001      | Metal                                                                                                                                                                                                                                         |        2 |     2.5 |\n",
            "|   219 | 1966.0213.002      | SYNTHETIC                                                                                                                                                                                                                                     |        2 |     2.5 |\n",
            "| 63185 | 2008.0178.006      | Wood table with metal hardware/ Plywood shelf attached by metal brackets to one end/ Wood shelf on metal stand mounted on table top/ Metal casings for power bar and box/ Metal wiring and parts/ Synthetic switch, cable coverings and parts |        2 |     2.5 |\n",
            "|     0 | 1966.0001.001      | PAPER                                                                                                                                                                                                                                         |        1 | 35964.5 |\n",
            "| 47950 | 1998.1040.002      | paper                                                                                                                                                                                                                                         |        1 | 35964.5 |\n",
            "| 47955 | 1998.1042.003      | paper                                                                                                                                                                                                                                         |        1 | 35964.5 |\n",
            "| 47954 | 1998.1042.002      | silver metal                                                                                                                                                                                                                                  |        1 | 35964.5 |\n",
            "| 47953 | 1998.1042.001      | silver metal                                                                                                                                                                                                                                  |        1 | 35964.5 |\n",
            "| 47952 | 1998.1041.002      | coated paper                                                                                                                                                                                                                                  |        1 | 35964.5 |\n",
            "+-------+--------------------+-----------------------------------------------------------------------------------------------------------------------------------------------------------------------------------------------------------------------------------------------+----------+---------+\n"
          ]
        }
      ]
    },
    {
      "cell_type": "markdown",
      "source": [
        "# 4.Top 10 artifacts by height.\n",
        "Output: h_artifactnumber,height,generaldescripton,rank_height"
      ],
      "metadata": {
        "id": "7BadITZMvuTZ"
      }
    },
    {
      "cell_type": "code",
      "source": [
        "top_10_height = df.groupby([\"artifactNumber\",\"GeneralDescription\"])[\"Height\"].size().reset_index()\n",
        "top_10_height = top_10_height.sort_values(by = \"Height\", ascending = False)\n",
        "top_10_height[\"rank\"] = top_10_height[\"Height\"].rank(ascending = False)\n",
        "top_10_height.columns = [\"h_artifactnumber\",\"generaldescripton\",\"height\",\"rank\"]\n",
        "pretty_print(top_10_height,10)"
      ],
      "metadata": {
        "colab": {
          "base_uri": "https://localhost:8080/"
        },
        "id": "Ds55Vhz2v-Cp",
        "outputId": "abe1aff4-8110-41e1-df6b-57f590c0b11b"
      },
      "execution_count": 9,
      "outputs": [
        {
          "output_type": "stream",
          "name": "stdout",
          "text": [
            "+-------+--------------------+-----------------------------------------------------------------------------------------------------------------------------------------------------------------------------------------------------------------------------------------------+----------+---------+\n",
            "|       | h_artifactnumber   | generaldescripton                                                                                                                                                                                                                             |   height |    rank |\n",
            "|-------+--------------------+-----------------------------------------------------------------------------------------------------------------------------------------------------------------------------------------------------------------------------------------------+----------+---------|\n",
            "| 21091 | 1984.0960.002      | GLASS                                                                                                                                                                                                                                         |        2 |     2.5 |\n",
            "| 23257 | 1986.0245.001      | Metal                                                                                                                                                                                                                                         |        2 |     2.5 |\n",
            "|   219 | 1966.0213.002      | SYNTHETIC                                                                                                                                                                                                                                     |        2 |     2.5 |\n",
            "| 63185 | 2008.0178.006      | Wood table with metal hardware/ Plywood shelf attached by metal brackets to one end/ Wood shelf on metal stand mounted on table top/ Metal casings for power bar and box/ Metal wiring and parts/ Synthetic switch, cable coverings and parts |        2 |     2.5 |\n",
            "|     0 | 1966.0001.001      | PAPER                                                                                                                                                                                                                                         |        1 | 35964.5 |\n",
            "| 47950 | 1998.1040.002      | paper                                                                                                                                                                                                                                         |        1 | 35964.5 |\n",
            "| 47955 | 1998.1042.003      | paper                                                                                                                                                                                                                                         |        1 | 35964.5 |\n",
            "| 47954 | 1998.1042.002      | silver metal                                                                                                                                                                                                                                  |        1 | 35964.5 |\n",
            "| 47953 | 1998.1042.001      | silver metal                                                                                                                                                                                                                                  |        1 | 35964.5 |\n",
            "| 47952 | 1998.1041.002      | coated paper                                                                                                                                                                                                                                  |        1 | 35964.5 |\n",
            "+-------+--------------------+-----------------------------------------------------------------------------------------------------------------------------------------------------------------------------------------------------------------------------------------------+----------+---------+\n"
          ]
        }
      ]
    },
    {
      "cell_type": "markdown",
      "source": [
        "# 5.Top 10 category1 by total # artifacts.\n",
        "Output: category1,num_artifactNumber, rank_category1"
      ],
      "metadata": {
        "id": "9ppEFQ4__h0P"
      }
    },
    {
      "cell_type": "code",
      "source": [
        "top_10_cat = df.groupby(\"category1\")[\"artifactNumber\"].size().to_frame(\"num_artifactNumber\").reset_index()\n",
        "top_10_cat = top_10_cat.sort_values(by = \"num_artifactNumber\", ascending = False)\n",
        "top_10_cat[\"rank_category1\"] = top_10_cat[\"num_artifactNumber\"].rank(ascending = False)\n",
        "pretty_print(top_10_cat,10)"
      ],
      "metadata": {
        "colab": {
          "base_uri": "https://localhost:8080/"
        },
        "id": "LBM-v_Ip_iHf",
        "outputId": "f5ef412a-c980-4d72-9790-2fac318769b0"
      },
      "execution_count": 10,
      "outputs": [
        {
          "output_type": "stream",
          "name": "stdout",
          "text": [
            "+-----+--------------------------+----------------------+------------------+\n",
            "|     | category1                |   num_artifactNumber |   rank_category1 |\n",
            "|-----+--------------------------+----------------------+------------------|\n",
            "| 191 | Printed specimens        |                 4270 |                1 |\n",
            "|  50 | Commemorative            |                 4167 |                2 |\n",
            "|  15 | Archives                 |                 3026 |                3 |\n",
            "| 243 | Tools & equipment-trades |                 2730 |                4 |\n",
            "| 156 | Miscellaneous            |                 2589 |                5 |\n",
            "|  46 | Clothing                 |                 2008 |                6 |\n",
            "| 195 | Radio                    |                 1791 |                7 |\n",
            "|  61 | Cycles & cycling         |                 1440 |                8 |\n",
            "| 116 | Instruments              |                 1370 |                9 |\n",
            "|  95 | Food processing          |                 1327 |               10 |\n",
            "+-----+--------------------------+----------------------+------------------+\n"
          ]
        }
      ]
    },
    {
      "cell_type": "markdown",
      "source": [
        "# 6.Top 10 BeingDate by # artifactNumber\n",
        "Output: begindate,num_artifactnumber,rank_begindate"
      ],
      "metadata": {
        "id": "yun4VybA_iow"
      }
    },
    {
      "cell_type": "code",
      "source": [
        "begindate = df.groupby(\"BeginDate\")[\"artifactNumber\"].size().to_frame(\"num_artifactnumber\").reset_index()\n",
        "begindate = begindate.sort_values(by = \"num_artifactnumber\", ascending = False)\n",
        "begindate[\"rank_begindate\"] = begindate[\"num_artifactnumber\"].rank(ascending = False)\n",
        "pretty_print(begindate,10)"
      ],
      "metadata": {
        "colab": {
          "base_uri": "https://localhost:8080/"
        },
        "id": "E4tpVZju_i5k",
        "outputId": "ef532d6e-868a-41a5-ab51-5e68b3e88bc8"
      },
      "execution_count": 11,
      "outputs": [
        {
          "output_type": "stream",
          "name": "stdout",
          "text": [
            "+-----+-------------+----------------------+------------------+\n",
            "|     |   BeginDate |   num_artifactnumber |   rank_begindate |\n",
            "|-----+-------------+----------------------+------------------|\n",
            "| 113 |        1900 |                 2609 |                1 |\n",
            "| 163 |        1950 |                 1477 |                2 |\n",
            "| 133 |        1920 |                 1214 |                3 |\n",
            "| 143 |        1930 |                 1176 |                4 |\n",
            "| 153 |        1940 |                 1026 |                5 |\n",
            "| 173 |        1960 |                  904 |                6 |\n",
            "| 183 |        1970 |                  883 |                7 |\n",
            "| 123 |        1910 |                  600 |                8 |\n",
            "| 193 |        1980 |                  549 |                9 |\n",
            "| 157 |        1944 |                  548 |               10 |\n",
            "+-----+-------------+----------------------+------------------+\n"
          ]
        }
      ]
    },
    {
      "cell_type": "markdown",
      "source": [
        "# 7.Top 10 material by # artifactNumber\n",
        "Output: material,num_artifactnumber_mat,rank_material"
      ],
      "metadata": {
        "id": "OqEffVYq_jOl"
      }
    },
    {
      "cell_type": "code",
      "source": [
        "top_10_mat = df.groupby(\"material\")[\"artifactNumber\"].size().to_frame(\"num_artifactnumber_mat\").reset_index()\n",
        "top_10_mat = top_10_mat.sort_values(by = \"num_artifactnumber_mat\", ascending = False)\n",
        "top_10_mat[\"rank\"] = top_10_mat[\"num_artifactnumber_mat\"].rank(ascending = False)\n",
        "pretty_print(top_10_mat,10)"
      ],
      "metadata": {
        "colab": {
          "base_uri": "https://localhost:8080/"
        },
        "id": "KFKjc0bP_jf2",
        "outputId": "0d6818fe-34a2-494c-b865-c8daf7021d54"
      },
      "execution_count": 12,
      "outputs": [
        {
          "output_type": "stream",
          "name": "stdout",
          "text": [
            "+------+-------------------+--------------------------+--------+\n",
            "|      | material          |   num_artifactnumber_mat |   rank |\n",
            "|------+-------------------+--------------------------+--------|\n",
            "| 6082 | paper             |                     9394 |      1 |\n",
            "| 1497 | metal             |                     7421 |      2 |\n",
            "|  843 | glass             |                     2044 |      3 |\n",
            "| 5997 | metal;synthetic   |                     2027 |      4 |\n",
            "| 7171 | synthetic         |                     1663 |      5 |\n",
            "| 5047 | metal->steel      |                     1523 |      6 |\n",
            "| 8223 | synthetic;metal   |                     1386 |      7 |\n",
            "| 6292 | paper->card stock |                     1353 |      8 |\n",
            "| 3153 | metal->brass      |                     1212 |      9 |\n",
            "| 9922 | wood;metal        |                     1175 |     10 |\n",
            "+------+-------------------+--------------------------+--------+\n"
          ]
        }
      ]
    },
    {
      "cell_type": "markdown",
      "source": [
        "# 8.Merge 3 and 4 on their corresponding rank columns\n",
        "Output: rank, w_artifactnumber,h_artifactnumber, weight, height"
      ],
      "metadata": {
        "id": "OOABRqo__jxe"
      }
    },
    {
      "cell_type": "code",
      "source": [
        "merge_hei_wei = pd.merge(top_10_weight,top_10_height, on = \"rank\" , how = \"inner\")\n",
        "pretty_print(merge_hei_wei,10)"
      ],
      "metadata": {
        "id": "oZU8K7FD_kEi"
      },
      "execution_count": null,
      "outputs": []
    },
    {
      "cell_type": "markdown",
      "source": [
        "# 9.Top 10 group by # artifactNumber\n",
        "Output: group,num_artifactnumber_group,rank_group"
      ],
      "metadata": {
        "id": "18Dm3NKk_kSg"
      }
    },
    {
      "cell_type": "code",
      "source": [
        "top_10_group = df.groupby(\"group1\")[\"artifactNumber\"].size().to_frame(\"num_artifactnumber_group\").reset_index()\n",
        "top_10_group = top_10_group.sort_values(by = \"num_artifactnumber_group\", ascending = False)\n",
        "top_10_group[\"rank\"] = top_10_group[\"num_artifactnumber_group\"].rank(ascending = False)\n",
        "pretty_print(top_10_group,10)"
      ],
      "metadata": {
        "colab": {
          "base_uri": "https://localhost:8080/"
        },
        "id": "TsSLlAAp_kjp",
        "outputId": "8608e7c4-b104-4673-d01f-aa9d957d1d98"
      },
      "execution_count": 13,
      "outputs": [
        {
          "output_type": "stream",
          "name": "stdout",
          "text": [
            "+----+-----------------------+----------------------------+--------+\n",
            "|    | group1                |   num_artifactnumber_group |   rank |\n",
            "|----+-----------------------+----------------------------+--------|\n",
            "|  3 | Aviation              |                      12360 |      1 |\n",
            "|  6 | Communications        |                       6579 |      2 |\n",
            "| 27 | Printing              |                       6290 |      3 |\n",
            "| 15 | Industrial Technology |                       5616 |      4 |\n",
            "| 25 | Photography           |                       5067 |      5 |\n",
            "| 19 | Medical Technology    |                       4445 |      6 |\n",
            "|  1 | Agriculture           |                       3595 |      7 |\n",
            "|  8 | Domestic Technology   |                       2816 |      8 |\n",
            "| 26 | Physics               |                       2636 |      9 |\n",
            "| 30 | Vacuum Tubes          |                       2084 |     10 |\n",
            "+----+-----------------------+----------------------------+--------+\n"
          ]
        }
      ]
    },
    {
      "cell_type": "markdown",
      "source": [
        "# 10.Top 10 subcategory1 by total # artifacts.\n",
        "Output: subcategory1,num_artifactNumber, rank_subcategory1"
      ],
      "metadata": {
        "id": "IewNN36z_kyj"
      }
    },
    {
      "cell_type": "code",
      "source": [
        "top_10_sub = df.groupby(\"subcategory1\")[\"artifactNumber\"].size().to_frame(\"num_artifactNumber\").reset_index()\n",
        "top_10_sub = top_10_sub.sort_values(by = \"num_artifactNumber\", ascending = False)\n",
        "top_10_sub[\"rank_subcategory1\"] = top_10_sub[\"num_artifactNumber\"].rank(ascending = False)\n",
        "pretty_print(top_10_sub,10)"
      ],
      "metadata": {
        "colab": {
          "base_uri": "https://localhost:8080/"
        },
        "id": "5pYUMpxs_lCZ",
        "outputId": "7e865249-3b0b-47fe-8e98-1e656ac9164c"
      },
      "execution_count": 14,
      "outputs": [
        {
          "output_type": "stream",
          "name": "stdout",
          "text": [
            "+-----+--------------------------+----------------------+---------------------+\n",
            "|     | subcategory1             |   num_artifactNumber |   rank_subcategory1 |\n",
            "|-----+--------------------------+----------------------+---------------------|\n",
            "| 274 | Memorabilia              |                 2470 |                   1 |\n",
            "| 283 | Miscellaneous            |                 1876 |                   2 |\n",
            "|  30 | Art                      |                 1324 |                   3 |\n",
            "| 399 | Receivers & transmitters |                 1248 |                   4 |\n",
            "| 513 | Tools                    |                 1169 |                   5 |\n",
            "| 192 | Harness & saddle maker   |                 1091 |                   6 |\n",
            "|   6 | Accessories              |                 1081 |                   7 |\n",
            "| 329 | Passenger                |                 1015 |                   8 |\n",
            "| 158 | Food preparation         |                 1003 |                   9 |\n",
            "| 483 | Surgical                 |                  962 |                  10 |\n",
            "+-----+--------------------------+----------------------+---------------------+\n"
          ]
        }
      ]
    },
    {
      "cell_type": "markdown",
      "source": [
        "# 11.Merge 7 and 9 on their corresponding rank columns\n",
        "Output: rank, num_artifactnumber_mat, num_artifactnumber_group"
      ],
      "metadata": {
        "id": "LfML0eF__lhH"
      }
    },
    {
      "cell_type": "code",
      "source": [
        "merge_mat_group = pd.merge(top_10_mat,top_10_group, on = \"rank\" , how = \"inner\")\n",
        "pretty_print(merge_mat_group,10)"
      ],
      "metadata": {
        "colab": {
          "base_uri": "https://localhost:8080/"
        },
        "id": "gaBQJShB_lxR",
        "outputId": "7cffd310-e257-4aef-d4ec-b44e9fa3d82e"
      },
      "execution_count": 15,
      "outputs": [
        {
          "output_type": "stream",
          "name": "stdout",
          "text": [
            "+----+-------------------+--------------------------+--------+-----------------------+----------------------------+\n",
            "|    | material          |   num_artifactnumber_mat |   rank | group1                |   num_artifactnumber_group |\n",
            "|----+-------------------+--------------------------+--------+-----------------------+----------------------------|\n",
            "|  0 | paper             |                     9394 |      1 | Aviation              |                      12360 |\n",
            "|  1 | metal             |                     7421 |      2 | Communications        |                       6579 |\n",
            "|  2 | glass             |                     2044 |      3 | Printing              |                       6290 |\n",
            "|  3 | metal;synthetic   |                     2027 |      4 | Industrial Technology |                       5616 |\n",
            "|  4 | synthetic         |                     1663 |      5 | Photography           |                       5067 |\n",
            "|  5 | metal->steel      |                     1523 |      6 | Medical Technology    |                       4445 |\n",
            "|  6 | synthetic;metal   |                     1386 |      7 | Agriculture           |                       3595 |\n",
            "|  7 | paper->card stock |                     1353 |      8 | Domestic Technology   |                       2816 |\n",
            "|  8 | metal->brass      |                     1212 |      9 | Physics               |                       2636 |\n",
            "|  9 | wood;metal        |                     1175 |     10 | Vacuum Tubes          |                       2084 |\n",
            "+----+-------------------+--------------------------+--------+-----------------------+----------------------------+\n"
          ]
        }
      ]
    }
  ]
}
