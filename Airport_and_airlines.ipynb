{
  "cells": [
    {
      "cell_type": "markdown",
      "metadata": {
        "id": "view-in-github",
        "colab_type": "text"
      },
      "source": [
        "<a href=\"https://colab.research.google.com/github/ruthika11/ipython-notebook-examples/blob/master/Airport_and_airlines.ipynb\" target=\"_parent\"><img src=\"https://colab.research.google.com/assets/colab-badge.svg\" alt=\"Open In Colab\"/></a>"
      ]
    },
    {
      "cell_type": "markdown",
      "metadata": {
        "id": "FUKixBadfQIc"
      },
      "source": [
        " # **PART I**\n",
        "\n",
        "# > Questions\n",
        "\n",
        "**1**.Top 20 highest altitude airports in the world. Choose only “type” with “airport”   \n",
        "Output:\n",
        "airport_id, name, city, country, altitude, rank\n",
        "\n",
        "**2**.Top 20 countries that have the highest total # of airports.  \n",
        "Output:\n",
        "country, total_airports, rank\n",
        "\n",
        "**3**.Top 20 cities that have the highest total # of airports. (Two cities from different countries can have the same name, and you have to make sure the numbers are not messed up due to that!)  \n",
        "Output:\n",
        "city, total_airports, rank  \n",
        "\n",
        "**4**.Pair of cities that have the same name, but from two different countries.  \n",
        "Output:\n",
        "city_a, country_a, city_b, country_b\n",
        "\n",
        "\n",
        "\n",
        "---\n",
        "\n",
        "# **PART II**\n",
        "\n",
        "\n",
        "\n",
        "# > Questions\n",
        "\n",
        "\n",
        "**1**.In the year 2009, print Top 10 cities in the USA that received maximum # inbound flights.  \n",
        "Output:\n",
        "city,total_inbound_flights,rank\n",
        "\n",
        "**2**.In the year 2009, print Top 10 cities in the USA that received maximum # outbound flights.\n",
        "Output:\n",
        "city,total_outbound_flights,rank\n",
        "\n",
        "**3**.In between 1999-2009, print Top 10 cities in the USA that received maximum # outbound flights.   \n",
        "Output:\n",
        "city,total_outbound_flights, rank\n",
        "\n",
        "**4**.In between 1999-2009, the Top 10 cities in the USA carry the maximum total # of passengers on outbound flights. The city column in the output will also have its state (For example San Fransico, CA).    \n",
        "Output:\n",
        "city,total_num_passengers,rank\n",
        "\n",
        "**5**.In the years 2007 and 2009 together, the Top 10 states in the USA carry the maximum total # of passengers on the outbound flights.    \n",
        "Output:\n",
        "state,total_num_passengers,rank\n",
        "\n",
        "**6**.Merge the columns 1 and 2    \n",
        "Output:\n",
        "city,total_inbound_flights,inbound_rank,total_outbound_flights,outbound_rank\n",
        "\n",
        "**7**.Plot group bar chart with seaborn/matplotlib for the output in question 6 above specifically city,total_inbound_flights,total_outbound_flights. One bar for total_inbound_flights and another for total_outbound_flights. Plot for only top 10 cities by total_inbound_flights.\n",
        "\n",
        "\tX-axis - city\n",
        "\tY-axis - total_outbound_flights, total_inbound_flights\n"
      ]
    },
    {
      "cell_type": "code",
      "execution_count": null,
      "metadata": {
        "id": "vXdjrtFDiS5B"
      },
      "outputs": [],
      "source": [
        "import csv\n",
        "import pandas as pd\n",
        "import numpy as np\n",
        "from google.colab import drive\n",
        "drive.mount(\"/content/drive/\")\n",
        "from tabulate import tabulate\n",
        "import seaborn as sns\n",
        "import datetime\n",
        "from dateutil import parser\n",
        "import matplotlib.pyplot as plt"
      ]
    },
    {
      "cell_type": "code",
      "execution_count": null,
      "metadata": {
        "id": "TUrTEpnXaIJ5"
      },
      "outputs": [],
      "source": [
        "!ls - ltr /content/drive/MyDrive/"
      ]
    },
    {
      "cell_type": "code",
      "execution_count": 4,
      "metadata": {
        "id": "9fENDMQ3edfR",
        "colab": {
          "base_uri": "https://localhost:8080/"
        },
        "outputId": "b42da6d6-d3dc-4717-dd82-a316ed7c3ad9"
      },
      "outputs": [
        {
          "output_type": "stream",
          "name": "stdout",
          "text": [
            "   Airport_Id                          Name         City           Country  \\\n",
            "0           2                Madang Airport       Madang  Papua New Guinea   \n",
            "1           3  Mount Hagen Kagamuga Airport  Mount Hagen  Papua New Guinea   \n",
            "\n",
            "  IATA  ICAD  Latitude   Longitude  Altitude Timezone DST  \\\n",
            "0  MAG  AYMD  -5.20708  145.789001        20       10   U   \n",
            "1  HGU  AYMH  -5.82679  144.296005      5388       10   U   \n",
            "\n",
            "   Tz database timezone     Type       Source  \n",
            "0  Pacific/Port_Moresby  airport  OurAirports  \n",
            "1  Pacific/Port_Moresby  airport  OurAirports  \n",
            "  Origin_airport Destination_airport    Origin_city Destination_city  \\\n",
            "0            MHK                 AMW  Manhattan, KS         Ames, IA   \n",
            "1            EUG                 RDM     Eugene, OR         Bend, OR   \n",
            "\n",
            "   Passengers  Seats  Flights  Distance    Fly_date  Origin_population  \\\n",
            "0          21     30        1       254  2008-10-01             122049   \n",
            "1          41    396       22       103  1990-11-01             284093   \n",
            "\n",
            "   Destination_population  Org_airport_lat  Org_airport_long  \\\n",
            "0                   86219        39.140999        -96.670799   \n",
            "1                   76034        44.124599       -123.211998   \n",
            "\n",
            "   Dest_airport_lat  Dest_airport_long  \n",
            "0               NaN                NaN  \n",
            "1         44.254101        -121.150002  \n"
          ]
        }
      ],
      "source": [
        "df1 = pd.read_csv(r\"/content/drive/MyDrive/airports.dat.txt\")\n",
        "df1.columns = [\"Airport_Id\",\"Name\",\"City\",\"Country\",\"IATA\",\"ICAD\",\"Latitude\",\"Longitude\",\"Altitude\",\"Timezone\",\"DST\",\"Tz database timezone\",\"Type\",\"Source\"]\n",
        "df2 = pd.read_csv(r\"/content/drive/MyDrive/Airports2.csv\")\n",
        "print(df1.head(2))\n",
        "print(df2.head(2))"
      ]
    },
    {
      "cell_type": "code",
      "execution_count": 5,
      "metadata": {
        "id": "WGjLY2H-W3fM"
      },
      "outputs": [],
      "source": [
        "def pretty_print(df,n):\n",
        "    print(tabulate(df.head(n), headers=\"keys\", tablefmt=\"psql\"))\n",
        "def get_year(row):\n",
        "  return datetime.datetime.strptime(row[\"Fly_date\"], \"%Y-%m-%d\").year"
      ]
    },
    {
      "cell_type": "code",
      "execution_count": 6,
      "metadata": {
        "id": "zBiVqru0985e"
      },
      "outputs": [],
      "source": [
        "df2[\"year\"] = df2.apply(get_year,axis = 1)"
      ]
    },
    {
      "cell_type": "markdown",
      "metadata": {
        "id": "5ICpVgbxdeIT"
      },
      "source": [
        "#**PART I**"
      ]
    },
    {
      "cell_type": "markdown",
      "metadata": {
        "id": "rsZ_aH2vdyav"
      },
      "source": [
        "**1**.Top 20 highest altitude airports in the world. Choose only “type” with “airport”   \n",
        "Output: airport_id, name, city, country, altitude, rank"
      ]
    },
    {
      "cell_type": "code",
      "execution_count": 7,
      "metadata": {
        "id": "JKkzVRSbQBDF",
        "colab": {
          "base_uri": "https://localhost:8080/"
        },
        "outputId": "237693ec-f3fd-4f78-b1b0-f1342c97c382"
      },
      "outputs": [
        {
          "output_type": "stream",
          "name": "stdout",
          "text": [
            "+------+--------------+----------------------------------------+-------------+-----------+------------+--------+\n",
            "|      |   Airport_Id | Name                                   | City        | Country   |   Altitude |   Rank |\n",
            "|------+--------------+----------------------------------------+-------------+-----------+------------+--------|\n",
            "| 6541 |         9310 | Daocheng Yading Airport                | Daocheng    | China     |      14472 |      1 |\n",
            "| 5027 |         6396 | Qamdo Bangda Airport                   | Bangda      | China     |      14219 |      2 |\n",
            "| 6392 |         8921 | Kangding Airport                       | Kangding    | China     |      14042 |      3 |\n",
            "| 5871 |         7932 | Ngari Gunsa Airport                    | Shiquanhe   | China     |      14022 |      4 |\n",
            "| 2624 |         2762 | El Alto International Airport          | La Paz      | Bolivia   |      13355 |      5 |\n",
            "| 2626 |         2764 | Capitan Nicolas Rojas Airport          | Potosi      | Bolivia   |      12913 |      6 |\n",
            "| 5850 |         7894 | Yushu Batang Airport                   | Yushu       | China     |      12816 |      7 |\n",
            "| 6419 |         8969 | Copacabana Airport                     | Copacabana  | Bolivia   |      12591 |      8 |\n",
            "| 2653 |         2792 | Inca Manco Capac International Airport | Juliaca     | Peru      |      12552 |      9 |\n",
            "| 7537 |        13483 | Golog Maqin Airport                    | Golog       | China     |      12426 |     10 |\n",
            "| 5777 |         7766 | Syangboche Airport                     | Syangboche  | Nepal     |      12400 |     11 |\n",
            "| 2625 |         2763 | Juan Mendoza Airport                   | Oruro       | Bolivia   |      12152 |     12 |\n",
            "| 3873 |         4097 | Lhasa Gonggar Airport                  | Lhasa       | China     |      11713 |     13 |\n",
            "| 6802 |        10943 | Hongyuan Airport                       | Ngawa       | China     |      11600 |     14 |\n",
            "| 2341 |         2464 | La Quiaca Airport                      | Laboulaye   | Argentina |      11414 |     15 |\n",
            "| 4039 |         4301 | Jiuzhai Huanglong Airport              | Jiuzhaigou  | China     |      11327 |     16 |\n",
            "| 2648 |         2787 | Andahuaylas Airport                    | Andahuaylas | Peru      |      11300 |     17 |\n",
            "| 5498 |         7313 | Uyuni Airport                          | Uyuni       | Bolivia   |      11136 |     18 |\n",
            "| 2652 |         2791 | Francisco Carle Airport                | Jauja       | Peru      |      11034 |     19 |\n",
            "| 3941 |         4174 | Manang Airport                         | Manang      | Nepal     |      11001 |     20 |\n",
            "+------+--------------+----------------------------------------+-------------+-----------+------------+--------+\n"
          ]
        }
      ],
      "source": [
        "high_alt = df1.sort_values(by = \"Altitude\", ascending = False)\n",
        "high_alt = high_alt[['Airport_Id',\"Name\",\"City\",\"Country\",\"Altitude\"]]\n",
        "high_alt[\"Rank\"] = high_alt['Altitude'].rank(ascending = False)\n",
        "pretty_print(high_alt,20)"
      ]
    },
    {
      "cell_type": "markdown",
      "metadata": {
        "id": "FkMCwcbe_RMC"
      },
      "source": [
        "**2**.Top 20 countries that have the highest total # of airports.  \n",
        "Output: country, total_airports, rank"
      ]
    },
    {
      "cell_type": "code",
      "execution_count": 8,
      "metadata": {
        "id": "7NRLsWMyj8y-",
        "colab": {
          "base_uri": "https://localhost:8080/"
        },
        "outputId": "8ef2fcf3-417d-4979-e20d-c37884b4c623"
      },
      "outputs": [
        {
          "output_type": "stream",
          "name": "stdout",
          "text": [
            "+-----+----------------+------------------+--------+\n",
            "|     | Country        |   total_airports |   rank |\n",
            "|-----+----------------+------------------+--------|\n",
            "| 223 | United States  |             1512 |    1   |\n",
            "|  37 | Canada         |              430 |    2   |\n",
            "|  11 | Australia      |              334 |    3   |\n",
            "| 176 | Russia         |              264 |    4.5 |\n",
            "|  27 | Brazil         |              264 |    4.5 |\n",
            "|  79 | Germany        |              249 |    6   |\n",
            "|  43 | China          |              241 |    7   |\n",
            "|  73 | France         |              217 |    8   |\n",
            "| 222 | United Kingdom |              167 |    9   |\n",
            "|  97 | India          |              148 |   10   |\n",
            "|  98 | Indonesia      |              145 |   11   |\n",
            "| 106 | Japan          |              123 |   12   |\n",
            "| 195 | South Africa   |               99 |   13   |\n",
            "|   8 | Argentina      |               96 |   14   |\n",
            "| 136 | Mexico         |               84 |   15   |\n",
            "| 104 | Italy          |               83 |   16   |\n",
            "|  99 | Iran           |               82 |   17   |\n",
            "| 204 | Sweden         |               77 |   18   |\n",
            "| 215 | Turkey         |               76 |   19   |\n",
            "|  46 | Colombia       |               75 |   20   |\n",
            "+-----+----------------+------------------+--------+\n"
          ]
        }
      ],
      "source": [
        "tot_air = df1.groupby(\"Country\")[\"Country\"].size().to_frame(\"total_airports\").reset_index()\n",
        "tot_air = tot_air.sort_values(by = \"total_airports\" , ascending = False)\n",
        "tot_air[\"rank\"] = tot_air[\"total_airports\"].rank(ascending = False)\n",
        "pretty_print(tot_air,20)"
      ]
    },
    {
      "cell_type": "markdown",
      "metadata": {
        "id": "ampWM7QZDQBE"
      },
      "source": [
        "**3**.Top 20 cities that have the highest total # of airports. (Two cities from different countries can have the same name, and you have to make sure the numbers are not messed up due to that!)   \n",
        "Output: city, total_airports, rank"
      ]
    },
    {
      "cell_type": "code",
      "execution_count": 9,
      "metadata": {
        "id": "qIvd-alKDQkt",
        "colab": {
          "base_uri": "https://localhost:8080/"
        },
        "outputId": "a1ca727e-796b-491a-8fb8-48edb3370993"
      },
      "outputs": [
        {
          "output_type": "stream",
          "name": "stdout",
          "text": [
            "+------+--------------+------------------+--------+\n",
            "|      | City         |   total_airports |   rank |\n",
            "|------+--------------+------------------+--------|\n",
            "| 3506 | London       |                9 |    1   |\n",
            "| 1347 | Columbus     |                8 |    2   |\n",
            "| 2092 | Georgetown   |                7 |    3.5 |\n",
            "| 5394 | San Jose     |                7 |    3.5 |\n",
            "| 2487 | Houston      |                6 |    8   |\n",
            "| 4293 | New York     |                6 |    8   |\n",
            "| 4071 | Moscow       |                6 |    8   |\n",
            "|  142 | Alexandria   |                6 |    8   |\n",
            "| 2671 | Jacksonville |                6 |    8   |\n",
            "| 5469 | Santiago     |                6 |    8   |\n",
            "| 2215 | Greenville   |                6 |    8   |\n",
            "| 6514 | Victoria     |                5 |   17   |\n",
            "|  949 | Burlington   |                5 |   17   |\n",
            "|  385 | Atlanta      |                5 |   17   |\n",
            "| 2331 | Hamilton     |                5 |   17   |\n",
            "| 5238 | Rome         |                5 |   17   |\n",
            "| 5177 | Richmond     |                5 |   17   |\n",
            "| 5373 | San Antonio  |                5 |   17   |\n",
            "|  380 | Athens       |                5 |   17   |\n",
            "| 2662 | Izmir        |                5 |   17   |\n",
            "+------+--------------+------------------+--------+\n"
          ]
        }
      ],
      "source": [
        "tot_air_city = df1.groupby(\"City\").size().to_frame(\"total_airports\").reset_index()\n",
        "tot_air_city = tot_air_city.sort_values(by = \"total_airports\" , ascending = False)\n",
        "tot_air_city[\"rank\"] = tot_air_city[\"total_airports\"].rank(ascending = False)\n",
        "pretty_print(tot_air_city,20)"
      ]
    },
    {
      "cell_type": "markdown",
      "metadata": {
        "id": "_1cAq70tEm7q"
      },
      "source": [
        "**4**.Pair of cities that have the same name, but from two different countries.\n",
        "Output: city_a, country_a, city_b, country_b"
      ]
    },
    {
      "cell_type": "code",
      "execution_count": 31,
      "metadata": {
        "id": "IHPxEjvmEuDC",
        "colab": {
          "base_uri": "https://localhost:8080/"
        },
        "outputId": "f7185e0e-c8fe-4dc4-e991-6d9c3508c625"
      },
      "outputs": [
        {
          "output_type": "stream",
          "name": "stdout",
          "text": [
            "+----+--------+-----------+\n",
            "|    |   City |   Country |\n",
            "|----+--------+-----------|\n",
            "|  0 |    nan |       nan |\n",
            "|  1 |    nan |       nan |\n",
            "|  2 |    nan |       nan |\n",
            "|  3 |    nan |       nan |\n",
            "|  4 |    nan |       nan |\n",
            "|  5 |    nan |       nan |\n",
            "|  6 |    nan |       nan |\n",
            "|  7 |    nan |       nan |\n",
            "|  8 |    nan |       nan |\n",
            "|  9 |    nan |       nan |\n",
            "+----+--------+-----------+\n"
          ]
        }
      ],
      "source": [
        "same_city = df1.groupby(\"City\")[\"Country\"].nunique().to_frame(\"Country\").reset_index()\n",
        "same_city = same_city.where(same_city[\"Country\"] >= 2)\n",
        "pretty_print(same_city, 10)"
      ]
    },
    {
      "cell_type": "markdown",
      "metadata": {
        "id": "QYrQG756Igfy"
      },
      "source": [
        "# **PART II**"
      ]
    },
    {
      "cell_type": "markdown",
      "metadata": {
        "id": "XItIsTssIuZ7"
      },
      "source": [
        "**1**.In the year 2009, print Top 10 cities in the USA that received maximum # inbound flights.    \n",
        "Output: city,total_inbound_flights,rank"
      ]
    },
    {
      "cell_type": "code",
      "source": [
        "df2_2009 = df2.where(df2[\"year\"] == 2009)"
      ],
      "metadata": {
        "id": "oqQaavlYmHFY"
      },
      "execution_count": 11,
      "outputs": []
    },
    {
      "cell_type": "code",
      "execution_count": 12,
      "metadata": {
        "id": "_QQrLRE19kEC",
        "colab": {
          "base_uri": "https://localhost:8080/"
        },
        "outputId": "3841e7b8-d78d-467c-ab4a-100c312eed59"
      },
      "outputs": [
        {
          "output_type": "stream",
          "name": "stdout",
          "text": [
            "+-----+------------------+-------------------------+--------+\n",
            "|     | city             |   total_inbound_flights |   rank |\n",
            "|-----+------------------+-------------------------+--------|\n",
            "|  74 | Chicago, IL      |                  417297 |      1 |\n",
            "|  21 | Atlanta, GA      |                  396603 |      2 |\n",
            "|  93 | Dallas, TX       |                  316265 |      3 |\n",
            "| 263 | New York, NY     |                  278206 |      4 |\n",
            "| 167 | Houston, TX      |                  250030 |      5 |\n",
            "| 389 | Washington, DC   |                  238744 |      6 |\n",
            "|  70 | Charlotte, NC    |                  199700 |      7 |\n",
            "| 224 | Los Angeles, CA  |                  192676 |      8 |\n",
            "|  98 | Detroit, MI      |                  183655 |      9 |\n",
            "| 286 | Philadelphia, PA |                  181645 |     10 |\n",
            "+-----+------------------+-------------------------+--------+\n"
          ]
        }
      ],
      "source": [
        "max_inbound_9 = df2_2009.groupby(\"Destination_city\")[\"Flights\"].sum().to_frame(\"total_inbound_flights\").reset_index()\n",
        "max_inbound_9 = max_inbound_9.sort_values(by = \"total_inbound_flights\" , ascending = False)\n",
        "max_inbound_9[\"rank\"] = max_inbound_9[\"total_inbound_flights\"].rank(ascending = False)\n",
        "max_inbound_9.columns = [\"city\",\"total_inbound_flights\",\"rank\"]\n",
        "pretty_print(max_inbound_9,10)"
      ]
    },
    {
      "cell_type": "markdown",
      "metadata": {
        "id": "rBGgxyR7JKCy"
      },
      "source": [
        "**2**.In the year 2009, print Top 10 cities in the USA that received maximum # outbound flights.            \n",
        "Output: city,total_outbound_flights,rank"
      ]
    },
    {
      "cell_type": "code",
      "execution_count": 13,
      "metadata": {
        "id": "ujcUflemJhHD",
        "colab": {
          "base_uri": "https://localhost:8080/"
        },
        "outputId": "66e85519-888a-4740-f150-200735fef812"
      },
      "outputs": [
        {
          "output_type": "stream",
          "name": "stdout",
          "text": [
            "+-----+------------------+--------------------------+--------+\n",
            "|     | city             |   total_outbound_flights |   rank |\n",
            "|-----+------------------+--------------------------+--------|\n",
            "|  74 | Chicago, IL      |                   416742 |      1 |\n",
            "|  21 | Atlanta, GA      |                   397112 |      2 |\n",
            "|  92 | Dallas, TX       |                   316739 |      3 |\n",
            "| 261 | New York, NY     |                   278351 |      4 |\n",
            "| 166 | Houston, TX      |                   249285 |      5 |\n",
            "| 388 | Washington, DC   |                   238958 |      6 |\n",
            "|  70 | Charlotte, NC    |                   200403 |      7 |\n",
            "| 222 | Los Angeles, CA  |                   193248 |      8 |\n",
            "|  97 | Detroit, MI      |                   184087 |      9 |\n",
            "| 285 | Philadelphia, PA |                   181575 |     10 |\n",
            "+-----+------------------+--------------------------+--------+\n"
          ]
        }
      ],
      "source": [
        "max_outbound_9 = df2_2009.groupby(\"Origin_city\")[\"Flights\"].sum().to_frame(\"total_outbound_flights\").reset_index()\n",
        "max_outbound_9 = max_outbound_9.sort_values(by = \"total_outbound_flights\" , ascending = False)\n",
        "max_outbound_9[\"rank\"] = max_outbound_9[\"total_outbound_flights\"].rank(ascending = False)\n",
        "max_outbound_9.columns = [\"city\",\"total_outbound_flights\",\"rank\"]\n",
        "pretty_print(max_outbound_9,10)"
      ]
    },
    {
      "cell_type": "markdown",
      "source": [
        "**3**.In between 1999-2009, print Top 10 cities in the USA that received maximum # outbound flights.  \n",
        "Output: city,total_outbound_flights, rank"
      ],
      "metadata": {
        "id": "vKINHlQhAwoD"
      }
    },
    {
      "cell_type": "code",
      "source": [
        "df2_1999_2009 = df2[((df2[\"year\"] >= 1999) & (df2[\"year\"] <= 2009))]"
      ],
      "metadata": {
        "id": "3b-DBgQTAw-t"
      },
      "execution_count": 14,
      "outputs": []
    },
    {
      "cell_type": "code",
      "source": [
        "max_outbound_1999_2000 = df2_1999_2009.groupby(\"Origin_city\")[\"Flights\"].sum().to_frame(\"total_outbound_flights\").reset_index()\n",
        "max_outbound_1999_2000 = max_outbound_1999_2000.sort_values(by = \"total_outbound_flights\" , ascending = False)\n",
        "max_outbound_1999_2000[\"rank\"] =max_outbound_1999_2000[\"total_outbound_flights\"].rank(ascending = False)\n",
        "max_outbound_1999_2000.columns = [\"city\",\"total_outbound_flights\",\"rank\"]\n",
        "pretty_print(max_outbound_1999_2000,10)"
      ],
      "metadata": {
        "colab": {
          "base_uri": "https://localhost:8080/"
        },
        "id": "OXgB89zUBlXU",
        "outputId": "3d0daa2d-0dcd-418f-ce50-4696ccc1f2fc"
      },
      "execution_count": 15,
      "outputs": [
        {
          "output_type": "stream",
          "name": "stdout",
          "text": [
            "+-----+-----------------+--------------------------+--------+\n",
            "|     | city            |   total_outbound_flights |   rank |\n",
            "|-----+-----------------+--------------------------+--------|\n",
            "|  93 | Chicago, IL     |                  4997322 |      1 |\n",
            "|  28 | Atlanta, GA     |                  4177480 |      2 |\n",
            "| 115 | Dallas, TX      |                  3938032 |      3 |\n",
            "| 217 | Houston, TX     |                  2750620 |      4 |\n",
            "| 342 | New York, NY    |                  2750398 |      5 |\n",
            "| 509 | Washington, DC  |                  2432099 |      6 |\n",
            "| 286 | Los Angeles, CA |                  2412159 |      7 |\n",
            "| 125 | Detroit, MI     |                  2215283 |      8 |\n",
            "| 313 | Minneapolis, MN |                  2080578 |      9 |\n",
            "| 371 | Phoenix, AZ     |                  1983949 |     10 |\n",
            "+-----+-----------------+--------------------------+--------+\n"
          ]
        }
      ]
    },
    {
      "cell_type": "markdown",
      "source": [
        "**4**.In between 1999-2009, the Top 10 cities in the USA carry the maximum total # of passengers on outbound flights. The city column in the output will also have its state (For example San Fransico, CA).    \n",
        "Output: city,total_num_passengers,rank"
      ],
      "metadata": {
        "id": "cOEYbfu9AxO2"
      }
    },
    {
      "cell_type": "code",
      "source": [
        "max_passenger_1999_2009 = df2_1999_2009.groupby(\"Origin_city\")[\"Passengers\"].sum().to_frame(\"total_num_passengers\").reset_index()\n",
        "max_passenger_1999_2009 = max_passenger_1999_2009.sort_values(by = \"total_num_passengers\" , ascending = False)\n",
        "max_passenger_1999_2009[\"rank\"] =max_passenger_1999_2009[\"total_num_passengers\"].rank(ascending = False)\n",
        "max_passenger_1999_2009.columns = [\"city\",\"total_num_passengers\",\"rank\"]\n",
        "pretty_print(max_passenger_1999_2009,10)"
      ],
      "metadata": {
        "colab": {
          "base_uri": "https://localhost:8080/"
        },
        "id": "T0mxv80VAxgv",
        "outputId": "b361db17-edc2-4d0e-85a4-1da6672bdefc"
      },
      "execution_count": 16,
      "outputs": [
        {
          "output_type": "stream",
          "name": "stdout",
          "text": [
            "+-----+-----------------+------------------------+--------+\n",
            "|     | city            |   total_num_passengers |   rank |\n",
            "|-----+-----------------+------------------------+--------|\n",
            "|  93 | Chicago, IL     |              381908565 |      1 |\n",
            "|  28 | Atlanta, GA     |              368972910 |      2 |\n",
            "| 115 | Dallas, TX      |              294826498 |      3 |\n",
            "| 286 | Los Angeles, CA |              223950429 |      4 |\n",
            "| 342 | New York, NY    |              209454427 |      5 |\n",
            "| 217 | Houston, TX     |              199031920 |      6 |\n",
            "| 371 | Phoenix, AZ     |              186032113 |      7 |\n",
            "| 268 | Las Vegas, NV   |              184877669 |      8 |\n",
            "| 313 | Minneapolis, MN |              155881721 |      9 |\n",
            "| 509 | Washington, DC  |              155604229 |     10 |\n",
            "+-----+-----------------+------------------------+--------+\n"
          ]
        }
      ]
    },
    {
      "cell_type": "markdown",
      "source": [
        "**5**.In the years 2007 and 2009 together, the Top 10 states in the USA carry the maximum total # of passengers on the outbound flights.  \n",
        "Output: state,total_num_passengers,rank"
      ],
      "metadata": {
        "id": "pvRVF_b7HN4N"
      }
    },
    {
      "cell_type": "code",
      "source": [
        "df2_2007_2009 = df2.where(df2[\"year\"].isin([2007,2009]))"
      ],
      "metadata": {
        "id": "7_kMks3OI7WV"
      },
      "execution_count": 17,
      "outputs": []
    },
    {
      "cell_type": "code",
      "source": [
        "max_passenger_2007_2009= df2_2007_2009.groupby(\"Origin_city\")[\"Passengers\"].sum().to_frame(\"total_num_passengers\").reset_index()\n",
        "max_passenger_2007_2009 = max_passenger_2007_2009.sort_values(by = \"total_num_passengers\" , ascending = False)\n",
        "max_passenger_2007_2009[\"rank\"] =max_passenger_2007_2009[\"total_num_passengers\"].rank(ascending = False)\n",
        "max_passenger_2007_2009.columns = [\"city\",\"total_num_passengers\",\"rank\"]\n",
        "max_passenger_2007_2009[\"total_num_passengers\"] = max_passenger_2007_2009[\"total_num_passengers\"].astype(int)\n",
        "pretty_print(max_passenger_2007_2009,10)"
      ],
      "metadata": {
        "colab": {
          "base_uri": "https://localhost:8080/"
        },
        "id": "BeylKkUXHOMB",
        "outputId": "d6055ef8-fb47-49f3-c328-bb370ea1a62d"
      },
      "execution_count": 18,
      "outputs": [
        {
          "output_type": "stream",
          "name": "stdout",
          "text": [
            "+-----+-----------------+------------------------+--------+\n",
            "|     | city            |   total_num_passengers |   rank |\n",
            "|-----+-----------------+------------------------+--------|\n",
            "|  80 | Chicago, IL     |               69706056 |      1 |\n",
            "|  25 | Atlanta, GA     |               69454003 |      2 |\n",
            "| 100 | Dallas, TX      |               55229445 |      3 |\n",
            "| 287 | New York, NY    |               43328550 |      4 |\n",
            "| 243 | Los Angeles, CA |               39905708 |      5 |\n",
            "| 184 | Houston, TX     |               38633317 |      6 |\n",
            "| 233 | Las Vegas, NV   |               36404901 |      7 |\n",
            "| 314 | Phoenix, AZ     |               34988199 |      8 |\n",
            "| 421 | Washington, DC  |               32317957 |      9 |\n",
            "|  76 | Charlotte, NC   |               29420705 |     10 |\n",
            "+-----+-----------------+------------------------+--------+\n"
          ]
        }
      ]
    },
    {
      "cell_type": "markdown",
      "source": [
        "**6**.Merge the columns 1 and 2   \n",
        "Output: city,total_inbound_flights,inbound_rank,total_outbound_flights,outbound_rank"
      ],
      "metadata": {
        "id": "jv0LrYufHZ_Y"
      }
    },
    {
      "cell_type": "code",
      "source": [
        "df_merge = pd.merge(max_inbound_9,max_outbound_9,how = \"inner\")\n",
        "df_merge[\"outbound_rank\"] = max_outbound_9[\"rank\"]\n",
        "df_merge.columns = [\"city\",\"total_inbound_flights\",\"inbound_rank\",\"total_outbound_flights\",\"outbound_rank\"]\n",
        "pretty_print(df_merge,10)"
      ],
      "metadata": {
        "colab": {
          "base_uri": "https://localhost:8080/"
        },
        "id": "Wb4VtqBCHanh",
        "outputId": "cfdd7a69-ae4e-4ce6-c2f2-d5e7d5e8b226"
      },
      "execution_count": 19,
      "outputs": [
        {
          "output_type": "stream",
          "name": "stdout",
          "text": [
            "+----+------------------+-------------------------+----------------+--------------------------+-----------------+\n",
            "|    | city             |   total_inbound_flights |   inbound_rank |   total_outbound_flights |   outbound_rank |\n",
            "|----+------------------+-------------------------+----------------+--------------------------+-----------------|\n",
            "|  0 | Chicago, IL      |                  417297 |              1 |                   416742 |           223   |\n",
            "|  1 | Atlanta, GA      |                  396603 |              2 |                   397112 |           171   |\n",
            "|  2 | Dallas, TX       |                  316265 |              3 |                   316739 |            91   |\n",
            "|  3 | New York, NY     |                  278206 |              4 |                   278351 |           257   |\n",
            "|  4 | Houston, TX      |                  250030 |              5 |                   249285 |           246   |\n",
            "|  5 | Washington, DC   |                  238744 |              6 |                   238958 |            54   |\n",
            "|  6 | Charlotte, NC    |                  199700 |              7 |                   200403 |           300   |\n",
            "|  7 | Los Angeles, CA  |                  192676 |              8 |                   193248 |            46   |\n",
            "|  8 | Detroit, MI      |                  183655 |              9 |                   184087 |           138   |\n",
            "|  9 | Philadelphia, PA |                  181645 |             10 |                   181575 |           340.5 |\n",
            "+----+------------------+-------------------------+----------------+--------------------------+-----------------+\n"
          ]
        }
      ]
    },
    {
      "cell_type": "markdown",
      "source": [
        "**7**.Plot group bar chart with seaborn/matplotlib for the output in question 6 above specifically city,total_inbound_flights,total_outbound_flights. One bar for total_inbound_flights and another for total_outbound_flights. Plot for only top 10 cities by total_inbound_flights."
      ],
      "metadata": {
        "id": "kSIrYiCCNW8I"
      }
    },
    {
      "cell_type": "code",
      "source": [
        "n = 10\n",
        "total_inbound_flights = list(df_merge[\"total_inbound_flights\"])[0:n]\n",
        "total_outbound_flights = list(df_merge[\"total_outbound_flights\"])[0:n]\n",
        "city = list(df_merge[\"city\"])[0:n]\n",
        "x = np.arange(n)\n",
        "width = 0.25\n",
        "\n",
        "plt.title(\"Airports and Airlines\",size = 25)\n",
        "plt.bar(x,total_inbound_flights,width,label = \"total_inbound_flights\")\n",
        "plt.bar(x + width,total_outbound_flights,width,label = \"total_outbound_flights\")\n",
        "\n",
        "plt.xticks(x,city, rotation = 90)\n",
        "plt.legend(loc = \"best\")\n",
        "plt.show()"
      ],
      "metadata": {
        "colab": {
          "base_uri": "https://localhost:8080/",
          "height": 562
        },
        "id": "dg31WJXtNXRF",
        "outputId": "749035e8-0296-4e95-c54c-2bdb98c48a2f"
      },
      "execution_count": 21,
      "outputs": [
        {
          "output_type": "display_data",
          "data": {
            "text/plain": [
              "<Figure size 640x480 with 1 Axes>"
            ],
            "image/png": "[encoded data removed]"
          },
          "metadata": {}
        }
      ]
    }
  ],
  "metadata": {
    "colab": {
      "provenance": [],
      "authorship_tag": "ABX9TyO2FqgFJL4erjS6cnV/7I+C",
      "include_colab_link": true
    },
    "kernelspec": {
      "display_name": "Python 3",
      "name": "python3"
    },
    "language_info": {
      "name": "python"
    }
  },
  "nbformat": 4,
  "nbformat_minor": 0
}