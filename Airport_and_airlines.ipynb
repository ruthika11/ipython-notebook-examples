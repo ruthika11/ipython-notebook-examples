{
  "nbformat": 4,
  "nbformat_minor": 0,
  "metadata": {
    "colab": {
      "provenance": [],
      "authorship_tag": "ABX9TyNAdcOZxalv11k7LamKCTHe",
      "include_colab_link": true
    },
    "kernelspec": {
      "name": "python3",
      "display_name": "Python 3"
    },
    "language_info": {
      "name": "python"
    }
  },
  "cells": [
    {
      "cell_type": "markdown",
      "metadata": {
        "id": "view-in-github",
        "colab_type": "text"
      },
      "source": [
        "<a href=\"https://colab.research.google.com/github/ruthika11/ipython-notebook-examples/blob/master/Airport_and_airlines.ipynb\" target=\"_parent\"><img src=\"https://colab.research.google.com/assets/colab-badge.svg\" alt=\"Open In Colab\"/></a>"
      ]
    },
    {
      "cell_type": "markdown",
      "source": [
        " # **PART I**\n",
        "\n",
        "# > Questions\n",
        "\n",
        "**1**.Top 20 highest altitude airports in the world. Choose only “type” with “airport”   \n",
        "Output:\n",
        "airport_id, name, city, country, altitude, rank\n",
        "\n",
        "**2**.Top 20 countries that have the highest total # of airports.  \n",
        "Output:\n",
        "country, total_airports, rank\n",
        "\n",
        "**3**.Top 20 cities that have the highest total # of airports. (Two cities from different countries can have the same name, and you have to make sure the numbers are not messed up due to that!)  \n",
        "Output:\n",
        "city, total_airports, rank  \n",
        "\n",
        "**4**.Pair of cities that have the same name, but from two different countries.  \n",
        "Output:\n",
        "city_a, country_a, city_b, country_b\n",
        "\n",
        "\n",
        "\n",
        "---\n",
        "\n",
        "# **PART II**\n",
        "\n",
        "\n",
        "\n",
        "# > Questions\n",
        "\n",
        "\n",
        "**1**.In the year 2009, print Top 10 cities in the USA that received maximum # inbound flights.  \n",
        "Output:\n",
        "city,total_inbound_flights,rank\n",
        "\n",
        "**2**.In the year 2009, print Top 10 cities in the USA that received maximum # outbound flights.\n",
        "Output:\n",
        "city,total_outbound_flights,rank\n",
        "\n",
        "**3**.In between 1999-2009, print Top 10 cities in the USA that received maximum # outbound flights.   \n",
        "Output:\n",
        "city,total_outbound_flights, rank\n",
        "\n",
        "**4**.In between 1999-2009, the Top 10 cities in the USA carry the maximum total # of passengers on outbound flights. The city column in the output will also have its state (For example San Fransico, CA).    \n",
        "Output:\n",
        "city,total_num_passengers,rank\n",
        "\n",
        "**5**.In the years 2007 and 2009 together, the Top 10 states in the USA carry the maximum total # of passengers on the outbound flights.    \n",
        "Output:\n",
        "state,total_num_passengers,rank\n",
        "\n",
        "**6**.Merge the columns 1 and 2    \n",
        "Output:\n",
        "city,total_inbound_flights,inbound_rank,total_outbound_flights,outbound_rank\n",
        "\n",
        "**7**.Plot group bar chart with seaborn/matplotlib for the output in question 6 above specifically city,total_inbound_flights,total_outbound_flights. One bar for total_inbound_flights and another for total_outbound_flights. Plot for only top 10 cities by total_inbound_flights.\n",
        "\n",
        "\tX-axis - city\n",
        "\tY-axis - total_outbound_flights, total_inbound_flights\n"
      ],
      "metadata": {
        "id": "FUKixBadfQIc"
      }
    },
    {
      "cell_type": "code",
      "source": [],
      "metadata": {
        "id": "vXdjrtFDiS5B"
      },
      "execution_count": null,
      "outputs": []
    }
  ]
}