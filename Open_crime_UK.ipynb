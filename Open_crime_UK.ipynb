{
  "cells": [
    {
      "cell_type": "markdown",
      "metadata": {
        "id": "view-in-github",
        "colab_type": "text"
      },
      "source": [
        "<a href=\"https://colab.research.google.com/github/ruthika11/ipython-notebook-examples/blob/master/Open_crime_UK.ipynb\" target=\"_parent\"><img src=\"https://colab.research.google.com/assets/colab-badge.svg\" alt=\"Open In Colab\"/></a>"
      ]
    },
    {
      "cell_type": "markdown",
      "metadata": {
        "id": "XI0gITnoUE4h"
      },
      "source": [
        "# **Questions**\n",
        "**1**.Top 10 Type by # events.   \n",
        "Output:\n",
        "type, num_events, rank\n",
        "\n",
        "**2**.Top 10 Ethnics by # events. Use column “Officer-defined ethnicity”     \n",
        "Output:\n",
        "type, office_num_events, office_ethnic_rank\n",
        "\n",
        "**3**.Top 10 Ethnics by # events. Use column “Self-defined ethnicity”   \n",
        "Output:\n",
        "type, self_num_events, self_ethnic_rank\n",
        "\n",
        "**4**.Merge 2 and 3 above on type.   \n",
        "Output:\n",
        "type, office_num_events, office_ethnic_rank, self_num_events, self_ethnic_rank\n",
        "\n",
        "**5**.Top 10 Type by Gender = Male.   \n",
        "Output:\n",
        "type, num_events_men, rank_men\n",
        "\n",
        "**6**.Top 10 Type by Gender = Female.   \n",
        "Output:\n",
        "type, num_events_men, rank_women\n",
        "\n",
        "**7**.Group bar chart plot (vertical) with output from 5 and 6.   \n",
        "[1][2]  \n",
        "Bar 1 -> Male   \n",
        "Bar 2 -> Female\n",
        "\n",
        "**8**.For Gender = Male, # events by “Age range”     \n",
        "Output:\n",
        "type, age_range_male, num_events_male, rank_male\n",
        "\n",
        "**9**.For Gender = Female, # events by “Age range”   \n",
        "Output:\n",
        "type, age_range_female, num_events_female, rank_female\n",
        "\n",
        "**10** .  Merge 8 and 9 on column “type”  \n",
        "Output:\n",
        "type, age_range_male, num_events_male, rank_male, age_range_female, num_events_female, rank_female\n",
        "\n"
      ]
    },
    {
      "cell_type": "code",
      "execution_count": null,
      "metadata": {
        "id": "TnUgMRPiTt8r"
      },
      "outputs": [],
      "source": [
        "import csv\n",
        "import pandas as pd\n",
        "import numpy as np\n",
        "from tabulate import tabulate\n",
        "import seaborn as sns\n",
        "import datetime\n",
        "from dateutil import parser\n",
        "import matplotlib.pyplot as plt\n",
        "from google.colab import drive\n",
        "drive.mount(\"/content/drive/\")\n",
        "import glob\n",
        "from IPython.core.interactiveshell import InteractiveShell\n",
        "InteractiveShell.ast_node_interactivy = \"all\""
      ]
    },
    {
      "cell_type": "code",
      "source": [
        "!ls - ltr /content/drive/MyDrive/"
      ],
      "metadata": {
        "id": "XwDaH2y_aZ5H"
      },
      "execution_count": null,
      "outputs": []
    },
    {
      "cell_type": "code",
      "execution_count": null,
      "metadata": {
        "id": "VtS20ys3cJGd"
      },
      "outputs": [],
      "source": [
        "!ls - ltr /content/drive/MyDrive/2019-07/"
      ]
    },
    {
      "cell_type": "code",
      "source": [
        "def pretty_print(df,n):\n",
        "    print(tabulate(df.head(n), headers=\"keys\", tablefmt=\"psql\"))"
      ],
      "metadata": {
        "id": "KvqRMDhyGPAN"
      },
      "execution_count": 4,
      "outputs": []
    },
    {
      "cell_type": "code",
      "source": [
        "path = r\"/content/drive/MyDrive/2019-07/\"\n",
        "all_files = glob.glob(path +\"/*.csv\")\n",
        "lst = []\n",
        "for filename in all_files:\n",
        "  df = pd.read_csv(filename, index_col= None ,header =0)\n",
        "  lst.append(df)\n",
        "\n",
        "df_all = pd.concat(lst, axis = 0, ignore_index = True)\n",
        "df_stat = df_all.describe(include= \"all\")\n",
        "pretty_print(df_stat,10)"
      ],
      "metadata": {
        "id": "u_JduBOUFWYh"
      },
      "execution_count": null,
      "outputs": []
    },
    {
      "cell_type": "code",
      "source": [
        "df1 = pd.read_csv(r\"/content/drive/MyDrive/2019-07/2019-07-durham-stop-and-search.csv\")\n",
        "print(df1.head(2))"
      ],
      "metadata": {
        "id": "Ec85TjGedfnO"
      },
      "execution_count": null,
      "outputs": []
    },
    {
      "cell_type": "markdown",
      "source": [
        "# 1.Top 10 Type by # events.\n",
        "Output: type, num_events, rank"
      ],
      "metadata": {
        "id": "bU3oAQ-ZhWCP"
      }
    },
    {
      "cell_type": "code",
      "source": [
        "top_10_type = df1.groupby(\"Type\").size().to_frame(\"num_events\").reset_index()\n",
        "top_10_type = top_10_type.sort_values(by = \"num_events\", ascending= False)\n",
        "top_10_type[\"rank\"] = top_10_type[\"num_events\"].rank(ascending = False)\n",
        "pretty_print(top_10_type,10)"
      ],
      "metadata": {
        "id": "HtMww7HUhdiS",
        "colab": {
          "base_uri": "https://localhost:8080/"
        },
        "outputId": "aa1aa63a-49a6-4488-e719-751f239a10aa"
      },
      "execution_count": 7,
      "outputs": [
        {
          "output_type": "stream",
          "name": "stdout",
          "text": [
            "+----+---------------------------+--------------+--------+\n",
            "|    | Type                      |   num_events |   rank |\n",
            "|----+---------------------------+--------------+--------|\n",
            "|  1 | Person search             |          146 |      1 |\n",
            "|  0 | Person and Vehicle search |           69 |      2 |\n",
            "|  2 | Vehicle search            |            5 |      3 |\n",
            "+----+---------------------------+--------------+--------+\n"
          ]
        }
      ]
    },
    {
      "cell_type": "markdown",
      "source": [
        "# 2.Top 10 Ethnics by # events. Use column “Officer-defined ethnicity”\n",
        "Output: type, office_num_events, office_ethnic_rank"
      ],
      "metadata": {
        "id": "punmCpEbt5hg"
      }
    },
    {
      "cell_type": "code",
      "source": [
        "top_10_ethnics_officer = df1.groupby([\"Type\",\"Officer-defined ethnicity\"]).size().to_frame(\"office_num_events\").reset_index()\n",
        "top_10_ethnics_officer = top_10_ethnics_officer.sort_values(by = \"office_num_events\", ascending= False)\n",
        "top_10_ethnics_officer[\" office_ethnic_rank\"] = top_10_ethnics_officer[\"office_num_events\"].rank(ascending = False)\n",
        "pretty_print(top_10_ethnics_officer,10)"
      ],
      "metadata": {
        "id": "qErdO-8BwFvD",
        "colab": {
          "base_uri": "https://localhost:8080/"
        },
        "outputId": "07c4ba73-007b-46a7-bc16-b92d253175ca"
      },
      "execution_count": 11,
      "outputs": [
        {
          "output_type": "stream",
          "name": "stdout",
          "text": [
            "+----+---------------------------+-----------------------------+---------------------+-----------------------+\n",
            "|    | Type                      | Officer-defined ethnicity   |   office_num_events |    office_ethnic_rank |\n",
            "|----+---------------------------+-----------------------------+---------------------+-----------------------|\n",
            "|  5 | Person search             | White                       |                 136 |                     1 |\n",
            "|  1 | Person and Vehicle search | White                       |                  63 |                     2 |\n",
            "|  0 | Person and Vehicle search | Asian                       |                   3 |                     4 |\n",
            "|  2 | Person search             | Asian                       |                   3 |                     4 |\n",
            "|  4 | Person search             | Other                       |                   3 |                     4 |\n",
            "|  3 | Person search             | Black                       |                   2 |                     6 |\n",
            "+----+---------------------------+-----------------------------+---------------------+-----------------------+\n"
          ]
        }
      ]
    },
    {
      "cell_type": "markdown",
      "source": [
        "# 3.Top 10 Ethnics by # events. Use column “Self-defined ethnicity”\n",
        "Output: type, self_num_events, self_ethnic_rank"
      ],
      "metadata": {
        "id": "hi3EiW5twGCU"
      }
    },
    {
      "cell_type": "code",
      "source": [
        "top_10_ethnics_Self = df1.groupby([\"Type\",\"Self-defined ethnicity\"]).size().to_frame(\"self_num_events\").reset_index()\n",
        "top_10_ethnics_Self = top_10_ethnics_Self.sort_values(by = \"self_num_events\", ascending= False)\n",
        "top_10_ethnics_Self[\"self_ethnic_rank\"] = top_10_ethnics_Self[\"self_num_events\"].rank(ascending = False)\n",
        "pretty_print(top_10_ethnics_Self,10)"
      ],
      "metadata": {
        "id": "RQWiAt7RwMMr",
        "colab": {
          "base_uri": "https://localhost:8080/"
        },
        "outputId": "0bc60d7a-232c-4e15-ad91-4852a193af9e"
      },
      "execution_count": 15,
      "outputs": [
        {
          "output_type": "stream",
          "name": "stdout",
          "text": [
            "+----+---------------------------+---------------------------------------------------------------------------+-------------------+--------------------+\n",
            "|    | Type                      | Self-defined ethnicity                                                    |   self_num_events |   self_ethnic_rank |\n",
            "|----+---------------------------+---------------------------------------------------------------------------+-------------------+--------------------|\n",
            "|  9 | Person search             | White - English/Welsh/Scottish/Northern Irish/British                     |               129 |                  1 |\n",
            "|  1 | Person and Vehicle search | White - English/Welsh/Scottish/Northern Irish/British                     |                66 |                  2 |\n",
            "|  7 | Person search             | Other ethnic group - Not stated                                           |                 7 |                  3 |\n",
            "| 10 | Vehicle search            | Other ethnic group - Not stated                                           |                 5 |                  4 |\n",
            "|  6 | Person search             | Other ethnic group - Any other ethnic group                               |                 4 |                  5 |\n",
            "|  0 | Person and Vehicle search | Asian/Asian British - Any other Asian background                          |                 2 |                  7 |\n",
            "|  5 | Person search             | Mixed/Multiple ethnic groups - Any other Mixed/Multiple ethnic background |                 2 |                  7 |\n",
            "|  8 | Person search             | White - Any other White background                                        |                 2 |                  7 |\n",
            "|  2 | Person and Vehicle search | White - Irish                                                             |                 1 |                 10 |\n",
            "|  3 | Person search             | Asian/Asian British - Any other Asian background                          |                 1 |                 10 |\n",
            "+----+---------------------------+---------------------------------------------------------------------------+-------------------+--------------------+\n"
          ]
        }
      ]
    },
    {
      "cell_type": "markdown",
      "source": [
        "# 4.Merge 2 and 3 above on type.\n",
        "Output: type, office_num_events, office_ethnic_rank, self_num_events, self_ethnic_rank"
      ],
      "metadata": {
        "id": "uWXKD5_fwMjf"
      }
    },
    {
      "cell_type": "code",
      "source": [
        "merge1 = pd.merge(top_10_ethnics_officer,top_10_ethnics_Self, on = [\"Type\"] , how = \"inner\")\n",
        "pretty_print(merge1,20)"
      ],
      "metadata": {
        "id": "y9K0o-0UxNQ8",
        "colab": {
          "base_uri": "https://localhost:8080/"
        },
        "outputId": "922b665b-ecff-4667-f816-9316111a5e3a"
      },
      "execution_count": 22,
      "outputs": [
        {
          "output_type": "stream",
          "name": "stdout",
          "text": [
            "+----+---------------+-----------------------------+---------------------+-----------------------+--------------------------------------------------------------------------------------+-------------------+--------------------+\n",
            "|    | Type          | Officer-defined ethnicity   |   office_num_events |    office_ethnic_rank | Self-defined ethnicity                                                               |   self_num_events |   self_ethnic_rank |\n",
            "|----+---------------+-----------------------------+---------------------+-----------------------+--------------------------------------------------------------------------------------+-------------------+--------------------|\n",
            "|  0 | Person search | White                       |                 136 |                     1 | White - English/Welsh/Scottish/Northern Irish/British                                |               129 |                  1 |\n",
            "|  1 | Person search | White                       |                 136 |                     1 | Other ethnic group - Not stated                                                      |                 7 |                  3 |\n",
            "|  2 | Person search | White                       |                 136 |                     1 | Other ethnic group - Any other ethnic group                                          |                 4 |                  5 |\n",
            "|  3 | Person search | White                       |                 136 |                     1 | Mixed/Multiple ethnic groups - Any other Mixed/Multiple ethnic background            |                 2 |                  7 |\n",
            "|  4 | Person search | White                       |                 136 |                     1 | White - Any other White background                                                   |                 2 |                  7 |\n",
            "|  5 | Person search | White                       |                 136 |                     1 | Asian/Asian British - Any other Asian background                                     |                 1 |                 10 |\n",
            "|  6 | Person search | White                       |                 136 |                     1 | Black/African/Caribbean/Black British - Any other Black/African/Caribbean background |                 1 |                 10 |\n",
            "|  7 | Person search | Asian                       |                   3 |                     4 | White - English/Welsh/Scottish/Northern Irish/British                                |               129 |                  1 |\n",
            "|  8 | Person search | Asian                       |                   3 |                     4 | Other ethnic group - Not stated                                                      |                 7 |                  3 |\n",
            "|  9 | Person search | Asian                       |                   3 |                     4 | Other ethnic group - Any other ethnic group                                          |                 4 |                  5 |\n",
            "| 10 | Person search | Asian                       |                   3 |                     4 | Mixed/Multiple ethnic groups - Any other Mixed/Multiple ethnic background            |                 2 |                  7 |\n",
            "| 11 | Person search | Asian                       |                   3 |                     4 | White - Any other White background                                                   |                 2 |                  7 |\n",
            "| 12 | Person search | Asian                       |                   3 |                     4 | Asian/Asian British - Any other Asian background                                     |                 1 |                 10 |\n",
            "| 13 | Person search | Asian                       |                   3 |                     4 | Black/African/Caribbean/Black British - Any other Black/African/Caribbean background |                 1 |                 10 |\n",
            "| 14 | Person search | Other                       |                   3 |                     4 | White - English/Welsh/Scottish/Northern Irish/British                                |               129 |                  1 |\n",
            "| 15 | Person search | Other                       |                   3 |                     4 | Other ethnic group - Not stated                                                      |                 7 |                  3 |\n",
            "| 16 | Person search | Other                       |                   3 |                     4 | Other ethnic group - Any other ethnic group                                          |                 4 |                  5 |\n",
            "| 17 | Person search | Other                       |                   3 |                     4 | Mixed/Multiple ethnic groups - Any other Mixed/Multiple ethnic background            |                 2 |                  7 |\n",
            "| 18 | Person search | Other                       |                   3 |                     4 | White - Any other White background                                                   |                 2 |                  7 |\n",
            "| 19 | Person search | Other                       |                   3 |                     4 | Asian/Asian British - Any other Asian background                                     |                 1 |                 10 |\n",
            "+----+---------------+-----------------------------+---------------------+-----------------------+--------------------------------------------------------------------------------------+-------------------+--------------------+\n"
          ]
        }
      ]
    },
    {
      "cell_type": "markdown",
      "source": [
        "# 5.Top 10 Type by Gender = Male.\n",
        "Output: type, num_events_men, rank_men"
      ],
      "metadata": {
        "id": "79Ko93qZdqLO"
      }
    },
    {
      "cell_type": "code",
      "source": [
        "top_10_male = df1.where(df1[\"Gender\"] == \"Male\").groupby([\"Type\"]).size().to_frame(\"num_events_men\").reset_index()\n",
        "top_10_male = top_10_male.sort_values(by = \"num_events_men\", ascending= False)\n",
        "top_10_male[\"rank_men\"] = top_10_male[\"num_events_men\"].rank(ascending = False)\n",
        "pretty_print(top_10_male,10)"
      ],
      "metadata": {
        "colab": {
          "base_uri": "https://localhost:8080/"
        },
        "id": "Vlhfwr6idqiU",
        "outputId": "53d6f36b-8025-47cd-b5ec-af0193dae96b"
      },
      "execution_count": 34,
      "outputs": [
        {
          "output_type": "stream",
          "name": "stdout",
          "text": [
            "+----+---------------------------+------------------+------------+\n",
            "|    | Type                      |   num_events_men |   rank_men |\n",
            "|----+---------------------------+------------------+------------|\n",
            "|  1 | Person search             |              116 |          1 |\n",
            "|  0 | Person and Vehicle search |               47 |          2 |\n",
            "+----+---------------------------+------------------+------------+\n"
          ]
        }
      ]
    },
    {
      "cell_type": "markdown",
      "source": [
        "# 6.Top 10 Type by Gender = Female.\n",
        "Output: type, num_events_men, rank_women"
      ],
      "metadata": {
        "id": "E_JieXk5dq61"
      }
    },
    {
      "cell_type": "code",
      "source": [
        "top_10_female = df1.where(df1[\"Gender\"] == \"Female\").groupby([\"Type\"]).size().to_frame(\"num_events_women\").reset_index()\n",
        "top_10_female = top_10_female.sort_values(by = \"num_events_women\", ascending= False)\n",
        "top_10_female[\"rank_women\"] = top_10_female[\"num_events_women\"].rank(ascending = False)\n",
        "pretty_print(top_10_female,10)"
      ],
      "metadata": {
        "colab": {
          "base_uri": "https://localhost:8080/"
        },
        "id": "clF80qszdrWy",
        "outputId": "079b772a-2efd-45cc-f404-f04dac769046"
      },
      "execution_count": 35,
      "outputs": [
        {
          "output_type": "stream",
          "name": "stdout",
          "text": [
            "+----+---------------------------+--------------------+--------------+\n",
            "|    | Type                      |   num_events_women |   rank_women |\n",
            "|----+---------------------------+--------------------+--------------|\n",
            "|  0 | Person and Vehicle search |                  9 |            1 |\n",
            "|  1 | Person search             |                  8 |            2 |\n",
            "+----+---------------------------+--------------------+--------------+\n"
          ]
        }
      ]
    },
    {
      "cell_type": "markdown",
      "source": [
        "# 7.Group bar chart plot (vertical) with output from 5 and 6.\n",
        "[1][2]    \n",
        "Bar 1 -> Male   \n",
        "Bar 2 -> Female"
      ],
      "metadata": {
        "id": "vVAB2o5Njvl1"
      }
    },
    {
      "cell_type": "code",
      "source": [
        "male_female = pd.merge(top_10_male,top_10_female)"
      ],
      "metadata": {
        "id": "_3X300yb5QJZ"
      },
      "execution_count": null,
      "outputs": []
    },
    {
      "cell_type": "code",
      "source": [
        "n = 2\n",
        "men = list(male_female[\"num_events_men\"])[0:n]\n",
        "women = list(male_female[\"num_events_women\"])[0:n]\n",
        "lst = list(male_female[\"Type\"])[0:n]\n",
        "x = np.arange(n)\n",
        "width = 0.25\n",
        "\n",
        "plt.title(\"Bar chart for men and women\",size = 25)\n",
        "plt.ylabel(\"Men and Women crime count\")\n",
        "plt.bar(x,men,width,label = \"Men\")\n",
        "plt.bar(x + width,women,width,label = \"Women\")\n",
        "0\n",
        "plt.xticks(x,lst, rotation = 0)\n",
        "plt.legend(loc = \"best\")\n",
        "plt.show()"
      ],
      "metadata": {
        "colab": {
          "base_uri": "https://localhost:8080/",
          "height": 465
        },
        "id": "8LWCcxA-j5DY",
        "outputId": "0fadb01c-c5c8-4149-c0be-abb314e931db"
      },
      "execution_count": 53,
      "outputs": [
        {
          "output_type": "display_data",
          "data": {
            "text/plain": [
              "<Figure size 640x480 with 1 Axes>"
            ],
            "image/png": "[encoded data removed]"
          },
          "metadata": {}
        }
      ]
    },
    {
      "cell_type": "markdown",
      "source": [
        "# 8.For Gender = Male, # events by “Age range”\n",
        "Output: type, age_range_male, num_events_male, rank_male"
      ],
      "metadata": {
        "id": "t6RjGkGa1oJm"
      }
    },
    {
      "cell_type": "code",
      "source": [
        "male_age = df1.where(df1[\"Gender\"] == \"Male\").groupby([\"Type\",\"Age range\"]).size().to_frame(\"age_range_male\").reset_index()\n",
        "male_age = male_age.sort_values(by = \"age_range_male\", ascending= False)\n",
        "male_age[\"rank_male\"] = male_age[\"age_range_male\"].rank(ascending = False)\n",
        "male_age.columns = [ \"type\", \"age_range_male\",\"num_events_male\",\"rank_male\"]\n",
        "pretty_print(male_age,10)"
      ],
      "metadata": {
        "colab": {
          "base_uri": "https://localhost:8080/"
        },
        "id": "_2jpEI2c1off",
        "outputId": "ef26c1e7-e8c8-437a-daff-f61bb224c8ee"
      },
      "execution_count": 47,
      "outputs": [
        {
          "output_type": "stream",
          "name": "stdout",
          "text": [
            "+----+---------------------------+------------------+-------------------+-------------+\n",
            "|    | type                      | age_range_male   |   num_events_male |   rank_male |\n",
            "|----+---------------------------+------------------+-------------------+-------------|\n",
            "|  7 | Person search             | over 34          |                31 |           1 |\n",
            "|  5 | Person search             | 18-24            |                30 |           2 |\n",
            "|  4 | Person search             | 10-17            |                28 |           3 |\n",
            "|  6 | Person search             | 25-34            |                27 |           4 |\n",
            "|  1 | Person and Vehicle search | 18-24            |                19 |           5 |\n",
            "|  2 | Person and Vehicle search | 25-34            |                13 |           6 |\n",
            "|  3 | Person and Vehicle search | over 34          |                12 |           7 |\n",
            "|  0 | Person and Vehicle search | 10-17            |                 3 |           8 |\n",
            "+----+---------------------------+------------------+-------------------+-------------+\n"
          ]
        }
      ]
    },
    {
      "cell_type": "markdown",
      "source": [
        "# 9.For Gender = Female, # events by “Age range”\n",
        "Output: type, age_range_female, num_events_female, rank_female"
      ],
      "metadata": {
        "id": "d_p4T7yM1pCu"
      }
    },
    {
      "cell_type": "code",
      "source": [
        "female_age = df1.where(df1[\"Gender\"] == \"Female\").groupby([\"Type\",\"Age range\"]).size().to_frame(\"age_range_female\").reset_index()\n",
        "female_age = female_age.sort_values(by = \"age_range_female\", ascending= False)\n",
        "female_age[\"rank_female\"] = female_age[\"age_range_female\"].rank(ascending = False)\n",
        "female_age.columns = [ \"type\", \"age_range_female\",\"num_events_female\",\"rank_female\"]\n",
        "pretty_print(female_age,10)"
      ],
      "metadata": {
        "colab": {
          "base_uri": "https://localhost:8080/"
        },
        "id": "jWnKs2uV1v8v",
        "outputId": "a687e8fa-02aa-4485-c92f-8fdd788053ad"
      },
      "execution_count": 44,
      "outputs": [
        {
          "output_type": "stream",
          "name": "stdout",
          "text": [
            "+----+---------------------------+--------------------+---------------------+---------------+\n",
            "|    | type                      | age_range_female   |   num_events_female |   rank_female |\n",
            "|----+---------------------------+--------------------+---------------------+---------------|\n",
            "|  2 | Person and Vehicle search | 25-34              |                   7 |           1   |\n",
            "|  5 | Person search             | over 34            |                   4 |           2   |\n",
            "|  3 | Person search             | 10-17              |                   2 |           3.5 |\n",
            "|  4 | Person search             | 18-24              |                   2 |           3.5 |\n",
            "|  0 | Person and Vehicle search | 10-17              |                   1 |           5.5 |\n",
            "|  1 | Person and Vehicle search | 18-24              |                   1 |           5.5 |\n",
            "+----+---------------------------+--------------------+---------------------+---------------+\n"
          ]
        }
      ]
    },
    {
      "cell_type": "markdown",
      "source": [
        "# 10 . Merge 8 and 9 on column “type”\n",
        "Output: type, age_range_male, num_events_male, rank_male, age_range_female, num_events_female, rank_female"
      ],
      "metadata": {
        "id": "2Q3x7qZ52cW6"
      }
    },
    {
      "cell_type": "code",
      "source": [
        "merge2 = pd.merge(male_age,female_age)\n",
        "pretty_print(merge2,30)"
      ],
      "metadata": {
        "colab": {
          "base_uri": "https://localhost:8080/"
        },
        "id": "CEQ0Y7ib2cxq",
        "outputId": "ace874b1-3985-4cd0-df8d-70e1252869d0"
      },
      "execution_count": 49,
      "outputs": [
        {
          "output_type": "stream",
          "name": "stdout",
          "text": [
            "+----+---------------------------+------------------+-------------------+-------------+--------------------+---------------------+---------------+\n",
            "|    | type                      | age_range_male   |   num_events_male |   rank_male | age_range_female   |   num_events_female |   rank_female |\n",
            "|----+---------------------------+------------------+-------------------+-------------+--------------------+---------------------+---------------|\n",
            "|  0 | Person search             | over 34          |                31 |           1 | over 34            |                   4 |           2   |\n",
            "|  1 | Person search             | over 34          |                31 |           1 | 10-17              |                   2 |           3.5 |\n",
            "|  2 | Person search             | over 34          |                31 |           1 | 18-24              |                   2 |           3.5 |\n",
            "|  3 | Person search             | 18-24            |                30 |           2 | over 34            |                   4 |           2   |\n",
            "|  4 | Person search             | 18-24            |                30 |           2 | 10-17              |                   2 |           3.5 |\n",
            "|  5 | Person search             | 18-24            |                30 |           2 | 18-24              |                   2 |           3.5 |\n",
            "|  6 | Person search             | 10-17            |                28 |           3 | over 34            |                   4 |           2   |\n",
            "|  7 | Person search             | 10-17            |                28 |           3 | 10-17              |                   2 |           3.5 |\n",
            "|  8 | Person search             | 10-17            |                28 |           3 | 18-24              |                   2 |           3.5 |\n",
            "|  9 | Person search             | 25-34            |                27 |           4 | over 34            |                   4 |           2   |\n",
            "| 10 | Person search             | 25-34            |                27 |           4 | 10-17              |                   2 |           3.5 |\n",
            "| 11 | Person search             | 25-34            |                27 |           4 | 18-24              |                   2 |           3.5 |\n",
            "| 12 | Person and Vehicle search | 18-24            |                19 |           5 | 25-34              |                   7 |           1   |\n",
            "| 13 | Person and Vehicle search | 18-24            |                19 |           5 | 10-17              |                   1 |           5.5 |\n",
            "| 14 | Person and Vehicle search | 18-24            |                19 |           5 | 18-24              |                   1 |           5.5 |\n",
            "| 15 | Person and Vehicle search | 25-34            |                13 |           6 | 25-34              |                   7 |           1   |\n",
            "| 16 | Person and Vehicle search | 25-34            |                13 |           6 | 10-17              |                   1 |           5.5 |\n",
            "| 17 | Person and Vehicle search | 25-34            |                13 |           6 | 18-24              |                   1 |           5.5 |\n",
            "| 18 | Person and Vehicle search | over 34          |                12 |           7 | 25-34              |                   7 |           1   |\n",
            "| 19 | Person and Vehicle search | over 34          |                12 |           7 | 10-17              |                   1 |           5.5 |\n",
            "| 20 | Person and Vehicle search | over 34          |                12 |           7 | 18-24              |                   1 |           5.5 |\n",
            "| 21 | Person and Vehicle search | 10-17            |                 3 |           8 | 25-34              |                   7 |           1   |\n",
            "| 22 | Person and Vehicle search | 10-17            |                 3 |           8 | 10-17              |                   1 |           5.5 |\n",
            "| 23 | Person and Vehicle search | 10-17            |                 3 |           8 | 18-24              |                   1 |           5.5 |\n",
            "+----+---------------------------+------------------+-------------------+-------------+--------------------+---------------------+---------------+\n"
          ]
        }
      ]
    }
  ],
  "metadata": {
    "colab": {
      "provenance": [],
      "authorship_tag": "ABX9TyOnSADmseuxnJdJ974oeFqq",
      "include_colab_link": true
    },
    "kernelspec": {
      "display_name": "Python 3",
      "name": "python3"
    },
    "language_info": {
      "name": "python"
    }
  },
  "nbformat": 4,
  "nbformat_minor": 0
}