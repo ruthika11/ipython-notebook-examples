{
  "nbformat": 4,
  "nbformat_minor": 0,
  "metadata": {
    "colab": {
      "provenance": [],
      "authorship_tag": "ABX9TyNEhx824+qlO3UZNB+hLS4F",
      "include_colab_link": true
    },
    "kernelspec": {
      "name": "python3",
      "display_name": "Python 3"
    },
    "language_info": {
      "name": "python"
    }
  },
  "cells": [
    {
      "cell_type": "markdown",
      "metadata": {
        "id": "view-in-github",
        "colab_type": "text"
      },
      "source": [
        "<a href=\"https://colab.research.google.com/github/ruthika11/ipython-notebook-examples/blob/master/Open_crime_UK.ipynb\" target=\"_parent\"><img src=\"https://colab.research.google.com/assets/colab-badge.svg\" alt=\"Open In Colab\"/></a>"
      ]
    },
    {
      "cell_type": "markdown",
      "source": [
        "# **Questions**\n",
        "**1**.Top 10 Type by # events.   \n",
        "Output:\n",
        "type, num_events, rank\n",
        "\n",
        "**2**.Top 10 Ethnics by # events. Use column “Officer-defined ethnicity”     \n",
        "Output:\n",
        "type, office_num_events, office_ethnic_rank\n",
        "\n",
        "**3**.Top 10 Ethnics by # events. Use column “Self-defined ethnicity”   \n",
        "Output:\n",
        "type, self_num_events, self_ethnic_rank\n",
        "\n",
        "**4**.Merge 2 and 3 above on type.   \n",
        "Output:\n",
        "type, office_num_events, office_ethnic_rank, self_num_events, self_ethnic_rank\n",
        "\n",
        "**5**.Top 10 Type by Gender = Male.   \n",
        "Output:\n",
        "type, num_events_men, rank_men\n",
        "\n",
        "**6**.Top 10 Type by Gender = Female.   \n",
        "Output:\n",
        "type, num_events_men, rank_women\n",
        "\n",
        "**7**.Group bar chart plot (vertical) with output from 5 and 6.   \n",
        "[1][2]  \n",
        "Bar 1 -> Male   \n",
        "Bar 2 -> Female\n",
        "\n",
        "**8**.For Gender = Male, # events by “Age range”     \n",
        "Output:\n",
        "type, age_range_male, num_events_male, rank_male\n",
        "\n",
        "**9**.For Gender = Female, # events by “Age range”   \n",
        "Output:\n",
        "type, age_range_female, num_events_female, rank_female\n",
        "\n",
        "**10** .  Merge 8 and 9 on column “type”  \n",
        "Output:\n",
        "type, age_range_male, num_events_male, rank_male, age_range_female, num_events_female, rank_female\n",
        "\n"
      ],
      "metadata": {
        "id": "XI0gITnoUE4h"
      }
    },
    {
      "cell_type": "code",
      "execution_count": null,
      "metadata": {
        "id": "TnUgMRPiTt8r"
      },
      "outputs": [],
      "source": [
        "import csv\n",
        "import pandas as pd\n",
        "import numpy as np\n",
        "from tabulate import tabulate\n",
        "import seaborn as sns\n",
        "import datetime\n",
        "from dateutil import parser\n",
        "import matplotlib.pyplot as plt\n",
        "from google.colab import drive\n",
        "drive.mount(\"/content/drive/\")"
      ]
    },
    {
      "cell_type": "code",
      "source": [
        "!ls - ltr /content/drive/MyDrive/"
      ],
      "metadata": {
        "id": "VtS20ys3cJGd"
      },
      "execution_count": null,
      "outputs": []
    },
    {
      "cell_type": "code",
      "source": [
        "df1 ="
      ],
      "metadata": {
        "id": "dKe2CPBOcMOU"
      },
      "execution_count": null,
      "outputs": []
    }
  ]
}